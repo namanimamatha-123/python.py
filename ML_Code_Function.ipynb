{
 "cells": [
  {
   "cell_type": "code",
   "execution_count": 1,
   "id": "e22f2073",
   "metadata": {},
   "outputs": [],
   "source": [
    "import numpy as np\n",
    "import pandas as pd\n",
    "import matplotlib.pyplot as plt\n",
    "import seaborn as sns\n",
    "\n",
    "import warnings\n",
    "warnings.filterwarnings(\"ignore\")"
   ]
  },
  {
   "cell_type": "code",
   "execution_count": 2,
   "id": "04d217c7",
   "metadata": {},
   "outputs": [
    {
     "data": {
      "text/plain": [
       "(200, 5)"
      ]
     },
     "execution_count": 2,
     "metadata": {},
     "output_type": "execute_result"
    }
   ],
   "source": [
    "df=pd.read_csv(r\"C:\\Users\\saich\\Downloads\\Advertising.csv\")\n",
    "df.shape"
   ]
  },
  {
   "cell_type": "code",
   "execution_count": 3,
   "id": "cdfb141a",
   "metadata": {},
   "outputs": [
    {
     "data": {
      "text/html": [
       "<div>\n",
       "<style scoped>\n",
       "    .dataframe tbody tr th:only-of-type {\n",
       "        vertical-align: middle;\n",
       "    }\n",
       "\n",
       "    .dataframe tbody tr th {\n",
       "        vertical-align: top;\n",
       "    }\n",
       "\n",
       "    .dataframe thead th {\n",
       "        text-align: right;\n",
       "    }\n",
       "</style>\n",
       "<table border=\"1\" class=\"dataframe\">\n",
       "  <thead>\n",
       "    <tr style=\"text-align: right;\">\n",
       "      <th></th>\n",
       "      <th>Unnamed: 0</th>\n",
       "      <th>TV</th>\n",
       "      <th>Radio</th>\n",
       "      <th>Newspaper</th>\n",
       "      <th>Sales</th>\n",
       "    </tr>\n",
       "  </thead>\n",
       "  <tbody>\n",
       "    <tr>\n",
       "      <th>0</th>\n",
       "      <td>1</td>\n",
       "      <td>230.1</td>\n",
       "      <td>37.8</td>\n",
       "      <td>69.2</td>\n",
       "      <td>22.1</td>\n",
       "    </tr>\n",
       "    <tr>\n",
       "      <th>1</th>\n",
       "      <td>2</td>\n",
       "      <td>44.5</td>\n",
       "      <td>39.3</td>\n",
       "      <td>45.1</td>\n",
       "      <td>10.4</td>\n",
       "    </tr>\n",
       "    <tr>\n",
       "      <th>2</th>\n",
       "      <td>3</td>\n",
       "      <td>17.2</td>\n",
       "      <td>45.9</td>\n",
       "      <td>69.3</td>\n",
       "      <td>9.3</td>\n",
       "    </tr>\n",
       "    <tr>\n",
       "      <th>3</th>\n",
       "      <td>4</td>\n",
       "      <td>151.5</td>\n",
       "      <td>41.3</td>\n",
       "      <td>58.5</td>\n",
       "      <td>18.5</td>\n",
       "    </tr>\n",
       "    <tr>\n",
       "      <th>4</th>\n",
       "      <td>5</td>\n",
       "      <td>180.8</td>\n",
       "      <td>10.8</td>\n",
       "      <td>58.4</td>\n",
       "      <td>12.9</td>\n",
       "    </tr>\n",
       "  </tbody>\n",
       "</table>\n",
       "</div>"
      ],
      "text/plain": [
       "   Unnamed: 0     TV  Radio  Newspaper  Sales\n",
       "0           1  230.1   37.8       69.2   22.1\n",
       "1           2   44.5   39.3       45.1   10.4\n",
       "2           3   17.2   45.9       69.3    9.3\n",
       "3           4  151.5   41.3       58.5   18.5\n",
       "4           5  180.8   10.8       58.4   12.9"
      ]
     },
     "execution_count": 3,
     "metadata": {},
     "output_type": "execute_result"
    }
   ],
   "source": [
    "df.head()"
   ]
  },
  {
   "cell_type": "code",
   "execution_count": 4,
   "id": "7a711cbb",
   "metadata": {},
   "outputs": [],
   "source": [
    "df.drop(\"Unnamed: 0\",axis=1,inplace=True)"
   ]
  },
  {
   "cell_type": "code",
   "execution_count": 5,
   "id": "bbde1e2b",
   "metadata": {},
   "outputs": [
    {
     "data": {
      "text/html": [
       "<div>\n",
       "<style scoped>\n",
       "    .dataframe tbody tr th:only-of-type {\n",
       "        vertical-align: middle;\n",
       "    }\n",
       "\n",
       "    .dataframe tbody tr th {\n",
       "        vertical-align: top;\n",
       "    }\n",
       "\n",
       "    .dataframe thead th {\n",
       "        text-align: right;\n",
       "    }\n",
       "</style>\n",
       "<table border=\"1\" class=\"dataframe\">\n",
       "  <thead>\n",
       "    <tr style=\"text-align: right;\">\n",
       "      <th></th>\n",
       "      <th>TV</th>\n",
       "      <th>Radio</th>\n",
       "      <th>Newspaper</th>\n",
       "      <th>Sales</th>\n",
       "    </tr>\n",
       "  </thead>\n",
       "  <tbody>\n",
       "    <tr>\n",
       "      <th>TV</th>\n",
       "      <td>1.000000</td>\n",
       "      <td>0.054809</td>\n",
       "      <td>0.056648</td>\n",
       "      <td>0.782224</td>\n",
       "    </tr>\n",
       "    <tr>\n",
       "      <th>Radio</th>\n",
       "      <td>0.054809</td>\n",
       "      <td>1.000000</td>\n",
       "      <td>0.354104</td>\n",
       "      <td>0.576223</td>\n",
       "    </tr>\n",
       "    <tr>\n",
       "      <th>Newspaper</th>\n",
       "      <td>0.056648</td>\n",
       "      <td>0.354104</td>\n",
       "      <td>1.000000</td>\n",
       "      <td>0.228299</td>\n",
       "    </tr>\n",
       "    <tr>\n",
       "      <th>Sales</th>\n",
       "      <td>0.782224</td>\n",
       "      <td>0.576223</td>\n",
       "      <td>0.228299</td>\n",
       "      <td>1.000000</td>\n",
       "    </tr>\n",
       "  </tbody>\n",
       "</table>\n",
       "</div>"
      ],
      "text/plain": [
       "                 TV     Radio  Newspaper     Sales\n",
       "TV         1.000000  0.054809   0.056648  0.782224\n",
       "Radio      0.054809  1.000000   0.354104  0.576223\n",
       "Newspaper  0.056648  0.354104   1.000000  0.228299\n",
       "Sales      0.782224  0.576223   0.228299  1.000000"
      ]
     },
     "execution_count": 5,
     "metadata": {},
     "output_type": "execute_result"
    }
   ],
   "source": [
    "df.corr()"
   ]
  },
  {
   "cell_type": "code",
   "execution_count": 6,
   "id": "ecbc7b85",
   "metadata": {},
   "outputs": [
    {
     "data": {
      "text/html": [
       "<div>\n",
       "<style scoped>\n",
       "    .dataframe tbody tr th:only-of-type {\n",
       "        vertical-align: middle;\n",
       "    }\n",
       "\n",
       "    .dataframe tbody tr th {\n",
       "        vertical-align: top;\n",
       "    }\n",
       "\n",
       "    .dataframe thead th {\n",
       "        text-align: right;\n",
       "    }\n",
       "</style>\n",
       "<table border=\"1\" class=\"dataframe\">\n",
       "  <thead>\n",
       "    <tr style=\"text-align: right;\">\n",
       "      <th></th>\n",
       "      <th>TV</th>\n",
       "      <th>Radio</th>\n",
       "      <th>Newspaper</th>\n",
       "    </tr>\n",
       "  </thead>\n",
       "  <tbody>\n",
       "    <tr>\n",
       "      <th>0</th>\n",
       "      <td>230.1</td>\n",
       "      <td>37.8</td>\n",
       "      <td>69.2</td>\n",
       "    </tr>\n",
       "    <tr>\n",
       "      <th>1</th>\n",
       "      <td>44.5</td>\n",
       "      <td>39.3</td>\n",
       "      <td>45.1</td>\n",
       "    </tr>\n",
       "    <tr>\n",
       "      <th>2</th>\n",
       "      <td>17.2</td>\n",
       "      <td>45.9</td>\n",
       "      <td>69.3</td>\n",
       "    </tr>\n",
       "    <tr>\n",
       "      <th>3</th>\n",
       "      <td>151.5</td>\n",
       "      <td>41.3</td>\n",
       "      <td>58.5</td>\n",
       "    </tr>\n",
       "    <tr>\n",
       "      <th>4</th>\n",
       "      <td>180.8</td>\n",
       "      <td>10.8</td>\n",
       "      <td>58.4</td>\n",
       "    </tr>\n",
       "  </tbody>\n",
       "</table>\n",
       "</div>"
      ],
      "text/plain": [
       "      TV  Radio  Newspaper\n",
       "0  230.1   37.8       69.2\n",
       "1   44.5   39.3       45.1\n",
       "2   17.2   45.9       69.3\n",
       "3  151.5   41.3       58.5\n",
       "4  180.8   10.8       58.4"
      ]
     },
     "execution_count": 6,
     "metadata": {},
     "output_type": "execute_result"
    }
   ],
   "source": [
    "X=df[['TV', 'Radio', 'Newspaper']]\n",
    "X.head()"
   ]
  },
  {
   "cell_type": "code",
   "execution_count": 7,
   "id": "9987c4d6",
   "metadata": {},
   "outputs": [
    {
     "data": {
      "text/plain": [
       "0      22.1\n",
       "1      10.4\n",
       "2       9.3\n",
       "3      18.5\n",
       "4      12.9\n",
       "       ... \n",
       "195     7.6\n",
       "196     9.7\n",
       "197    12.8\n",
       "198    25.5\n",
       "199    13.4\n",
       "Name: Sales, Length: 200, dtype: float64"
      ]
     },
     "execution_count": 7,
     "metadata": {},
     "output_type": "execute_result"
    }
   ],
   "source": [
    "Y=df['Sales']\n",
    "Y"
   ]
  },
  {
   "cell_type": "code",
   "execution_count": 8,
   "id": "1fe2e4d0",
   "metadata": {},
   "outputs": [
    {
     "data": {
      "text/plain": [
       "(200, 3)"
      ]
     },
     "execution_count": 8,
     "metadata": {},
     "output_type": "execute_result"
    }
   ],
   "source": [
    "X.shape"
   ]
  },
  {
   "cell_type": "code",
   "execution_count": 9,
   "id": "70c52180",
   "metadata": {},
   "outputs": [],
   "source": [
    "X=df[['TV','Radio','Newspaper']]\n",
    "Y=df['Sales']\n",
    "from sklearn.model_selection import train_test_split\n",
    "X_train,X_test,Y_train,Y_test=train_test_split(X,Y,test_size=0.2)"
   ]
  },
  {
   "cell_type": "code",
   "execution_count": 10,
   "id": "d8d028ed",
   "metadata": {},
   "outputs": [
    {
     "data": {
      "text/plain": [
       "(160, 3)"
      ]
     },
     "execution_count": 10,
     "metadata": {},
     "output_type": "execute_result"
    }
   ],
   "source": [
    "X_train.shape"
   ]
  },
  {
   "cell_type": "code",
   "execution_count": 11,
   "id": "3ae59e09",
   "metadata": {},
   "outputs": [
    {
     "data": {
      "text/plain": [
       "(40, 3)"
      ]
     },
     "execution_count": 11,
     "metadata": {},
     "output_type": "execute_result"
    }
   ],
   "source": [
    "X_test.shape"
   ]
  },
  {
   "cell_type": "code",
   "execution_count": 12,
   "id": "b931391d",
   "metadata": {},
   "outputs": [
    {
     "data": {
      "text/plain": [
       "(160,)"
      ]
     },
     "execution_count": 12,
     "metadata": {},
     "output_type": "execute_result"
    }
   ],
   "source": [
    "Y_train.shape"
   ]
  },
  {
   "cell_type": "code",
   "execution_count": 13,
   "id": "d0fbabc2",
   "metadata": {},
   "outputs": [
    {
     "data": {
      "text/plain": [
       "(40,)"
      ]
     },
     "execution_count": 13,
     "metadata": {},
     "output_type": "execute_result"
    }
   ],
   "source": [
    "Y_test.shape"
   ]
  },
  {
   "cell_type": "code",
   "execution_count": 14,
   "id": "f99a2cc5",
   "metadata": {},
   "outputs": [
    {
     "data": {
      "text/html": [
       "<style>#sk-container-id-1 {color: black;background-color: white;}#sk-container-id-1 pre{padding: 0;}#sk-container-id-1 div.sk-toggleable {background-color: white;}#sk-container-id-1 label.sk-toggleable__label {cursor: pointer;display: block;width: 100%;margin-bottom: 0;padding: 0.3em;box-sizing: border-box;text-align: center;}#sk-container-id-1 label.sk-toggleable__label-arrow:before {content: \"▸\";float: left;margin-right: 0.25em;color: #696969;}#sk-container-id-1 label.sk-toggleable__label-arrow:hover:before {color: black;}#sk-container-id-1 div.sk-estimator:hover label.sk-toggleable__label-arrow:before {color: black;}#sk-container-id-1 div.sk-toggleable__content {max-height: 0;max-width: 0;overflow: hidden;text-align: left;background-color: #f0f8ff;}#sk-container-id-1 div.sk-toggleable__content pre {margin: 0.2em;color: black;border-radius: 0.25em;background-color: #f0f8ff;}#sk-container-id-1 input.sk-toggleable__control:checked~div.sk-toggleable__content {max-height: 200px;max-width: 100%;overflow: auto;}#sk-container-id-1 input.sk-toggleable__control:checked~label.sk-toggleable__label-arrow:before {content: \"▾\";}#sk-container-id-1 div.sk-estimator input.sk-toggleable__control:checked~label.sk-toggleable__label {background-color: #d4ebff;}#sk-container-id-1 div.sk-label input.sk-toggleable__control:checked~label.sk-toggleable__label {background-color: #d4ebff;}#sk-container-id-1 input.sk-hidden--visually {border: 0;clip: rect(1px 1px 1px 1px);clip: rect(1px, 1px, 1px, 1px);height: 1px;margin: -1px;overflow: hidden;padding: 0;position: absolute;width: 1px;}#sk-container-id-1 div.sk-estimator {font-family: monospace;background-color: #f0f8ff;border: 1px dotted black;border-radius: 0.25em;box-sizing: border-box;margin-bottom: 0.5em;}#sk-container-id-1 div.sk-estimator:hover {background-color: #d4ebff;}#sk-container-id-1 div.sk-parallel-item::after {content: \"\";width: 100%;border-bottom: 1px solid gray;flex-grow: 1;}#sk-container-id-1 div.sk-label:hover label.sk-toggleable__label {background-color: #d4ebff;}#sk-container-id-1 div.sk-serial::before {content: \"\";position: absolute;border-left: 1px solid gray;box-sizing: border-box;top: 0;bottom: 0;left: 50%;z-index: 0;}#sk-container-id-1 div.sk-serial {display: flex;flex-direction: column;align-items: center;background-color: white;padding-right: 0.2em;padding-left: 0.2em;position: relative;}#sk-container-id-1 div.sk-item {position: relative;z-index: 1;}#sk-container-id-1 div.sk-parallel {display: flex;align-items: stretch;justify-content: center;background-color: white;position: relative;}#sk-container-id-1 div.sk-item::before, #sk-container-id-1 div.sk-parallel-item::before {content: \"\";position: absolute;border-left: 1px solid gray;box-sizing: border-box;top: 0;bottom: 0;left: 50%;z-index: -1;}#sk-container-id-1 div.sk-parallel-item {display: flex;flex-direction: column;z-index: 1;position: relative;background-color: white;}#sk-container-id-1 div.sk-parallel-item:first-child::after {align-self: flex-end;width: 50%;}#sk-container-id-1 div.sk-parallel-item:last-child::after {align-self: flex-start;width: 50%;}#sk-container-id-1 div.sk-parallel-item:only-child::after {width: 0;}#sk-container-id-1 div.sk-dashed-wrapped {border: 1px dashed gray;margin: 0 0.4em 0.5em 0.4em;box-sizing: border-box;padding-bottom: 0.4em;background-color: white;}#sk-container-id-1 div.sk-label label {font-family: monospace;font-weight: bold;display: inline-block;line-height: 1.2em;}#sk-container-id-1 div.sk-label-container {text-align: center;}#sk-container-id-1 div.sk-container {/* jupyter's `normalize.less` sets `[hidden] { display: none; }` but bootstrap.min.css set `[hidden] { display: none !important; }` so we also need the `!important` here to be able to override the default hidden behavior on the sphinx rendered scikit-learn.org. See: https://github.com/scikit-learn/scikit-learn/issues/21755 */display: inline-block !important;position: relative;}#sk-container-id-1 div.sk-text-repr-fallback {display: none;}</style><div id=\"sk-container-id-1\" class=\"sk-top-container\"><div class=\"sk-text-repr-fallback\"><pre>LinearRegression()</pre><b>In a Jupyter environment, please rerun this cell to show the HTML representation or trust the notebook. <br />On GitHub, the HTML representation is unable to render, please try loading this page with nbviewer.org.</b></div><div class=\"sk-container\" hidden><div class=\"sk-item\"><div class=\"sk-estimator sk-toggleable\"><input class=\"sk-toggleable__control sk-hidden--visually\" id=\"sk-estimator-id-1\" type=\"checkbox\" checked><label for=\"sk-estimator-id-1\" class=\"sk-toggleable__label sk-toggleable__label-arrow\">LinearRegression</label><div class=\"sk-toggleable__content\"><pre>LinearRegression()</pre></div></div></div></div></div>"
      ],
      "text/plain": [
       "LinearRegression()"
      ]
     },
     "execution_count": 14,
     "metadata": {},
     "output_type": "execute_result"
    }
   ],
   "source": [
    "from sklearn.linear_model import LinearRegression\n",
    "regressor=LinearRegression()\n",
    "regressor.fit(X_train,Y_train)"
   ]
  },
  {
   "cell_type": "code",
   "execution_count": 15,
   "id": "0dc9f8be",
   "metadata": {},
   "outputs": [
    {
     "data": {
      "text/plain": [
       "array([ 0.04611906,  0.18997883, -0.00113447])"
      ]
     },
     "execution_count": 15,
     "metadata": {},
     "output_type": "execute_result"
    }
   ],
   "source": [
    "regressor.coef_"
   ]
  },
  {
   "cell_type": "code",
   "execution_count": 16,
   "id": "cb1e356a",
   "metadata": {},
   "outputs": [
    {
     "data": {
      "text/plain": [
       "2.901696078545248"
      ]
     },
     "execution_count": 16,
     "metadata": {},
     "output_type": "execute_result"
    }
   ],
   "source": [
    "regressor.intercept_"
   ]
  },
  {
   "cell_type": "code",
   "execution_count": 17,
   "id": "5abbecff",
   "metadata": {},
   "outputs": [],
   "source": [
    "#y=(0.04627757*x1)+(0.19143052*x2)+(-0.00599346*x3)"
   ]
  },
  {
   "cell_type": "code",
   "execution_count": 18,
   "id": "346f1a9b",
   "metadata": {},
   "outputs": [
    {
     "data": {
      "text/plain": [
       "array([12.6730545 , 17.1215491 , 16.07290382,  9.35176223, 20.94714272,\n",
       "       15.64851797, 23.35314854,  7.02458888, 13.91898696, 12.19306132,\n",
       "        7.10153287, 15.6692002 , 15.43906419,  6.56038502,  9.02542991,\n",
       "       21.20952113,  9.9669402 , 13.78964107, 10.59282516, 20.07200117,\n",
       "       11.88176159,  9.13564541,  9.78201076, 14.45733923,  4.45045277,\n",
       "       15.35185753, 12.36899776, 17.40212085, 10.44727139, 19.23917224,\n",
       "       17.85344889, 11.73519907, 12.41883377,  4.46823187, 20.54274034,\n",
       "       15.04419501, 24.24040704, 14.80910826, 17.04621253, 23.5262733 ])"
      ]
     },
     "execution_count": 18,
     "metadata": {},
     "output_type": "execute_result"
    }
   ],
   "source": [
    "regressor.predict(X_test)"
   ]
  },
  {
   "cell_type": "code",
   "execution_count": 19,
   "id": "dc1d9686",
   "metadata": {},
   "outputs": [],
   "source": [
    "Y_pred_train=regressor.predict(X_train)"
   ]
  },
  {
   "cell_type": "code",
   "execution_count": 20,
   "id": "424a8c11",
   "metadata": {},
   "outputs": [],
   "source": [
    "Y_pred_test=regressor.predict(X_test)"
   ]
  },
  {
   "cell_type": "code",
   "execution_count": 21,
   "id": "049d4850",
   "metadata": {},
   "outputs": [
    {
     "data": {
      "text/plain": [
       "array([12.6730545 , 17.1215491 , 16.07290382,  9.35176223, 20.94714272,\n",
       "       15.64851797, 23.35314854,  7.02458888, 13.91898696, 12.19306132,\n",
       "        7.10153287, 15.6692002 , 15.43906419,  6.56038502,  9.02542991,\n",
       "       21.20952113,  9.9669402 , 13.78964107, 10.59282516, 20.07200117,\n",
       "       11.88176159,  9.13564541,  9.78201076, 14.45733923,  4.45045277,\n",
       "       15.35185753, 12.36899776, 17.40212085, 10.44727139, 19.23917224,\n",
       "       17.85344889, 11.73519907, 12.41883377,  4.46823187, 20.54274034,\n",
       "       15.04419501, 24.24040704, 14.80910826, 17.04621253, 23.5262733 ])"
      ]
     },
     "execution_count": 21,
     "metadata": {},
     "output_type": "execute_result"
    }
   ],
   "source": [
    "Y_pred_test"
   ]
  },
  {
   "cell_type": "code",
   "execution_count": 22,
   "id": "2fbfc267",
   "metadata": {},
   "outputs": [
    {
     "data": {
      "text/plain": [
       "array([13.92776591, 24.25317211,  8.45413809, 18.00959837, 15.13815238,\n",
       "       20.03346484, 23.00264667, 12.95470997,  8.14788591, 19.33524928,\n",
       "       19.78469459, 17.42498812, 10.10590532, 18.30128094, 18.21280667,\n",
       "       13.22554012, 18.44604608, 12.50781163, 12.81187321, 16.44148409,\n",
       "       13.67061656, 10.84592685,  9.70408332, 17.2538962 ,  8.8339752 ,\n",
       "        9.50184047, 21.70262321, 13.59941225,  9.92204246,  9.15107654,\n",
       "       14.81479603, 15.56063113,  6.47486139, 18.47444242, 10.5941972 ,\n",
       "        3.55280483, 24.91460743, 10.02267561, 18.61922809, 16.61159622,\n",
       "       22.0037742 , 18.01985933, 14.79259247, 12.00247397, 11.75818765,\n",
       "       15.36007666,  7.88124228, 16.98824518, 15.63462668,  9.68813758,\n",
       "        8.16781843, 16.46967582, 12.00912386,  7.6049182 , 22.36705718,\n",
       "        6.81076847, 14.40506488,  7.63540266, 14.04860882,  7.84969323,\n",
       "       17.35841201, 20.91533697, 11.48096795, 15.3937071 , 23.33945744,\n",
       "       15.67989886,  5.28807222, 10.60846944, 14.2138591 , 12.82431191,\n",
       "       19.3517914 , 10.40023   , 20.61638595, 16.85168758, 20.87885978,\n",
       "       17.71876472, 14.69809747, 13.97351149, 17.36615844,  3.69614106,\n",
       "       10.19416121, 10.64630328, 12.06920238, 10.50222088, 16.32500159,\n",
       "       15.23297396, 14.26634015, 19.53815857, 23.37655688, 16.56215877,\n",
       "       12.3363536 , 11.37037891,  9.72294948,  6.59000741, 20.90191282,\n",
       "       18.95015426,  7.39052921, 17.00703795,  7.57286523,  9.84130182,\n",
       "       23.88507008, 21.32517301,  6.54277273, 14.26102227,  8.76960313,\n",
       "       10.0158313 , 12.29686713,  8.82044213, 20.75905263, 19.76725217,\n",
       "       16.42521933, 11.62684664, 15.00010109, 17.07777649,  8.42864956,\n",
       "       18.17593137,  5.72474569, 11.86225109, 19.49856478, 12.52494906,\n",
       "        8.52980339, 20.39751706, 13.25196731,  8.89261792,  4.43800784,\n",
       "       12.43193391, 18.56938194, 15.61923063, 14.00960139, 21.39166295,\n",
       "       12.15563217, 20.470525  , 12.85246395,  9.91687263, 10.02973583,\n",
       "       12.58617808, 21.82879206, 17.66849274, 13.85732989, 18.51271386,\n",
       "       15.21593112, 18.72825496,  5.35071009, 21.7373601 , 19.06229925,\n",
       "       12.6659656 , 16.37625596, 11.09341242,  6.11074594, 21.24154843,\n",
       "        7.83409778,  8.16806492,  8.87886546, 14.46991066, 11.47232832,\n",
       "       13.40499851, 15.22987755,  6.03631976, 10.38509311, 17.14679328])"
      ]
     },
     "execution_count": 22,
     "metadata": {},
     "output_type": "execute_result"
    }
   ],
   "source": [
    "Y_pred_train"
   ]
  },
  {
   "cell_type": "code",
   "execution_count": 23,
   "id": "5d42affa",
   "metadata": {},
   "outputs": [
    {
     "data": {
      "text/plain": [
       "112    14.1\n",
       "183    26.2\n",
       "132     5.7\n",
       "105    19.2\n",
       "123    15.2\n",
       "       ... \n",
       "167    12.2\n",
       "199    13.4\n",
       "189     6.7\n",
       "72      8.8\n",
       "187    17.3\n",
       "Name: Sales, Length: 160, dtype: float64"
      ]
     },
     "execution_count": 23,
     "metadata": {},
     "output_type": "execute_result"
    }
   ],
   "source": [
    "Y_train"
   ]
  },
  {
   "cell_type": "code",
   "execution_count": 24,
   "id": "c7ad708f",
   "metadata": {},
   "outputs": [
    {
     "data": {
      "text/html": [
       "<div>\n",
       "<style scoped>\n",
       "    .dataframe tbody tr th:only-of-type {\n",
       "        vertical-align: middle;\n",
       "    }\n",
       "\n",
       "    .dataframe tbody tr th {\n",
       "        vertical-align: top;\n",
       "    }\n",
       "\n",
       "    .dataframe thead th {\n",
       "        text-align: right;\n",
       "    }\n",
       "</style>\n",
       "<table border=\"1\" class=\"dataframe\">\n",
       "  <thead>\n",
       "    <tr style=\"text-align: right;\">\n",
       "      <th></th>\n",
       "      <th>TV</th>\n",
       "      <th>Radio</th>\n",
       "      <th>Newspaper</th>\n",
       "    </tr>\n",
       "  </thead>\n",
       "  <tbody>\n",
       "    <tr>\n",
       "      <th>112</th>\n",
       "      <td>175.7</td>\n",
       "      <td>15.4</td>\n",
       "      <td>2.4</td>\n",
       "    </tr>\n",
       "    <tr>\n",
       "      <th>183</th>\n",
       "      <td>287.6</td>\n",
       "      <td>43.0</td>\n",
       "      <td>71.8</td>\n",
       "    </tr>\n",
       "    <tr>\n",
       "      <th>132</th>\n",
       "      <td>8.4</td>\n",
       "      <td>27.2</td>\n",
       "      <td>2.1</td>\n",
       "    </tr>\n",
       "    <tr>\n",
       "      <th>105</th>\n",
       "      <td>137.9</td>\n",
       "      <td>46.4</td>\n",
       "      <td>59.0</td>\n",
       "    </tr>\n",
       "    <tr>\n",
       "      <th>123</th>\n",
       "      <td>123.1</td>\n",
       "      <td>34.6</td>\n",
       "      <td>12.4</td>\n",
       "    </tr>\n",
       "  </tbody>\n",
       "</table>\n",
       "</div>"
      ],
      "text/plain": [
       "        TV  Radio  Newspaper\n",
       "112  175.7   15.4        2.4\n",
       "183  287.6   43.0       71.8\n",
       "132    8.4   27.2        2.1\n",
       "105  137.9   46.4       59.0\n",
       "123  123.1   34.6       12.4"
      ]
     },
     "execution_count": 24,
     "metadata": {},
     "output_type": "execute_result"
    }
   ],
   "source": [
    "X_train.head()"
   ]
  },
  {
   "cell_type": "code",
   "execution_count": 1,
   "id": "0b4050bb",
   "metadata": {},
   "outputs": [
    {
     "data": {
      "text/plain": [
       "13.979737144443101"
      ]
     },
     "execution_count": 1,
     "metadata": {},
     "output_type": "execute_result"
    }
   ],
   "source": [
    "y=(0.04611906*175.7)+(0.1899*15.4)+(-0.0011344*2.4)+2.954880862443101\n",
    "y"
   ]
  },
  {
   "cell_type": "code",
   "execution_count": 2,
   "id": "1642a7c7",
   "metadata": {},
   "outputs": [
    {
     "data": {
      "text/plain": [
       "24.302972598443105"
      ]
     },
     "execution_count": 2,
     "metadata": {},
     "output_type": "execute_result"
    }
   ],
   "source": [
    "y=(0.04611906*287.6)+(0.1899*43.0)+(-0.0011344*71.8)+2.954880862443101\n",
    "y"
   ]
  },
  {
   "cell_type": "code",
   "execution_count": 27,
   "id": "f1859ac8",
   "metadata": {},
   "outputs": [],
   "source": [
    "# 15.59458137 value it predicted"
   ]
  },
  {
   "cell_type": "code",
   "execution_count": 28,
   "id": "f80680ce",
   "metadata": {},
   "outputs": [],
   "source": [
    "# How are my predictions perfect to what level predictions also have some error know "
   ]
  },
  {
   "cell_type": "code",
   "execution_count": 29,
   "id": "20a9796a",
   "metadata": {},
   "outputs": [
    {
     "data": {
      "text/plain": [
       "96     11.7\n",
       "27     15.9\n",
       "178    11.8\n",
       "51     10.7\n",
       "137    20.8\n",
       "87     16.0\n",
       "101    23.8\n",
       "10      8.6\n",
       "100    11.7\n",
       "177    11.7\n",
       "107     8.7\n",
       "25     12.0\n",
       "156    15.3\n",
       "117     9.4\n",
       "66      9.5\n",
       "69     22.3\n",
       "18     11.3\n",
       "174    11.5\n",
       "12      9.2\n",
       "176    20.2\n",
       "75      8.7\n",
       "125    10.6\n",
       "138     9.6\n",
       "120    15.5\n",
       "76      6.9\n",
       "146    13.2\n",
       "1      10.4\n",
       "74     17.0\n",
       "130     1.6\n",
       "92     19.4\n",
       "70     18.3\n",
       "88     12.9\n",
       "179    12.6\n",
       "91      7.3\n",
       "39     21.5\n",
       "26     15.0\n",
       "98     25.4\n",
       "110    13.4\n",
       "64     18.0\n",
       "36     25.4\n",
       "Name: Sales, dtype: float64"
      ]
     },
     "execution_count": 29,
     "metadata": {},
     "output_type": "execute_result"
    }
   ],
   "source": [
    "Y_test"
   ]
  },
  {
   "cell_type": "code",
   "execution_count": 30,
   "id": "cde49483",
   "metadata": {},
   "outputs": [
    {
     "data": {
      "text/plain": [
       "array([12.6730545 , 17.1215491 , 16.07290382,  9.35176223, 20.94714272,\n",
       "       15.64851797, 23.35314854,  7.02458888, 13.91898696, 12.19306132,\n",
       "        7.10153287, 15.6692002 , 15.43906419,  6.56038502,  9.02542991,\n",
       "       21.20952113,  9.9669402 , 13.78964107, 10.59282516, 20.07200117,\n",
       "       11.88176159,  9.13564541,  9.78201076, 14.45733923,  4.45045277,\n",
       "       15.35185753, 12.36899776, 17.40212085, 10.44727139, 19.23917224,\n",
       "       17.85344889, 11.73519907, 12.41883377,  4.46823187, 20.54274034,\n",
       "       15.04419501, 24.24040704, 14.80910826, 17.04621253, 23.5262733 ])"
      ]
     },
     "execution_count": 30,
     "metadata": {},
     "output_type": "execute_result"
    }
   ],
   "source": [
    "Y_pred_test"
   ]
  },
  {
   "cell_type": "code",
   "execution_count": 31,
   "id": "ea83542f",
   "metadata": {},
   "outputs": [],
   "source": [
    "# Errors with General Example Adjusted R square lies between 0 and 1"
   ]
  },
  {
   "cell_type": "code",
   "execution_count": 32,
   "id": "dd54c372",
   "metadata": {},
   "outputs": [],
   "source": [
    "#MAE\n",
    "from sklearn.metrics import mean_absolute_error,mean_squared_error,r2_score"
   ]
  },
  {
   "cell_type": "code",
   "execution_count": 33,
   "id": "ed60f5b1",
   "metadata": {},
   "outputs": [
    {
     "name": "stdout",
     "output_type": "stream",
     "text": [
      "2.299323976485044    4.740851927514633\n"
     ]
    }
   ],
   "source": [
    "mse_train=mean_squared_error(Y_train,Y_pred_train)\n",
    "mse_test=mean_squared_error(Y_test,Y_pred_test)\n",
    "print(mse_train,\"  \",mse_test)"
   ]
  },
  {
   "cell_type": "code",
   "execution_count": 34,
   "id": "29c2ad83",
   "metadata": {},
   "outputs": [
    {
     "name": "stdout",
     "output_type": "stream",
     "text": [
      "1.1742512582497704    1.52192419557398\n"
     ]
    }
   ],
   "source": [
    "mae_train=mean_absolute_error(Y_train,Y_pred_train)\n",
    "mae_test=mean_absolute_error(Y_test,Y_pred_test)\n",
    "print(mae_train,\"  \",mae_test)"
   ]
  },
  {
   "cell_type": "code",
   "execution_count": 35,
   "id": "79bff59d",
   "metadata": {},
   "outputs": [
    {
     "name": "stdout",
     "output_type": "stream",
     "text": [
      "1.5163521940779603    2.1773497485508924\n"
     ]
    }
   ],
   "source": [
    "rmse_train=np.sqrt(mean_squared_error(Y_train,Y_pred_train))\n",
    "rmse_test=np.sqrt(mean_squared_error(Y_test,Y_pred_test))\n",
    "print(rmse_train,\"  \",rmse_test)"
   ]
  },
  {
   "cell_type": "code",
   "execution_count": 36,
   "id": "83051715",
   "metadata": {},
   "outputs": [
    {
     "name": "stdout",
     "output_type": "stream",
     "text": [
      "0.9138354359398534    0.8345748945337653\n"
     ]
    }
   ],
   "source": [
    "r2_score_train=r2_score(Y_train,Y_pred_train)\n",
    "r2_score_test=r2_score(Y_test,Y_pred_test)\n",
    "print(r2_score_train,\"  \",r2_score_test)"
   ]
  },
  {
   "cell_type": "code",
   "execution_count": 37,
   "id": "4b79fe33",
   "metadata": {},
   "outputs": [
    {
     "data": {
      "text/plain": [
       "160"
      ]
     },
     "execution_count": 37,
     "metadata": {},
     "output_type": "execute_result"
    }
   ],
   "source": [
    "n_train=X_train.shape[0]\n",
    "n_train"
   ]
  },
  {
   "cell_type": "code",
   "execution_count": 38,
   "id": "4ee72294",
   "metadata": {},
   "outputs": [
    {
     "data": {
      "text/plain": [
       "40"
      ]
     },
     "execution_count": 38,
     "metadata": {},
     "output_type": "execute_result"
    }
   ],
   "source": [
    "n_test=X_test.shape[0]\n",
    "n_test"
   ]
  },
  {
   "cell_type": "code",
   "execution_count": 39,
   "id": "012d550b",
   "metadata": {},
   "outputs": [
    {
     "data": {
      "text/plain": [
       "3"
      ]
     },
     "execution_count": 39,
     "metadata": {},
     "output_type": "execute_result"
    }
   ],
   "source": [
    "p=len(X_train.columns)\n",
    "p"
   ]
  },
  {
   "cell_type": "code",
   "execution_count": 40,
   "id": "b708faab",
   "metadata": {},
   "outputs": [
    {
     "name": "stdout",
     "output_type": "stream",
     "text": [
      "91.21784250925428     82.07894690782457\n"
     ]
    }
   ],
   "source": [
    "adj_r2_score_train=1-(((1-r2_score_train)*(n_train-1))/(n_train-p-1))\n",
    "adj_r2_score_test=1-(((1-r2_score_test)*(n_test-1))/(n_test-p-1))\n",
    "print(adj_r2_score_train*100,\"   \",adj_r2_score_test*100)"
   ]
  },
  {
   "cell_type": "markdown",
   "id": "da238dc1",
   "metadata": {},
   "source": [
    "# Task exclude News paper Column and do the same and say whether They are useful or not"
   ]
  },
  {
   "cell_type": "code",
   "execution_count": 41,
   "id": "111baad4",
   "metadata": {},
   "outputs": [
    {
     "data": {
      "text/html": [
       "<div>\n",
       "<style scoped>\n",
       "    .dataframe tbody tr th:only-of-type {\n",
       "        vertical-align: middle;\n",
       "    }\n",
       "\n",
       "    .dataframe tbody tr th {\n",
       "        vertical-align: top;\n",
       "    }\n",
       "\n",
       "    .dataframe thead th {\n",
       "        text-align: right;\n",
       "    }\n",
       "</style>\n",
       "<table border=\"1\" class=\"dataframe\">\n",
       "  <thead>\n",
       "    <tr style=\"text-align: right;\">\n",
       "      <th></th>\n",
       "      <th>TV</th>\n",
       "      <th>Radio</th>\n",
       "    </tr>\n",
       "  </thead>\n",
       "  <tbody>\n",
       "    <tr>\n",
       "      <th>0</th>\n",
       "      <td>230.1</td>\n",
       "      <td>37.8</td>\n",
       "    </tr>\n",
       "    <tr>\n",
       "      <th>1</th>\n",
       "      <td>44.5</td>\n",
       "      <td>39.3</td>\n",
       "    </tr>\n",
       "    <tr>\n",
       "      <th>2</th>\n",
       "      <td>17.2</td>\n",
       "      <td>45.9</td>\n",
       "    </tr>\n",
       "    <tr>\n",
       "      <th>3</th>\n",
       "      <td>151.5</td>\n",
       "      <td>41.3</td>\n",
       "    </tr>\n",
       "    <tr>\n",
       "      <th>4</th>\n",
       "      <td>180.8</td>\n",
       "      <td>10.8</td>\n",
       "    </tr>\n",
       "  </tbody>\n",
       "</table>\n",
       "</div>"
      ],
      "text/plain": [
       "      TV  Radio\n",
       "0  230.1   37.8\n",
       "1   44.5   39.3\n",
       "2   17.2   45.9\n",
       "3  151.5   41.3\n",
       "4  180.8   10.8"
      ]
     },
     "execution_count": 41,
     "metadata": {},
     "output_type": "execute_result"
    }
   ],
   "source": [
    "X=df[['TV', 'Radio']]\n",
    "X.head()"
   ]
  },
  {
   "cell_type": "code",
   "execution_count": 42,
   "id": "95a60e63",
   "metadata": {},
   "outputs": [
    {
     "data": {
      "text/plain": [
       "0      22.1\n",
       "1      10.4\n",
       "2       9.3\n",
       "3      18.5\n",
       "4      12.9\n",
       "       ... \n",
       "195     7.6\n",
       "196     9.7\n",
       "197    12.8\n",
       "198    25.5\n",
       "199    13.4\n",
       "Name: Sales, Length: 200, dtype: float64"
      ]
     },
     "execution_count": 42,
     "metadata": {},
     "output_type": "execute_result"
    }
   ],
   "source": [
    "Y=df['Sales']\n",
    "Y"
   ]
  },
  {
   "cell_type": "code",
   "execution_count": 43,
   "id": "3abdf6c8",
   "metadata": {},
   "outputs": [
    {
     "data": {
      "text/plain": [
       "(200, 2)"
      ]
     },
     "execution_count": 43,
     "metadata": {},
     "output_type": "execute_result"
    }
   ],
   "source": [
    "X.shape"
   ]
  },
  {
   "cell_type": "code",
   "execution_count": 44,
   "id": "1d7e7323",
   "metadata": {},
   "outputs": [],
   "source": [
    "X=df[['TV','Radio']]\n",
    "Y=df['Sales']\n",
    "from sklearn.model_selection import train_test_split\n",
    "X_train,X_test,Y_train,Y_test=train_test_split(X,Y,test_size=0.2)"
   ]
  },
  {
   "cell_type": "code",
   "execution_count": 45,
   "id": "746ca751",
   "metadata": {},
   "outputs": [
    {
     "data": {
      "text/plain": [
       "(160, 2)"
      ]
     },
     "execution_count": 45,
     "metadata": {},
     "output_type": "execute_result"
    }
   ],
   "source": [
    "X_train.shape"
   ]
  },
  {
   "cell_type": "code",
   "execution_count": 46,
   "id": "b61645d2",
   "metadata": {},
   "outputs": [
    {
     "data": {
      "text/plain": [
       "(40, 2)"
      ]
     },
     "execution_count": 46,
     "metadata": {},
     "output_type": "execute_result"
    }
   ],
   "source": [
    "X_test.shape"
   ]
  },
  {
   "cell_type": "code",
   "execution_count": 47,
   "id": "0274922f",
   "metadata": {},
   "outputs": [
    {
     "data": {
      "text/plain": [
       "(160,)"
      ]
     },
     "execution_count": 47,
     "metadata": {},
     "output_type": "execute_result"
    }
   ],
   "source": [
    "Y_train.shape"
   ]
  },
  {
   "cell_type": "code",
   "execution_count": 48,
   "id": "11388d37",
   "metadata": {},
   "outputs": [
    {
     "data": {
      "text/plain": [
       "(40,)"
      ]
     },
     "execution_count": 48,
     "metadata": {},
     "output_type": "execute_result"
    }
   ],
   "source": [
    "Y_test.shape"
   ]
  },
  {
   "cell_type": "code",
   "execution_count": 49,
   "id": "0aad378c",
   "metadata": {},
   "outputs": [
    {
     "data": {
      "text/html": [
       "<style>#sk-container-id-2 {color: black;background-color: white;}#sk-container-id-2 pre{padding: 0;}#sk-container-id-2 div.sk-toggleable {background-color: white;}#sk-container-id-2 label.sk-toggleable__label {cursor: pointer;display: block;width: 100%;margin-bottom: 0;padding: 0.3em;box-sizing: border-box;text-align: center;}#sk-container-id-2 label.sk-toggleable__label-arrow:before {content: \"▸\";float: left;margin-right: 0.25em;color: #696969;}#sk-container-id-2 label.sk-toggleable__label-arrow:hover:before {color: black;}#sk-container-id-2 div.sk-estimator:hover label.sk-toggleable__label-arrow:before {color: black;}#sk-container-id-2 div.sk-toggleable__content {max-height: 0;max-width: 0;overflow: hidden;text-align: left;background-color: #f0f8ff;}#sk-container-id-2 div.sk-toggleable__content pre {margin: 0.2em;color: black;border-radius: 0.25em;background-color: #f0f8ff;}#sk-container-id-2 input.sk-toggleable__control:checked~div.sk-toggleable__content {max-height: 200px;max-width: 100%;overflow: auto;}#sk-container-id-2 input.sk-toggleable__control:checked~label.sk-toggleable__label-arrow:before {content: \"▾\";}#sk-container-id-2 div.sk-estimator input.sk-toggleable__control:checked~label.sk-toggleable__label {background-color: #d4ebff;}#sk-container-id-2 div.sk-label input.sk-toggleable__control:checked~label.sk-toggleable__label {background-color: #d4ebff;}#sk-container-id-2 input.sk-hidden--visually {border: 0;clip: rect(1px 1px 1px 1px);clip: rect(1px, 1px, 1px, 1px);height: 1px;margin: -1px;overflow: hidden;padding: 0;position: absolute;width: 1px;}#sk-container-id-2 div.sk-estimator {font-family: monospace;background-color: #f0f8ff;border: 1px dotted black;border-radius: 0.25em;box-sizing: border-box;margin-bottom: 0.5em;}#sk-container-id-2 div.sk-estimator:hover {background-color: #d4ebff;}#sk-container-id-2 div.sk-parallel-item::after {content: \"\";width: 100%;border-bottom: 1px solid gray;flex-grow: 1;}#sk-container-id-2 div.sk-label:hover label.sk-toggleable__label {background-color: #d4ebff;}#sk-container-id-2 div.sk-serial::before {content: \"\";position: absolute;border-left: 1px solid gray;box-sizing: border-box;top: 0;bottom: 0;left: 50%;z-index: 0;}#sk-container-id-2 div.sk-serial {display: flex;flex-direction: column;align-items: center;background-color: white;padding-right: 0.2em;padding-left: 0.2em;position: relative;}#sk-container-id-2 div.sk-item {position: relative;z-index: 1;}#sk-container-id-2 div.sk-parallel {display: flex;align-items: stretch;justify-content: center;background-color: white;position: relative;}#sk-container-id-2 div.sk-item::before, #sk-container-id-2 div.sk-parallel-item::before {content: \"\";position: absolute;border-left: 1px solid gray;box-sizing: border-box;top: 0;bottom: 0;left: 50%;z-index: -1;}#sk-container-id-2 div.sk-parallel-item {display: flex;flex-direction: column;z-index: 1;position: relative;background-color: white;}#sk-container-id-2 div.sk-parallel-item:first-child::after {align-self: flex-end;width: 50%;}#sk-container-id-2 div.sk-parallel-item:last-child::after {align-self: flex-start;width: 50%;}#sk-container-id-2 div.sk-parallel-item:only-child::after {width: 0;}#sk-container-id-2 div.sk-dashed-wrapped {border: 1px dashed gray;margin: 0 0.4em 0.5em 0.4em;box-sizing: border-box;padding-bottom: 0.4em;background-color: white;}#sk-container-id-2 div.sk-label label {font-family: monospace;font-weight: bold;display: inline-block;line-height: 1.2em;}#sk-container-id-2 div.sk-label-container {text-align: center;}#sk-container-id-2 div.sk-container {/* jupyter's `normalize.less` sets `[hidden] { display: none; }` but bootstrap.min.css set `[hidden] { display: none !important; }` so we also need the `!important` here to be able to override the default hidden behavior on the sphinx rendered scikit-learn.org. See: https://github.com/scikit-learn/scikit-learn/issues/21755 */display: inline-block !important;position: relative;}#sk-container-id-2 div.sk-text-repr-fallback {display: none;}</style><div id=\"sk-container-id-2\" class=\"sk-top-container\"><div class=\"sk-text-repr-fallback\"><pre>LinearRegression()</pre><b>In a Jupyter environment, please rerun this cell to show the HTML representation or trust the notebook. <br />On GitHub, the HTML representation is unable to render, please try loading this page with nbviewer.org.</b></div><div class=\"sk-container\" hidden><div class=\"sk-item\"><div class=\"sk-estimator sk-toggleable\"><input class=\"sk-toggleable__control sk-hidden--visually\" id=\"sk-estimator-id-2\" type=\"checkbox\" checked><label for=\"sk-estimator-id-2\" class=\"sk-toggleable__label sk-toggleable__label-arrow\">LinearRegression</label><div class=\"sk-toggleable__content\"><pre>LinearRegression()</pre></div></div></div></div></div>"
      ],
      "text/plain": [
       "LinearRegression()"
      ]
     },
     "execution_count": 49,
     "metadata": {},
     "output_type": "execute_result"
    }
   ],
   "source": [
    "from sklearn.linear_model import LinearRegression\n",
    "regressor1=LinearRegression()\n",
    "regressor1.fit(X_train,Y_train)"
   ]
  },
  {
   "cell_type": "code",
   "execution_count": 50,
   "id": "b24ddb0b",
   "metadata": {},
   "outputs": [
    {
     "data": {
      "text/plain": [
       "array([0.04492436, 0.19268285])"
      ]
     },
     "execution_count": 50,
     "metadata": {},
     "output_type": "execute_result"
    }
   ],
   "source": [
    "regressor1.coef_"
   ]
  },
  {
   "cell_type": "code",
   "execution_count": 51,
   "id": "b54722bd",
   "metadata": {},
   "outputs": [
    {
     "data": {
      "text/plain": [
       "2.917588170849598"
      ]
     },
     "execution_count": 51,
     "metadata": {},
     "output_type": "execute_result"
    }
   ],
   "source": [
    "regressor1.intercept_"
   ]
  },
  {
   "cell_type": "code",
   "execution_count": 52,
   "id": "7c085fa2",
   "metadata": {},
   "outputs": [
    {
     "data": {
      "text/plain": [
       "array([18.06638321, 19.31647402,  7.00464885, 24.77933467,  7.57326016,\n",
       "       11.85089851, 15.11460345, 15.79132892, 16.34251414, 16.65457153,\n",
       "       21.09775415, 10.44002427, 14.14352874,  6.57424705,  6.52052178,\n",
       "        9.89507559, 23.7508162 ,  5.34662524, 18.44424654, 14.56480123,\n",
       "       22.25588423, 10.55320039, 13.23473226, 17.18723653, 11.96945275,\n",
       "       13.12088711, 17.30480699, 20.88677997, 16.3030006 ,  8.7149684 ,\n",
       "        8.92139697, 12.37949075,  9.10864994,  9.58657319, 12.53443003,\n",
       "       21.22203397,  8.65992412, 16.28415199,  7.9072742 , 12.28389057])"
      ]
     },
     "execution_count": 52,
     "metadata": {},
     "output_type": "execute_result"
    }
   ],
   "source": [
    "regressor1.predict(X_test)"
   ]
  },
  {
   "cell_type": "code",
   "execution_count": 53,
   "id": "01a31cb2",
   "metadata": {},
   "outputs": [],
   "source": [
    "Y_pred_train=regressor1.predict(X_train)"
   ]
  },
  {
   "cell_type": "code",
   "execution_count": 54,
   "id": "f1858e09",
   "metadata": {},
   "outputs": [],
   "source": [
    "Y_pred_test=regressor1.predict(X_test)"
   ]
  },
  {
   "cell_type": "code",
   "execution_count": 55,
   "id": "7f001937",
   "metadata": {},
   "outputs": [
    {
     "data": {
      "text/plain": [
       "array([18.06638321, 19.31647402,  7.00464885, 24.77933467,  7.57326016,\n",
       "       11.85089851, 15.11460345, 15.79132892, 16.34251414, 16.65457153,\n",
       "       21.09775415, 10.44002427, 14.14352874,  6.57424705,  6.52052178,\n",
       "        9.89507559, 23.7508162 ,  5.34662524, 18.44424654, 14.56480123,\n",
       "       22.25588423, 10.55320039, 13.23473226, 17.18723653, 11.96945275,\n",
       "       13.12088711, 17.30480699, 20.88677997, 16.3030006 ,  8.7149684 ,\n",
       "        8.92139697, 12.37949075,  9.10864994,  9.58657319, 12.53443003,\n",
       "       21.22203397,  8.65992412, 16.28415199,  7.9072742 , 12.28389057])"
      ]
     },
     "execution_count": 55,
     "metadata": {},
     "output_type": "execute_result"
    }
   ],
   "source": [
    "Y_pred_test"
   ]
  },
  {
   "cell_type": "code",
   "execution_count": 56,
   "id": "d383c2d1",
   "metadata": {},
   "outputs": [
    {
     "data": {
      "text/plain": [
       "array([23.22755575, 21.11596643, 21.52885768, 17.03263105,  8.99713887,\n",
       "       17.68143036, 17.06052311,  7.943384  , 24.12319649, 10.96660941,\n",
       "        8.14417968, 12.49079198, 20.81707841, 20.22759234, 13.83097404,\n",
       "       12.48915822,  6.54062941, 14.33471686, 15.7136385 , 20.67409441,\n",
       "       19.22048004, 20.0227239 , 11.92642375, 17.02623644, 12.38983273,\n",
       "       16.43015957,  7.39892721, 21.37157608,  6.08913619,  9.17217355,\n",
       "       11.49444135, 10.76336109, 17.45149042, 15.14233884, 15.79197066,\n",
       "        6.87204636, 12.09408004,  9.83982147, 14.4804492 , 19.89582111,\n",
       "       11.34222994, 18.42353527, 12.66115027, 17.35344983,  9.82909251,\n",
       "       12.06664035, 14.98288665,  9.99846019,  7.80931947,  9.89692459,\n",
       "       15.00160447,  8.76210286,  5.33689912, 13.73730192,  7.67103093,\n",
       "       20.79430147, 14.67302031, 18.20614744, 18.50365105, 14.56531359,\n",
       "        8.85486342, 17.14161044, 18.88140946, 11.7978218 , 21.69128028,\n",
       "        5.70640709, 15.11051163, 12.73062153, 13.56388735, 16.3115985 ,\n",
       "        3.70857165, 20.78191969, 10.45371824, 18.44040949, 12.01285509,\n",
       "       17.75812334,  8.09360878, 15.40259219, 13.01565209, 15.27044207,\n",
       "       15.419991  , 15.11920763, 13.20989648, 11.01516099,  9.89774489,\n",
       "       22.88388099,  6.5039555 , 11.82073635, 14.64150786,  9.58917027,\n",
       "       12.61136555, 19.24683785, 13.44308348, 10.74995601, 18.06729477,\n",
       "        3.58317042,  7.48660534, 15.51768954,  9.97635228, 15.44823051,\n",
       "       21.94471252, 18.70315501, 10.60564759, 10.09101773,  4.49144912,\n",
       "        9.49064461,  9.07270363, 19.57443822, 10.2118543 , 19.45138471,\n",
       "        7.0365551 , 14.14006643, 10.48009509, 11.64409519,  8.53592635,\n",
       "       12.39445056, 13.82243472, 12.73579664, 14.15459975,  6.16020852,\n",
       "       20.53809501, 15.67457734, 17.73202172, 12.46903153, 11.58228297,\n",
       "       24.08265965, 23.34740854, 18.05314161, 17.0539977 , 16.50227426,\n",
       "       13.03530735, 10.57927614, 14.86889706, 18.26264011, 23.18954377,\n",
       "       20.26848346, 14.1074721 ,  4.48028684, 16.16879164, 13.77404806,\n",
       "        8.17741716, 13.66565184, 21.44469502,  9.6124718 ,  4.46130061,\n",
       "        9.27774921, 16.76709909, 19.15249669, 20.42448557, 18.4259157 ,\n",
       "       13.778114  , 23.28465205, 17.24444457, 14.42930055, 15.3903085 ,\n",
       "       16.92173044, 19.68287937,  8.39035209, 12.09705045,  9.97197159])"
      ]
     },
     "execution_count": 56,
     "metadata": {},
     "output_type": "execute_result"
    }
   ],
   "source": [
    "Y_pred_train"
   ]
  },
  {
   "cell_type": "code",
   "execution_count": 57,
   "id": "03377254",
   "metadata": {},
   "outputs": [
    {
     "data": {
      "text/plain": [
       "101    23.8\n",
       "69     22.3\n",
       "30     21.4\n",
       "187    17.3\n",
       "44      8.5\n",
       "       ... \n",
       "27     15.9\n",
       "139    20.7\n",
       "191     9.9\n",
       "75      8.7\n",
       "151    11.6\n",
       "Name: Sales, Length: 160, dtype: float64"
      ]
     },
     "execution_count": 57,
     "metadata": {},
     "output_type": "execute_result"
    }
   ],
   "source": [
    "Y_train"
   ]
  },
  {
   "cell_type": "code",
   "execution_count": 58,
   "id": "5484b0a4",
   "metadata": {},
   "outputs": [
    {
     "data": {
      "text/plain": [
       "20     18.0\n",
       "28     18.9\n",
       "10      8.6\n",
       "175    27.0\n",
       "32      9.6\n",
       "173    11.7\n",
       "123    15.2\n",
       "178    11.8\n",
       "95     16.9\n",
       "62     15.7\n",
       "111    21.8\n",
       "94     11.5\n",
       "135    11.6\n",
       "22      5.6\n",
       "127     8.8\n",
       "90     11.2\n",
       "198    25.5\n",
       "195     7.6\n",
       "188    15.9\n",
       "83     13.6\n",
       "128    24.7\n",
       "158     7.3\n",
       "63     14.0\n",
       "11     17.4\n",
       "67     13.4\n",
       "4      12.9\n",
       "41     17.1\n",
       "15     22.4\n",
       "113    15.9\n",
       "143    10.4\n",
       "78      5.3\n",
       "159    12.9\n",
       "125    10.6\n",
       "145    10.3\n",
       "2       9.3\n",
       "93     22.2\n",
       "56      5.5\n",
       "152    16.6\n",
       "129     9.7\n",
       "179    12.6\n",
       "Name: Sales, dtype: float64"
      ]
     },
     "execution_count": 58,
     "metadata": {},
     "output_type": "execute_result"
    }
   ],
   "source": [
    "Y_test"
   ]
  },
  {
   "cell_type": "code",
   "execution_count": 59,
   "id": "acbfd424",
   "metadata": {},
   "outputs": [
    {
     "data": {
      "text/plain": [
       "array([18.06638321, 19.31647402,  7.00464885, 24.77933467,  7.57326016,\n",
       "       11.85089851, 15.11460345, 15.79132892, 16.34251414, 16.65457153,\n",
       "       21.09775415, 10.44002427, 14.14352874,  6.57424705,  6.52052178,\n",
       "        9.89507559, 23.7508162 ,  5.34662524, 18.44424654, 14.56480123,\n",
       "       22.25588423, 10.55320039, 13.23473226, 17.18723653, 11.96945275,\n",
       "       13.12088711, 17.30480699, 20.88677997, 16.3030006 ,  8.7149684 ,\n",
       "        8.92139697, 12.37949075,  9.10864994,  9.58657319, 12.53443003,\n",
       "       21.22203397,  8.65992412, 16.28415199,  7.9072742 , 12.28389057])"
      ]
     },
     "execution_count": 59,
     "metadata": {},
     "output_type": "execute_result"
    }
   ],
   "source": [
    "Y_pred_test"
   ]
  },
  {
   "cell_type": "code",
   "execution_count": 60,
   "id": "10db9e12",
   "metadata": {},
   "outputs": [],
   "source": [
    "from sklearn.metrics import mean_absolute_error,mean_squared_error,r2_score"
   ]
  },
  {
   "cell_type": "code",
   "execution_count": 61,
   "id": "2fe88ea8",
   "metadata": {},
   "outputs": [
    {
     "name": "stdout",
     "output_type": "stream",
     "text": [
      "2.705400585970681    3.1493071336506526\n"
     ]
    }
   ],
   "source": [
    "mse_train=mean_squared_error(Y_train,Y_pred_train)\n",
    "mse_test=mean_squared_error(Y_test,Y_pred_test)\n",
    "print(mse_train,\"  \",mse_test)"
   ]
  },
  {
   "cell_type": "code",
   "execution_count": 62,
   "id": "24967457",
   "metadata": {},
   "outputs": [
    {
     "name": "stdout",
     "output_type": "stream",
     "text": [
      "1.2116970939078313    1.4179457174965058\n"
     ]
    }
   ],
   "source": [
    "mae_train=mean_absolute_error(Y_train,Y_pred_train)\n",
    "mae_test=mean_absolute_error(Y_test,Y_pred_test)\n",
    "print(mae_train,\"  \",mae_test)"
   ]
  },
  {
   "cell_type": "code",
   "execution_count": 63,
   "id": "034cfadd",
   "metadata": {},
   "outputs": [
    {
     "name": "stdout",
     "output_type": "stream",
     "text": [
      "1.644810197551888    1.7746287312141242\n"
     ]
    }
   ],
   "source": [
    "rmse_train=np.sqrt(mean_squared_error(Y_train,Y_pred_train))\n",
    "rmse_test=np.sqrt(mean_squared_error(Y_test,Y_pred_test))\n",
    "print(rmse_train,\"  \",rmse_test)"
   ]
  },
  {
   "cell_type": "code",
   "execution_count": 64,
   "id": "68ed7904",
   "metadata": {},
   "outputs": [
    {
     "name": "stdout",
     "output_type": "stream",
     "text": [
      "0.8974508050176198    0.8946398479920493\n"
     ]
    }
   ],
   "source": [
    "r2_score_train=r2_score(Y_train,Y_pred_train)\n",
    "r2_score_test=r2_score(Y_test,Y_pred_test)\n",
    "print(r2_score_train,\"  \",r2_score_test)"
   ]
  },
  {
   "cell_type": "code",
   "execution_count": 65,
   "id": "ca4bfc0a",
   "metadata": {},
   "outputs": [
    {
     "data": {
      "text/plain": [
       "160"
      ]
     },
     "execution_count": 65,
     "metadata": {},
     "output_type": "execute_result"
    }
   ],
   "source": [
    "n_train=X_train.shape[0]\n",
    "n_train"
   ]
  },
  {
   "cell_type": "code",
   "execution_count": 66,
   "id": "2a125b0c",
   "metadata": {},
   "outputs": [
    {
     "data": {
      "text/plain": [
       "40"
      ]
     },
     "execution_count": 66,
     "metadata": {},
     "output_type": "execute_result"
    }
   ],
   "source": [
    "n_test=X_test.shape[0]\n",
    "n_test"
   ]
  },
  {
   "cell_type": "code",
   "execution_count": 67,
   "id": "ad56e558",
   "metadata": {},
   "outputs": [
    {
     "data": {
      "text/plain": [
       "2"
      ]
     },
     "execution_count": 67,
     "metadata": {},
     "output_type": "execute_result"
    }
   ],
   "source": [
    "p=len(X_train.columns)\n",
    "p"
   ]
  },
  {
   "cell_type": "code",
   "execution_count": 68,
   "id": "bbec5743",
   "metadata": {},
   "outputs": [
    {
     "name": "stdout",
     "output_type": "stream",
     "text": [
      "89.61444458458698     88.89447046402682\n"
     ]
    }
   ],
   "source": [
    "adj_r2_score_train=1-(((1-r2_score_train)*(n_train-1))/(n_train-p-1))\n",
    "adj_r2_score_test=1-(((1-r2_score_test)*(n_test-1))/(n_test-p-1))\n",
    "print(adj_r2_score_train*100,\"   \",adj_r2_score_test*100)"
   ]
  },
  {
   "cell_type": "code",
   "execution_count": null,
   "id": "838e9203",
   "metadata": {},
   "outputs": [],
   "source": []
  }
 ],
 "metadata": {
  "kernelspec": {
   "display_name": "Python 3 (ipykernel)",
   "language": "python",
   "name": "python3"
  },
  "language_info": {
   "codemirror_mode": {
    "name": "ipython",
    "version": 3
   },
   "file_extension": ".py",
   "mimetype": "text/x-python",
   "name": "python",
   "nbconvert_exporter": "python",
   "pygments_lexer": "ipython3",
   "version": "3.12.7"
  }
 },
 "nbformat": 4,
 "nbformat_minor": 5
}
