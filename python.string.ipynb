{
 "cells": [
  {
   "cell_type": "code",
   "execution_count": 1,
   "id": "02c78753",
   "metadata": {},
   "outputs": [
    {
     "name": "stdout",
     "output_type": "stream",
     "text": [
      "Good Afternoon\n"
     ]
    }
   ],
   "source": [
    "print(\"Good Afternoon\")"
   ]
  },
  {
   "cell_type": "code",
   "execution_count": 2,
   "id": "bfb63a10",
   "metadata": {},
   "outputs": [
    {
     "name": "stdout",
     "output_type": "stream",
     "text": [
      "30\n"
     ]
    }
   ],
   "source": [
    "a=10\n",
    "b=20\n",
    "c=a+b\n",
    "print(c)"
   ]
  },
  {
   "cell_type": "code",
   "execution_count": 3,
   "id": "e3a10170",
   "metadata": {},
   "outputs": [
    {
     "name": "stdout",
     "output_type": "stream",
     "text": [
      "Addition= 30\n"
     ]
    }
   ],
   "source": [
    "a=10\n",
    "b=20\n",
    "c=a+b\n",
    "print(\"Addition=\",c)"
   ]
  },
  {
   "cell_type": "code",
   "execution_count": 4,
   "id": "611899cb",
   "metadata": {},
   "outputs": [
    {
     "name": "stdout",
     "output_type": "stream",
     "text": [
      "Addition of a= 10 and b= 20 is c= 30\n"
     ]
    }
   ],
   "source": [
    "a=10\n",
    "b=20\n",
    "c=a+b\n",
    "print(\"Addition of a=\",a,\"and b=\",b,\"is c=\",c)"
   ]
  },
  {
   "cell_type": "code",
   "execution_count": 5,
   "id": "fc35d8e6",
   "metadata": {},
   "outputs": [
    {
     "name": "stdout",
     "output_type": "stream",
     "text": [
      "Addition of a=10 and b=20 is c=30\n"
     ]
    }
   ],
   "source": [
    "a=10\n",
    "b=20\n",
    "c=a+b\n",
    "print(\"Addition of a={0} and b={1} is c={2}\".format(a,b,c))"
   ]
  },
  {
   "cell_type": "code",
   "execution_count": 6,
   "id": "7bd4a8e4",
   "metadata": {},
   "outputs": [
    {
     "name": "stdout",
     "output_type": "stream",
     "text": [
      "charan\n"
     ]
    }
   ],
   "source": [
    "myvar=\"charan\"\n",
    "print(myvar)"
   ]
  },
  {
   "cell_type": "code",
   "execution_count": 7,
   "id": "cc72089d",
   "metadata": {},
   "outputs": [
    {
     "ename": "SyntaxError",
     "evalue": "invalid decimal literal (2071213205.py, line 1)",
     "output_type": "error",
     "traceback": [
      "\u001b[1;36m  Cell \u001b[1;32mIn[7], line 1\u001b[1;36m\u001b[0m\n\u001b[1;33m    8myvar=\"Tharun\"\u001b[0m\n\u001b[1;37m    ^\u001b[0m\n\u001b[1;31mSyntaxError\u001b[0m\u001b[1;31m:\u001b[0m invalid decimal literal\n"
     ]
    }
   ],
   "source": [
    "8myvar=\"Tharun\"\n",
    "print(8myvar)"
   ]
  },
  {
   "cell_type": "code",
   "execution_count": 8,
   "id": "7de3d124",
   "metadata": {},
   "outputs": [
    {
     "name": "stdout",
     "output_type": "stream",
     "text": [
      "orange\n"
     ]
    }
   ],
   "source": [
    "a=b=c=d=\"orange\"\n",
    "print(c)"
   ]
  },
  {
   "cell_type": "code",
   "execution_count": 9,
   "id": "aeb14486",
   "metadata": {},
   "outputs": [
    {
     "name": "stdout",
     "output_type": "stream",
     "text": [
      "pythonisawesome\n"
     ]
    }
   ],
   "source": [
    "a=\"python\"\n",
    "b=\"is\"\n",
    "c=\"awesome\"\n",
    "print(a+b+c)"
   ]
  },
  {
   "cell_type": "code",
   "execution_count": 10,
   "id": "82066778",
   "metadata": {},
   "outputs": [
    {
     "name": "stdout",
     "output_type": "stream",
     "text": [
      "5tharun\n"
     ]
    }
   ],
   "source": [
    "#Type casting\n",
    "a='5'\n",
    "b=\"tharun\"\n",
    "print(a+b)"
   ]
  },
  {
   "cell_type": "code",
   "execution_count": 11,
   "id": "117ace60",
   "metadata": {},
   "outputs": [
    {
     "name": "stdout",
     "output_type": "stream",
     "text": [
      "35\n"
     ]
    }
   ],
   "source": [
    "print(int(35.67))"
   ]
  },
  {
   "cell_type": "code",
   "execution_count": 12,
   "id": "8c0cb92f",
   "metadata": {},
   "outputs": [
    {
     "name": "stdout",
     "output_type": "stream",
     "text": [
      "7\n"
     ]
    }
   ],
   "source": [
    "a=\"Ankitha\"\n",
    "print(len(a))"
   ]
  },
  {
   "cell_type": "code",
   "execution_count": 13,
   "id": "f4c0e4fb",
   "metadata": {},
   "outputs": [
    {
     "name": "stdout",
     "output_type": "stream",
     "text": [
      "7\n"
     ]
    }
   ],
   "source": [
    "b=\"mamatha\"\n",
    "print(len(b))"
   ]
  },
  {
   "cell_type": "code",
   "execution_count": 14,
   "id": "fd329572",
   "metadata": {},
   "outputs": [
    {
     "name": "stdout",
     "output_type": "stream",
     "text": [
      "c\n"
     ]
    }
   ],
   "source": [
    "x=\"welcome\"\n",
    "print(x[3])"
   ]
  },
  {
   "cell_type": "code",
   "execution_count": 15,
   "id": "8546b4ad",
   "metadata": {},
   "outputs": [
    {
     "name": "stdout",
     "output_type": "stream",
     "text": [
      "True\n"
     ]
    }
   ],
   "source": [
    "a=\"The Best book in the world is written by JK Rowling\"\n",
    "print(\"Book\" not in a)"
   ]
  },
  {
   "cell_type": "code",
   "execution_count": 16,
   "id": "65252294",
   "metadata": {},
   "outputs": [
    {
     "name": "stdout",
     "output_type": "stream",
     "text": [
      "MAMATHA\n"
     ]
    }
   ],
   "source": [
    "s=\"mamatha\"\n",
    "print(s.upper())"
   ]
  },
  {
   "cell_type": "code",
   "execution_count": 17,
   "id": "06d30834",
   "metadata": {},
   "outputs": [
    {
     "name": "stdout",
     "output_type": "stream",
     "text": [
      "tharun\n"
     ]
    }
   ],
   "source": [
    "d=\"TharUn\"\n",
    "print(d.lower())"
   ]
  },
  {
   "cell_type": "code",
   "execution_count": 18,
   "id": "1c1da129",
   "metadata": {},
   "outputs": [
    {
     "name": "stdout",
     "output_type": "stream",
     "text": [
      "ankitha ashok rao kharpade\n",
      "ANKITHA ASHOK RAO KHARPADE\n"
     ]
    }
   ],
   "source": [
    "e=\"Ankitha Ashok rao kharpade\"\n",
    "print(e.lower())\n",
    "print(e.upper())"
   ]
  },
  {
   "cell_type": "code",
   "execution_count": 19,
   "id": "0afce7b5",
   "metadata": {},
   "outputs": [
    {
     "name": "stdout",
     "output_type": "stream",
     "text": [
      "     s a i       \n"
     ]
    }
   ],
   "source": [
    "f=\"     s a i       \"\n",
    "print(f)"
   ]
  },
  {
   "cell_type": "code",
   "execution_count": 20,
   "id": "0e24c750",
   "metadata": {},
   "outputs": [
    {
     "name": "stdout",
     "output_type": "stream",
     "text": [
      "s a i\n"
     ]
    }
   ],
   "source": [
    "# to remove unwanted Spaces at begining and Ending is Strip \n",
    "print(f.strip())"
   ]
  },
  {
   "cell_type": "code",
   "execution_count": 21,
   "id": "4e91b919",
   "metadata": {},
   "outputs": [
    {
     "name": "stdout",
     "output_type": "stream",
     "text": [
      "ChTrTn\n"
     ]
    }
   ],
   "source": [
    "# Replace function \n",
    "a=\"Charan\"\n",
    "print(a.replace(\"a\",\"T\"))"
   ]
  },
  {
   "cell_type": "code",
   "execution_count": 22,
   "id": "82657e7d",
   "metadata": {},
   "outputs": [
    {
     "name": "stdout",
     "output_type": "stream",
     "text": [
      "['Ankitha', 'Ashok', 'rao', 'kharpade']\n"
     ]
    }
   ],
   "source": [
    "e=\"Ankitha&Ashok&rao&kharpade\"\n",
    "print(e.split(\"&\"))"
   ]
  },
  {
   "cell_type": "code",
   "execution_count": 23,
   "id": "4606822c",
   "metadata": {},
   "outputs": [],
   "source": [
    "#Anagrams ?\n"
   ]
  },
  {
   "cell_type": "code",
   "execution_count": 24,
   "id": "a6b06fc7",
   "metadata": {},
   "outputs": [
    {
     "name": "stdout",
     "output_type": "stream",
     "text": [
      "Counter({'a': 3, 's': 1, 'i': 1, ' ': 1, 'c': 1, 'h': 1, 'r': 1, 'n': 1})\n"
     ]
    }
   ],
   "source": [
    "from collections import Counter\n",
    "a=\"sai charan\"\n",
    "b=Counter(a)\n",
    "print(b)"
   ]
  },
  {
   "cell_type": "code",
   "execution_count": null,
   "id": "aa805ddb",
   "metadata": {},
   "outputs": [],
   "source": []
  },
  {
   "cell_type": "code",
   "execution_count": 25,
   "id": "98dd80e3",
   "metadata": {},
   "outputs": [
    {
     "name": "stdout",
     "output_type": "stream",
     "text": [
      "Enter the name apart from charan any name is okay\n",
      "Counter()\n"
     ]
    }
   ],
   "source": [
    "from collections import Counter\n",
    "a=input(\"Enter the name apart from charan any name is okay\")\n",
    "b=Counter(a)\n",
    "print(b)\n"
   ]
  },
  {
   "cell_type": "code",
   "execution_count": 26,
   "id": "9684127e",
   "metadata": {},
   "outputs": [
    {
     "name": "stdout",
     "output_type": "stream",
     "text": [
      "Enter the name\n",
      "Counter()\n"
     ]
    }
   ],
   "source": [
    "from collections import Counter\n",
    "a=input(\"Enter the name\")\n",
    "b=Counter(a)\n",
    "print(b)\n"
   ]
  },
  {
   "cell_type": "code",
   "execution_count": 27,
   "id": "5c63a8da",
   "metadata": {},
   "outputs": [
    {
     "name": "stdout",
     "output_type": "stream",
     "text": [
      "sAiChArAn\n"
     ]
    }
   ],
   "source": [
    "#reverse what ever in caps to small and Viceversia\n",
    "a=\"SaIcHaRaN\"\n",
    "b=a.swapcase()\n",
    "print(b)"
   ]
  },
  {
   "cell_type": "markdown",
   "id": "d01d0944",
   "metadata": {},
   "source": [
    "a=3\n",
    "b=2\n",
    "c=9\n",
    "\n",
    "eg 2 \n",
    "a=2\n",
    "b=2\n",
    "c=4\n",
    "\n",
    "Write a code to display o/p in above fashion"
   ]
  },
  {
   "cell_type": "code",
   "execution_count": null,
   "id": "9ba15937",
   "metadata": {},
   "outputs": [],
   "source": [
    "a=int(input(\"enter a  positive number\"))\n",
    "b=int(input(\"ENTER A positive NUMBER\"))\n",
    "c=a**b\n",
    "print(c)"
   ]
  },
  {
   "cell_type": "code",
   "execution_count": null,
   "id": "4baf7404",
   "metadata": {},
   "outputs": [],
   "source": [
    "# Comparision Operators"
   ]
  },
  {
   "cell_type": "code",
   "execution_count": null,
   "id": "29ec4d62",
   "metadata": {},
   "outputs": [],
   "source": [
    "a=5\n",
    "b=10\n",
    "print(a==b)\n",
    "print(a!=b)\n",
    "print(a>b)\n",
    "print(a>=b)\n",
    "print(a<b)\n",
    "print(a<=b)"
   ]
  },
  {
   "cell_type": "markdown",
   "id": "e561808a",
   "metadata": {},
   "source": [
    "#Logical Operators\n",
    "and or not"
   ]
  },
  {
   "cell_type": "code",
   "execution_count": null,
   "id": "cafafc5d",
   "metadata": {},
   "outputs": [],
   "source": [
    "x=5\n",
    "x<5 and x>10"
   ]
  },
  {
   "cell_type": "code",
   "execution_count": null,
   "id": "bfcdecb5",
   "metadata": {},
   "outputs": [],
   "source": [
    "x=5\n",
    "x>3 or x<22"
   ]
  },
  {
   "cell_type": "code",
   "execution_count": null,
   "id": "00892b0e",
   "metadata": {},
   "outputs": [],
   "source": [
    "x=5\n",
    "not(x>3 or x<22)"
   ]
  },
  {
   "cell_type": "code",
   "execution_count": null,
   "id": "c3498dba",
   "metadata": {},
   "outputs": [],
   "source": [
    "#Boolean Values\n",
    "#True and False\n",
    "print(10<=10)"
   ]
  },
  {
   "cell_type": "code",
   "execution_count": 29,
   "id": "f01c4541",
   "metadata": {},
   "outputs": [
    {
     "name": "stdout",
     "output_type": "stream",
     "text": [
      "Bye bro\n"
     ]
    }
   ],
   "source": [
    "#Conditionals\n",
    "x=5\n",
    "if x>5:\n",
    "    print(\"Hai bro\")\n",
    "else:\n",
    "    print(\"Bye bro\")"
   ]
  },
  {
   "cell_type": "code",
   "execution_count": 28,
   "id": "04852dd7",
   "metadata": {},
   "outputs": [
    {
     "name": "stdout",
     "output_type": "stream",
     "text": [
      "bye bro\n"
     ]
    }
   ],
   "source": [
    "c=5\n",
    "print(\"hai bro\") if c>5 else print(\"bye bro\")"
   ]
  },
  {
   "cell_type": "code",
   "execution_count": 33,
   "id": "8c03b20f",
   "metadata": {},
   "outputs": [
    {
     "name": "stdout",
     "output_type": "stream",
     "text": [
      "fail\n"
     ]
    }
   ],
   "source": [
    "a=300\n",
    "b=200\n",
    "if b>a:\n",
    "    pass\n",
    "else:\n",
    "    print(\"fail\")"
   ]
  },
  {
   "cell_type": "code",
   "execution_count": 34,
   "id": "8d54a72d",
   "metadata": {},
   "outputs": [
    {
     "ename": "IndentationError",
     "evalue": "expected an indented block after 'if' statement on line 3 (3358833046.py, line 5)",
     "output_type": "error",
     "traceback": [
      "\u001b[1;36m  Cell \u001b[1;32mIn[34], line 5\u001b[1;36m\u001b[0m\n\u001b[1;33m    else:\u001b[0m\n\u001b[1;37m    ^\u001b[0m\n\u001b[1;31mIndentationError\u001b[0m\u001b[1;31m:\u001b[0m expected an indented block after 'if' statement on line 3\n"
     ]
    }
   ],
   "source": [
    "a=30\n",
    "b=200\n",
    "if b>a:\n",
    "    \n",
    "else:\n",
    "    print(\"fail\")\n"
   ]
  },
  {
   "cell_type": "code",
   "execution_count": null,
   "id": "181b4b9c",
   "metadata": {},
   "outputs": [],
   "source": []
  }
 ],
 "metadata": {
  "kernelspec": {
   "display_name": "Python 3 (ipykernel)",
   "language": "python",
   "name": "python3"
  },
  "language_info": {
   "codemirror_mode": {
    "name": "ipython",
    "version": 3
   },
   "file_extension": ".py",
   "mimetype": "text/x-python",
   "name": "python",
   "nbconvert_exporter": "python",
   "pygments_lexer": "ipython3",
   "version": "3.12.7"
  }
 },
 "nbformat": 4,
 "nbformat_minor": 5
}
