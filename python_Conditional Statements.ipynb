{
 "cells": [
  {
   "cell_type": "code",
   "execution_count": 4,
   "metadata": {},
   "outputs": [
    {
     "name": "stdout",
     "output_type": "stream",
     "text": [
      "Enter Your age according to SSC(10th) certificate: 100\n",
      "You are a major,Allowed to Vote\n"
     ]
    }
   ],
   "source": [
    "#IF else statement\n",
    "#synatx :  if condition:\n",
    "\n",
    "# we are checking wheather the person is eligible to vote or not.\n",
    "\n",
    "age =int(input(\"Enter Your age according to SSC(10th) certificate: \"))\n",
    "\n",
    "if age>=18:  #legal age for vote is 18 years.\n",
    "    print(\"You are a major,Allowed to Vote\")\n",
    "    \n",
    "else:\n",
    "    print(\"You are a minor, cannot allowed to vote\")\n"
   ]
  },
  {
   "cell_type": "code",
   "execution_count": 7,
   "metadata": {},
   "outputs": [
    {
     "name": "stdout",
     "output_type": "stream",
     "text": [
      "enter you age:  19\n",
      "you are an adult\n"
     ]
    }
   ],
   "source": [
    "#if elif else , if and else is combined to make elif\n",
    "\n",
    "#here check the person is a kid, child ,an adult based on age input.\n",
    "\n",
    "age =int(input(\"enter you age:  \"))\n",
    "if age<=5:\n",
    "    print(\"you are a kid\")\n",
    "elif age<13:  # it allows age less than 13 years.\n",
    "    print(\"you are a child\")\n",
    "elif age<18: #it allows age less than 18 years.\n",
    "    print(\"you are teenager\")\n",
    "else:  #it allows age above 18:\n",
    "    print(\"you are an adult\")\n"
   ]
  },
  {
   "cell_type": "code",
   "execution_count": 15,
   "metadata": {},
   "outputs": [
    {
     "name": "stdout",
     "output_type": "stream",
     "text": [
      "why you are roaming in the ground, What is Your class: 10\n",
      "Im 10th std\n"
     ]
    }
   ],
   "source": [
    "#you are a teacher and you are asking students about what is his/her class?\n",
    "\n",
    "stud = int(input(\"why you are roaming in the ground, What is Your class: \"))\n",
    "if stud==6:\n",
    "    print(\"im 6th std\")\n",
    "elif stud==7:\n",
    "    print(\"im 7th std\")\n",
    "elif stud==8:\n",
    "    print(\"im 8th std\")\n",
    "elif stud==9:\n",
    "    print(\"im 9th std\")\n",
    "elif stud<=5:\n",
    "    print(\"im a elimentry student\")\n",
    "elif stud>10:\n",
    "    print(\"student does not belongs to our school\")\n",
    "else:\n",
    "    print(\"Im 10th std\")"
   ]
  },
  {
   "cell_type": "code",
   "execution_count": 30,
   "metadata": {},
   "outputs": [
    {
     "name": "stdout",
     "output_type": "stream",
     "text": [
      "Enter the number: -1\n",
      "the number is negative\n"
     ]
    }
   ],
   "source": [
    "# finding a number is even or odd\n",
    "\n",
    "num = int(input(\"Enter the number: \")) # NESTED STATEMENTS\n",
    "if num>0:\n",
    "    print(\"the number is positive\")\n",
    "    if num%2==0:\n",
    "        print(\"the number is even\")\n",
    "    else:\n",
    "        print(\"the number is odd\")\n",
    "else:\n",
    "    print(\"the number is negative\")\n",
    "    "
   ]
  },
  {
   "cell_type": "code",
   "execution_count": null,
   "metadata": {},
   "outputs": [],
   "source": [
    "#nested statements\n",
    "'''\n",
    "2)2(1  % \n",
    "  2\n",
    "  ---\n",
    "   0\n",
    "if statement:False\n",
    "  \n",
    "    if statement2: False    #nested \n",
    "        statements 2\n",
    "        if statement3 : False\n",
    "           statements3 \n",
    "        else3:\n",
    "            statement3\n",
    "    else2:\n",
    "            statements2\n",
    "else1:\n",
    "\n",
    "'''"
   ]
  },
  {
   "cell_type": "code",
   "execution_count": 27,
   "metadata": {},
   "outputs": [
    {
     "data": {
      "text/plain": [
       "1"
      ]
     },
     "execution_count": 27,
     "metadata": {},
     "output_type": "execute_result"
    }
   ],
   "source": [
    "99%2\n"
   ]
  },
  {
   "cell_type": "code",
   "execution_count": 1,
   "metadata": {},
   "outputs": [
    {
     "name": "stdin",
     "output_type": "stream",
     "text": [
      "Enter bill amount:  888\n"
     ]
    },
    {
     "name": "stdout",
     "output_type": "stream",
     "text": [
      "Discount: 88.80000000000001\n",
      "Total Amount: 799.2\n"
     ]
    }
   ],
   "source": [
    "#providing discount based on bill amount. if bill amount is less than 1000 discount will\n",
    "# be 5 % if bill is above 1000 discount is 10%\n",
    "amount = int(input(\"Enter bill amount: \"))\n",
    "if amount==1000:\n",
    "    discount = amount*0.05   #discount is 5 %\n",
    "    print(\"Discount:\", discount)\n",
    "else:\n",
    "    discount = amount*0.10  # discountis 10 %\n",
    "    print(\"Discount:\",discount)\n",
    "print(\"Total Amount:\",amount-discount)"
   ]
  },
  {
   "cell_type": "code",
   "execution_count": 38,
   "metadata": {},
   "outputs": [
    {
     "ename": "KeyboardInterrupt",
     "evalue": "Interrupted by user",
     "output_type": "error",
     "traceback": [
      "\u001b[1;31m---------------------------------------------------------------------------\u001b[0m",
      "\u001b[1;31mKeyboardInterrupt\u001b[0m                         Traceback (most recent call last)",
      "\u001b[1;32m<ipython-input-38-27435725fea0>\u001b[0m in \u001b[0;36m<module>\u001b[1;34m\u001b[0m\n\u001b[0;32m      3\u001b[0m \u001b[1;31m# not divi by 2 and 3 ,, divi 3 and not divi 2\u001b[0m\u001b[1;33m\u001b[0m\u001b[1;33m\u001b[0m\u001b[1;33m\u001b[0m\u001b[0m\n\u001b[0;32m      4\u001b[0m \u001b[1;33m\u001b[0m\u001b[0m\n\u001b[1;32m----> 5\u001b[1;33m \u001b[0mnum\u001b[0m \u001b[1;33m=\u001b[0m \u001b[0mint\u001b[0m\u001b[1;33m(\u001b[0m\u001b[0minput\u001b[0m\u001b[1;33m(\u001b[0m\u001b[1;34m\"enter a number: \"\u001b[0m\u001b[1;33m)\u001b[0m\u001b[1;33m)\u001b[0m\u001b[1;33m\u001b[0m\u001b[1;33m\u001b[0m\u001b[0m\n\u001b[0m\u001b[0;32m      6\u001b[0m \u001b[1;33m\u001b[0m\u001b[0m\n\u001b[0;32m      7\u001b[0m \u001b[1;32mif\u001b[0m \u001b[0mnum\u001b[0m\u001b[1;33m%\u001b[0m\u001b[1;36m2\u001b[0m\u001b[1;33m==\u001b[0m\u001b[1;36m0\u001b[0m\u001b[1;33m:\u001b[0m\u001b[1;33m\u001b[0m\u001b[1;33m\u001b[0m\u001b[0m\n",
      "\u001b[1;32m~\\anaconda3\\lib\\site-packages\\ipykernel\\kernelbase.py\u001b[0m in \u001b[0;36mraw_input\u001b[1;34m(self, prompt)\u001b[0m\n\u001b[0;32m    858\u001b[0m                 \u001b[1;34m\"raw_input was called, but this frontend does not support input requests.\"\u001b[0m\u001b[1;33m\u001b[0m\u001b[1;33m\u001b[0m\u001b[0m\n\u001b[0;32m    859\u001b[0m             )\n\u001b[1;32m--> 860\u001b[1;33m         return self._input_request(str(prompt),\n\u001b[0m\u001b[0;32m    861\u001b[0m             \u001b[0mself\u001b[0m\u001b[1;33m.\u001b[0m\u001b[0m_parent_ident\u001b[0m\u001b[1;33m,\u001b[0m\u001b[1;33m\u001b[0m\u001b[1;33m\u001b[0m\u001b[0m\n\u001b[0;32m    862\u001b[0m             \u001b[0mself\u001b[0m\u001b[1;33m.\u001b[0m\u001b[0m_parent_header\u001b[0m\u001b[1;33m,\u001b[0m\u001b[1;33m\u001b[0m\u001b[1;33m\u001b[0m\u001b[0m\n",
      "\u001b[1;32m~\\anaconda3\\lib\\site-packages\\ipykernel\\kernelbase.py\u001b[0m in \u001b[0;36m_input_request\u001b[1;34m(self, prompt, ident, parent, password)\u001b[0m\n\u001b[0;32m    902\u001b[0m             \u001b[1;32mexcept\u001b[0m \u001b[0mKeyboardInterrupt\u001b[0m\u001b[1;33m:\u001b[0m\u001b[1;33m\u001b[0m\u001b[1;33m\u001b[0m\u001b[0m\n\u001b[0;32m    903\u001b[0m                 \u001b[1;31m# re-raise KeyboardInterrupt, to truncate traceback\u001b[0m\u001b[1;33m\u001b[0m\u001b[1;33m\u001b[0m\u001b[1;33m\u001b[0m\u001b[0m\n\u001b[1;32m--> 904\u001b[1;33m                 \u001b[1;32mraise\u001b[0m \u001b[0mKeyboardInterrupt\u001b[0m\u001b[1;33m(\u001b[0m\u001b[1;34m\"Interrupted by user\"\u001b[0m\u001b[1;33m)\u001b[0m \u001b[1;32mfrom\u001b[0m \u001b[1;32mNone\u001b[0m\u001b[1;33m\u001b[0m\u001b[1;33m\u001b[0m\u001b[0m\n\u001b[0m\u001b[0;32m    905\u001b[0m             \u001b[1;32mexcept\u001b[0m \u001b[0mException\u001b[0m \u001b[1;32mas\u001b[0m \u001b[0me\u001b[0m\u001b[1;33m:\u001b[0m\u001b[1;33m\u001b[0m\u001b[1;33m\u001b[0m\u001b[0m\n\u001b[0;32m    906\u001b[0m                 \u001b[0mself\u001b[0m\u001b[1;33m.\u001b[0m\u001b[0mlog\u001b[0m\u001b[1;33m.\u001b[0m\u001b[0mwarning\u001b[0m\u001b[1;33m(\u001b[0m\u001b[1;34m\"Invalid Message:\"\u001b[0m\u001b[1;33m,\u001b[0m \u001b[0mexc_info\u001b[0m\u001b[1;33m=\u001b[0m\u001b[1;32mTrue\u001b[0m\u001b[1;33m)\u001b[0m\u001b[1;33m\u001b[0m\u001b[1;33m\u001b[0m\u001b[0m\n",
      "\u001b[1;31mKeyboardInterrupt\u001b[0m: Interrupted by user"
     ]
    }
   ],
   "source": [
    "#Nested Statements\n",
    "#it is checking wheather the given number is divisible by 2 and 3 , divi by 2 not with3\n",
    "# not divi by 2 and 3 ,, divi 3 and not divi 2\n",
    "\n",
    "num = int(input(\"enter a number: \"))\n",
    "\n",
    "if num%2==0:\n",
    "    if num%3==0:\n",
    "        print(\"Divisibe by 3 and 2\")\n",
    "    else:\n",
    "        print(\"Divisible by 2, not divisible by 3\")\n",
    "else:\n",
    "    if num%3==0:\n",
    "        print(\"Divisible by 3 not divisible by 2\")\n",
    "    else:\n",
    "        print(\"Not divisible by 2 and not divisible by 3\")\n",
    "\n"
   ]
  },
  {
   "cell_type": "code",
   "execution_count": 43,
   "metadata": {},
   "outputs": [
    {
     "name": "stdout",
     "output_type": "stream",
     "text": [
      "Enter the Year:  2004\n",
      "2004 is a LEAP year\n"
     ]
    }
   ],
   "source": [
    "#Checking a leap year \n",
    "\n",
    "Year = int(input(\"Enter the Year:  \"))\n",
    "\n",
    "if Year%4==0:   #if year is divisible by 4.\n",
    "    if Year%100==0: #if year is not divisible by 100.\n",
    "        if Year%400==0: #if year is divisible by 400. \n",
    "            print(Year,\"is a leap year\") #2024,2000,2004,\n",
    "        else:\n",
    "            print(Year,\"is not LEAP year\")\n",
    "    else:\n",
    "        print(Year,\"is a LEAP year\")\n",
    "        \n",
    "else:\n",
    "    print(Year, \"is not a leap year\")  #2025,2002"
   ]
  },
  {
   "cell_type": "code",
   "execution_count": 6,
   "metadata": {},
   "outputs": [
    {
     "name": "stdin",
     "output_type": "stream",
     "text": [
      "Enter Your age:  18\n"
     ]
    },
    {
     "name": "stdout",
     "output_type": "stream",
     "text": [
      "Ticket price is 15 rupees\n"
     ]
    }
   ],
   "source": [
    "age = int(input(\"Enter Your age: \"))\n",
    "buspass = False\n",
    "if age>=18:\n",
    "    if buspass:\n",
    "        print(\"Ticket price is 10 rupees\") #have bus pass and age is above 18\n",
    "    else:\n",
    "        print(\"Ticket price is 15 rupees\") #no buspass and age is above 18\n",
    "else:\n",
    "    if buspass:\n",
    "        print(\"Ticket price is 8 rupees\")   #have buspass and age is lessthan 18\n",
    "    else:\n",
    "        print(\"ticket price is 9 rupees\")   #no buspass and age lessthan 18\n",
    "    \n",
    "\n"
   ]
  },
  {
   "cell_type": "code",
   "execution_count": null,
   "metadata": {},
   "outputs": [],
   "source": []
  },
  {
   "cell_type": "code",
   "execution_count": null,
   "metadata": {},
   "outputs": [],
   "source": []
  }
 ],
 "metadata": {
  "kernelspec": {
   "display_name": "Python 3 (ipykernel)",
   "language": "python",
   "name": "python3"
  },
  "language_info": {
   "codemirror_mode": {
    "name": "ipython",
    "version": 3
   },
   "file_extension": ".py",
   "mimetype": "text/x-python",
   "name": "python",
   "nbconvert_exporter": "python",
   "pygments_lexer": "ipython3",
   "version": "3.12.7"
  }
 },
 "nbformat": 4,
 "nbformat_minor": 4
}
