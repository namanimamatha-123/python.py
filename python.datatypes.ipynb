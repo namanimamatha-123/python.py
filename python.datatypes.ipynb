{
 "cells": [
  {
   "cell_type": "code",
   "execution_count": 1,
   "id": "8cdf5665",
   "metadata": {},
   "outputs": [],
   "source": [
    "# List"
   ]
  },
  {
   "cell_type": "code",
   "execution_count": 2,
   "id": "7439d573",
   "metadata": {},
   "outputs": [],
   "source": [
    "l=[]"
   ]
  },
  {
   "cell_type": "code",
   "execution_count": 3,
   "id": "bdd6f604",
   "metadata": {},
   "outputs": [
    {
     "data": {
      "text/plain": [
       "list"
      ]
     },
     "execution_count": 3,
     "metadata": {},
     "output_type": "execute_result"
    }
   ],
   "source": [
    "type(l)"
   ]
  },
  {
   "cell_type": "code",
   "execution_count": 9,
   "id": "91432ea1",
   "metadata": {},
   "outputs": [],
   "source": [
    "l1=[1,2,3,4,5,\"charan\",3+8j,\"Vamsi\",[3,6,7]]"
   ]
  },
  {
   "cell_type": "code",
   "execution_count": 10,
   "id": "46571682",
   "metadata": {},
   "outputs": [
    {
     "data": {
      "text/plain": [
       "[1, 2, 3, 4, 5, 'charan', (3+8j), 'Vamsi', [3, 6, 7]]"
      ]
     },
     "execution_count": 10,
     "metadata": {},
     "output_type": "execute_result"
    }
   ],
   "source": [
    "l1"
   ]
  },
  {
   "cell_type": "code",
   "execution_count": 6,
   "id": "701a99a5",
   "metadata": {},
   "outputs": [],
   "source": [
    "s='fsdfsdd*&655465^'"
   ]
  },
  {
   "cell_type": "code",
   "execution_count": 8,
   "id": "8bb07725",
   "metadata": {},
   "outputs": [
    {
     "data": {
      "text/plain": [
       "str"
      ]
     },
     "execution_count": 8,
     "metadata": {},
     "output_type": "execute_result"
    }
   ],
   "source": [
    "type(s)"
   ]
  },
  {
   "cell_type": "code",
   "execution_count": 11,
   "id": "c02170de",
   "metadata": {},
   "outputs": [
    {
     "data": {
      "text/plain": [
       "1"
      ]
     },
     "execution_count": 11,
     "metadata": {},
     "output_type": "execute_result"
    }
   ],
   "source": [
    "l1[0]"
   ]
  },
  {
   "cell_type": "code",
   "execution_count": 12,
   "id": "13d46c6b",
   "metadata": {},
   "outputs": [],
   "source": [
    "#indexing & Slicing is same as string"
   ]
  },
  {
   "cell_type": "code",
   "execution_count": 13,
   "id": "54f35788",
   "metadata": {},
   "outputs": [
    {
     "data": {
      "text/plain": [
       "'charan'"
      ]
     },
     "execution_count": 13,
     "metadata": {},
     "output_type": "execute_result"
    }
   ],
   "source": [
    "l1[5]"
   ]
  },
  {
   "cell_type": "code",
   "execution_count": 14,
   "id": "318cd5fe",
   "metadata": {},
   "outputs": [
    {
     "data": {
      "text/plain": [
       "7"
      ]
     },
     "execution_count": 14,
     "metadata": {},
     "output_type": "execute_result"
    }
   ],
   "source": [
    "l1[-1][-1]"
   ]
  },
  {
   "cell_type": "code",
   "execution_count": 15,
   "id": "3b2833f2",
   "metadata": {},
   "outputs": [
    {
     "data": {
      "text/plain": [
       "[1, 2, 3, 4, 5]"
      ]
     },
     "execution_count": 15,
     "metadata": {},
     "output_type": "execute_result"
    }
   ],
   "source": [
    "l1[0:5]"
   ]
  },
  {
   "cell_type": "code",
   "execution_count": 16,
   "id": "cdb8f409",
   "metadata": {},
   "outputs": [],
   "source": [
    "l2=[3,4,5,\"pwskills\",\"sai\"]"
   ]
  },
  {
   "cell_type": "code",
   "execution_count": 17,
   "id": "68277c42",
   "metadata": {},
   "outputs": [
    {
     "data": {
      "text/plain": [
       "[1,\n",
       " 2,\n",
       " 3,\n",
       " 4,\n",
       " 5,\n",
       " 'charan',\n",
       " (3+8j),\n",
       " 'Vamsi',\n",
       " [3, 6, 7],\n",
       " 3,\n",
       " 4,\n",
       " 5,\n",
       " 'pwskills',\n",
       " 'sai']"
      ]
     },
     "execution_count": 17,
     "metadata": {},
     "output_type": "execute_result"
    }
   ],
   "source": [
    "l1+l2"
   ]
  },
  {
   "cell_type": "code",
   "execution_count": 19,
   "id": "414df0fb",
   "metadata": {},
   "outputs": [
    {
     "data": {
      "text/plain": [
       "[3,\n",
       " 4,\n",
       " 5,\n",
       " 'pwskills',\n",
       " 'sai',\n",
       " 1,\n",
       " 2,\n",
       " 3,\n",
       " 4,\n",
       " 5,\n",
       " 'charan',\n",
       " (3+8j),\n",
       " 'Vamsi',\n",
       " [3, 6, 7],\n",
       " 3,\n",
       " 4,\n",
       " 5,\n",
       " 'pwskills',\n",
       " 'sai',\n",
       " 1,\n",
       " 2,\n",
       " 3,\n",
       " 4,\n",
       " 5,\n",
       " 'charan',\n",
       " (3+8j),\n",
       " 'Vamsi',\n",
       " [3, 6, 7],\n",
       " 3,\n",
       " 4,\n",
       " 5,\n",
       " 'pwskills',\n",
       " 'sai',\n",
       " 1,\n",
       " 2,\n",
       " 3,\n",
       " 4,\n",
       " 5,\n",
       " 'charan',\n",
       " (3+8j),\n",
       " 'Vamsi',\n",
       " [3, 6, 7]]"
      ]
     },
     "execution_count": 19,
     "metadata": {},
     "output_type": "execute_result"
    }
   ],
   "source": [
    "(l2+l1)*3"
   ]
  },
  {
   "cell_type": "code",
   "execution_count": 20,
   "id": "cb9abf9e",
   "metadata": {},
   "outputs": [
    {
     "ename": "TypeError",
     "evalue": "can only concatenate list (not \"str\") to list",
     "output_type": "error",
     "traceback": [
      "\u001b[1;31m---------------------------------------------------------------------------\u001b[0m",
      "\u001b[1;31mTypeError\u001b[0m                                 Traceback (most recent call last)",
      "Cell \u001b[1;32mIn[20], line 1\u001b[0m\n\u001b[1;32m----> 1\u001b[0m \u001b[43ml1\u001b[49m\u001b[38;5;241;43m+\u001b[39;49m\u001b[38;5;124;43m\"\u001b[39;49m\u001b[38;5;124;43mSravani\u001b[39;49m\u001b[38;5;124;43m\"\u001b[39;49m\n",
      "\u001b[1;31mTypeError\u001b[0m: can only concatenate list (not \"str\") to list"
     ]
    }
   ],
   "source": [
    "l1+\"Sravani\""
   ]
  },
  {
   "cell_type": "code",
   "execution_count": 21,
   "id": "ca49f29a",
   "metadata": {},
   "outputs": [
    {
     "data": {
      "text/plain": [
       "['S', 'r', 'a', 'v', 'a', 'n', 'i']"
      ]
     },
     "execution_count": 21,
     "metadata": {},
     "output_type": "execute_result"
    }
   ],
   "source": [
    "list(\"Sravani\")"
   ]
  },
  {
   "cell_type": "code",
   "execution_count": 22,
   "id": "e47704d4",
   "metadata": {},
   "outputs": [
    {
     "data": {
      "text/plain": [
       "[3, 4, 5, 'pwskills', 'sai']"
      ]
     },
     "execution_count": 22,
     "metadata": {},
     "output_type": "execute_result"
    }
   ],
   "source": [
    "l2"
   ]
  },
  {
   "cell_type": "code",
   "execution_count": 23,
   "id": "27f6d2e3",
   "metadata": {},
   "outputs": [],
   "source": [
    "l2[0]=\"Sravani\""
   ]
  },
  {
   "cell_type": "code",
   "execution_count": 24,
   "id": "5e9bdea2",
   "metadata": {},
   "outputs": [
    {
     "data": {
      "text/plain": [
       "['Sravani', 4, 5, 'pwskills', 'sai']"
      ]
     },
     "execution_count": 24,
     "metadata": {},
     "output_type": "execute_result"
    }
   ],
   "source": [
    "l2"
   ]
  },
  {
   "cell_type": "code",
   "execution_count": 25,
   "id": "27d74d5d",
   "metadata": {},
   "outputs": [],
   "source": [
    "#item assignment is possible so it is a mutable entity"
   ]
  },
  {
   "cell_type": "code",
   "execution_count": 26,
   "id": "6fff5be2",
   "metadata": {},
   "outputs": [],
   "source": [
    "# if i dont want to change the Data then i can go ahead for Tuple"
   ]
  },
  {
   "cell_type": "code",
   "execution_count": 27,
   "id": "56ac32fe",
   "metadata": {},
   "outputs": [],
   "source": [
    "t=(1,2,3,4,\"charan\",\"sravani\",6+8j,True)"
   ]
  },
  {
   "cell_type": "code",
   "execution_count": 28,
   "id": "41ec501d",
   "metadata": {},
   "outputs": [
    {
     "data": {
      "text/plain": [
       "tuple"
      ]
     },
     "execution_count": 28,
     "metadata": {},
     "output_type": "execute_result"
    }
   ],
   "source": [
    "type(t)"
   ]
  },
  {
   "cell_type": "code",
   "execution_count": 29,
   "id": "06cd72d2",
   "metadata": {},
   "outputs": [
    {
     "data": {
      "text/plain": [
       "1"
      ]
     },
     "execution_count": 29,
     "metadata": {},
     "output_type": "execute_result"
    }
   ],
   "source": [
    "t[0]"
   ]
  },
  {
   "cell_type": "code",
   "execution_count": 30,
   "id": "e1d987b9",
   "metadata": {},
   "outputs": [
    {
     "data": {
      "text/plain": [
       "True"
      ]
     },
     "execution_count": 30,
     "metadata": {},
     "output_type": "execute_result"
    }
   ],
   "source": [
    "t[-1]"
   ]
  },
  {
   "cell_type": "code",
   "execution_count": 31,
   "id": "bcc5b218",
   "metadata": {},
   "outputs": [
    {
     "data": {
      "text/plain": [
       "(True, (6+8j), 'sravani', 'charan', 4, 3, 2, 1)"
      ]
     },
     "execution_count": 31,
     "metadata": {},
     "output_type": "execute_result"
    }
   ],
   "source": [
    "t[::-1]"
   ]
  },
  {
   "cell_type": "code",
   "execution_count": 32,
   "id": "fa076bac",
   "metadata": {},
   "outputs": [
    {
     "data": {
      "text/plain": [
       "1"
      ]
     },
     "execution_count": 32,
     "metadata": {},
     "output_type": "execute_result"
    }
   ],
   "source": [
    "t[0]"
   ]
  },
  {
   "cell_type": "code",
   "execution_count": 33,
   "id": "72d13423",
   "metadata": {},
   "outputs": [
    {
     "ename": "TypeError",
     "evalue": "'tuple' object does not support item assignment",
     "output_type": "error",
     "traceback": [
      "\u001b[1;31m---------------------------------------------------------------------------\u001b[0m",
      "\u001b[1;31mTypeError\u001b[0m                                 Traceback (most recent call last)",
      "Cell \u001b[1;32mIn[33], line 1\u001b[0m\n\u001b[1;32m----> 1\u001b[0m t[\u001b[38;5;241m0\u001b[39m]\u001b[38;5;241m=\u001b[39m\u001b[38;5;124m\"\u001b[39m\u001b[38;5;124mTharun\u001b[39m\u001b[38;5;124m\"\u001b[39m\n",
      "\u001b[1;31mTypeError\u001b[0m: 'tuple' object does not support item assignment"
     ]
    }
   ],
   "source": [
    "t[0]=\"Tharun\""
   ]
  },
  {
   "cell_type": "code",
   "execution_count": 34,
   "id": "ba16da70",
   "metadata": {},
   "outputs": [],
   "source": [
    "#this is the Difference between list & tuple we can not mutate the data"
   ]
  },
  {
   "cell_type": "code",
   "execution_count": 35,
   "id": "15eb4e50",
   "metadata": {},
   "outputs": [],
   "source": [
    "t1=(5,6,7,8,9)"
   ]
  },
  {
   "cell_type": "code",
   "execution_count": 36,
   "id": "7d107eac",
   "metadata": {},
   "outputs": [
    {
     "data": {
      "text/plain": [
       "(1, 2, 3, 4, 'charan', 'sravani', (6+8j), True, 5, 6, 7, 8, 9)"
      ]
     },
     "execution_count": 36,
     "metadata": {},
     "output_type": "execute_result"
    }
   ],
   "source": [
    "t+t1"
   ]
  },
  {
   "cell_type": "code",
   "execution_count": 37,
   "id": "09676ae3",
   "metadata": {},
   "outputs": [
    {
     "data": {
      "text/plain": [
       "(5, 6, 7, 8, 9, 5, 6, 7, 8, 9)"
      ]
     },
     "execution_count": 37,
     "metadata": {},
     "output_type": "execute_result"
    }
   ],
   "source": [
    "t1*2"
   ]
  },
  {
   "cell_type": "code",
   "execution_count": 38,
   "id": "e6d82882",
   "metadata": {},
   "outputs": [
    {
     "data": {
      "text/plain": [
       "8"
      ]
     },
     "execution_count": 38,
     "metadata": {},
     "output_type": "execute_result"
    }
   ],
   "source": [
    "len(t)"
   ]
  },
  {
   "cell_type": "code",
   "execution_count": 39,
   "id": "22e98e53",
   "metadata": {},
   "outputs": [
    {
     "data": {
      "text/plain": [
       "(1, 2, 3, 4, 'charan', 'sravani', (6+8j), True)"
      ]
     },
     "execution_count": 39,
     "metadata": {},
     "output_type": "execute_result"
    }
   ],
   "source": [
    "t"
   ]
  },
  {
   "cell_type": "code",
   "execution_count": 40,
   "id": "05196a71",
   "metadata": {},
   "outputs": [
    {
     "data": {
      "text/plain": [
       "[1, 2, 3, 4, 'charan', 'sravani', (6+8j), True]"
      ]
     },
     "execution_count": 40,
     "metadata": {},
     "output_type": "execute_result"
    }
   ],
   "source": [
    "list(t)"
   ]
  },
  {
   "cell_type": "code",
   "execution_count": 41,
   "id": "d454f3e9",
   "metadata": {},
   "outputs": [
    {
     "data": {
      "text/plain": [
       "(1, 2, 3, 4, 'charan', 'sravani', (6+8j), True)"
      ]
     },
     "execution_count": 41,
     "metadata": {},
     "output_type": "execute_result"
    }
   ],
   "source": [
    "t"
   ]
  },
  {
   "cell_type": "code",
   "execution_count": 42,
   "id": "3e5765a0",
   "metadata": {},
   "outputs": [
    {
     "data": {
      "text/plain": [
       "('Sravani', 4, 5, 'pwskills', 'sai')"
      ]
     },
     "execution_count": 42,
     "metadata": {},
     "output_type": "execute_result"
    }
   ],
   "source": [
    "tuple(l2)"
   ]
  },
  {
   "cell_type": "code",
   "execution_count": 43,
   "id": "750c7900",
   "metadata": {},
   "outputs": [],
   "source": [
    "# list to tuple and tuple to list is possible"
   ]
  },
  {
   "cell_type": "code",
   "execution_count": 44,
   "id": "440a105a",
   "metadata": {},
   "outputs": [],
   "source": [
    "#Sets"
   ]
  },
  {
   "cell_type": "code",
   "execution_count": 45,
   "id": "93517ee4",
   "metadata": {},
   "outputs": [],
   "source": [
    "s={}"
   ]
  },
  {
   "cell_type": "code",
   "execution_count": 46,
   "id": "2d626da4",
   "metadata": {},
   "outputs": [
    {
     "data": {
      "text/plain": [
       "dict"
      ]
     },
     "execution_count": 46,
     "metadata": {},
     "output_type": "execute_result"
    }
   ],
   "source": [
    "type(s)"
   ]
  },
  {
   "cell_type": "code",
   "execution_count": 47,
   "id": "448f36d5",
   "metadata": {},
   "outputs": [],
   "source": [
    "s1={1,2,3,4,5,5}"
   ]
  },
  {
   "cell_type": "code",
   "execution_count": 48,
   "id": "c1e4aa40",
   "metadata": {},
   "outputs": [
    {
     "data": {
      "text/plain": [
       "set"
      ]
     },
     "execution_count": 48,
     "metadata": {},
     "output_type": "execute_result"
    }
   ],
   "source": [
    "type(s1)"
   ]
  },
  {
   "cell_type": "code",
   "execution_count": 50,
   "id": "1eeaf094",
   "metadata": {},
   "outputs": [
    {
     "data": {
      "text/plain": [
       "{1, 2, 3, 4, 5}"
      ]
     },
     "execution_count": 50,
     "metadata": {},
     "output_type": "execute_result"
    }
   ],
   "source": [
    "s1"
   ]
  },
  {
   "cell_type": "code",
   "execution_count": 54,
   "id": "208eea46",
   "metadata": {},
   "outputs": [],
   "source": [
    "n=list(s1)"
   ]
  },
  {
   "cell_type": "code",
   "execution_count": 52,
   "id": "5da1eddf",
   "metadata": {},
   "outputs": [
    {
     "data": {
      "text/plain": [
       "{1, 2, 3, 4, 5}"
      ]
     },
     "execution_count": 52,
     "metadata": {},
     "output_type": "execute_result"
    }
   ],
   "source": [
    "s1"
   ]
  },
  {
   "cell_type": "code",
   "execution_count": 55,
   "id": "d2d97064",
   "metadata": {},
   "outputs": [
    {
     "data": {
      "text/plain": [
       "[1, 2, 3, 4, 5]"
      ]
     },
     "execution_count": 55,
     "metadata": {},
     "output_type": "execute_result"
    }
   ],
   "source": [
    "n"
   ]
  },
  {
   "cell_type": "code",
   "execution_count": 56,
   "id": "8b9e30d9",
   "metadata": {},
   "outputs": [
    {
     "data": {
      "text/plain": [
       "[1, 2, 3, 4, 5]"
      ]
     },
     "execution_count": 56,
     "metadata": {},
     "output_type": "execute_result"
    }
   ],
   "source": [
    "n"
   ]
  },
  {
   "cell_type": "code",
   "execution_count": 57,
   "id": "35facd0d",
   "metadata": {},
   "outputs": [],
   "source": [
    "n[0]=[1,1,1,2,2,4]"
   ]
  },
  {
   "cell_type": "code",
   "execution_count": 58,
   "id": "f689d6b4",
   "metadata": {},
   "outputs": [
    {
     "data": {
      "text/plain": [
       "[[1, 1, 1, 2, 2, 4], 2, 3, 4, 5]"
      ]
     },
     "execution_count": 58,
     "metadata": {},
     "output_type": "execute_result"
    }
   ],
   "source": [
    "n"
   ]
  },
  {
   "cell_type": "code",
   "execution_count": 59,
   "id": "3e7661a0",
   "metadata": {},
   "outputs": [
    {
     "ename": "TypeError",
     "evalue": "unhashable type: 'list'",
     "output_type": "error",
     "traceback": [
      "\u001b[1;31m---------------------------------------------------------------------------\u001b[0m",
      "\u001b[1;31mTypeError\u001b[0m                                 Traceback (most recent call last)",
      "Cell \u001b[1;32mIn[59], line 1\u001b[0m\n\u001b[1;32m----> 1\u001b[0m \u001b[38;5;28;43mset\u001b[39;49m\u001b[43m(\u001b[49m\u001b[43mn\u001b[49m\u001b[43m)\u001b[49m\n",
      "\u001b[1;31mTypeError\u001b[0m: unhashable type: 'list'"
     ]
    }
   ],
   "source": [
    "set(n)"
   ]
  },
  {
   "cell_type": "code",
   "execution_count": 60,
   "id": "c4792a85",
   "metadata": {},
   "outputs": [],
   "source": [
    "# list to set okay but set to list if we have one more list it is called hashable \n"
   ]
  },
  {
   "cell_type": "code",
   "execution_count": 65,
   "id": "a72267bf",
   "metadata": {},
   "outputs": [
    {
     "data": {
      "text/plain": [
       "([1, 1, 1, 2, 2, 4], 2, 3, 4, 5)"
      ]
     },
     "execution_count": 65,
     "metadata": {},
     "output_type": "execute_result"
    }
   ],
   "source": [
    "c=tuple(n)\n",
    "c"
   ]
  },
  {
   "cell_type": "code",
   "execution_count": 63,
   "id": "961326f5",
   "metadata": {},
   "outputs": [
    {
     "data": {
      "text/plain": [
       "[[1, 1, 1, 2, 2, 4], 2, 3, 4, 5]"
      ]
     },
     "execution_count": 63,
     "metadata": {},
     "output_type": "execute_result"
    }
   ],
   "source": [
    "list(n)"
   ]
  },
  {
   "cell_type": "code",
   "execution_count": 66,
   "id": "bdee5fbc",
   "metadata": {},
   "outputs": [
    {
     "ename": "TypeError",
     "evalue": "unhashable type: 'list'",
     "output_type": "error",
     "traceback": [
      "\u001b[1;31m---------------------------------------------------------------------------\u001b[0m",
      "\u001b[1;31mTypeError\u001b[0m                                 Traceback (most recent call last)",
      "Cell \u001b[1;32mIn[66], line 1\u001b[0m\n\u001b[1;32m----> 1\u001b[0m \u001b[38;5;28;43mset\u001b[39;49m\u001b[43m(\u001b[49m\u001b[43mc\u001b[49m\u001b[43m)\u001b[49m\n",
      "\u001b[1;31mTypeError\u001b[0m: unhashable type: 'list'"
     ]
    }
   ],
   "source": [
    "set(c)"
   ]
  },
  {
   "cell_type": "code",
   "execution_count": 68,
   "id": "8a7afcec",
   "metadata": {},
   "outputs": [
    {
     "data": {
      "text/plain": [
       "{1, 2, 3, 4, 5}"
      ]
     },
     "execution_count": 68,
     "metadata": {},
     "output_type": "execute_result"
    }
   ],
   "source": [
    "s1"
   ]
  },
  {
   "cell_type": "code",
   "execution_count": 70,
   "id": "a2d3fa2c",
   "metadata": {},
   "outputs": [
    {
     "ename": "TypeError",
     "evalue": "'set' object is not subscriptable",
     "output_type": "error",
     "traceback": [
      "\u001b[1;31m---------------------------------------------------------------------------\u001b[0m",
      "\u001b[1;31mTypeError\u001b[0m                                 Traceback (most recent call last)",
      "Cell \u001b[1;32mIn[70], line 1\u001b[0m\n\u001b[1;32m----> 1\u001b[0m \u001b[43ms1\u001b[49m\u001b[43m[\u001b[49m\u001b[38;5;241;43m0\u001b[39;49m\u001b[43m]\u001b[49m\n",
      "\u001b[1;31mTypeError\u001b[0m: 'set' object is not subscriptable"
     ]
    }
   ],
   "source": [
    "s1[0]"
   ]
  },
  {
   "cell_type": "code",
   "execution_count": 71,
   "id": "67a8d3d2",
   "metadata": {},
   "outputs": [],
   "source": [
    "# There is no concept of Mutability & Immutability with sets concepts"
   ]
  },
  {
   "cell_type": "markdown",
   "id": "b6c2c3b5",
   "metadata": {},
   "source": [
    "# Dictionary"
   ]
  },
  {
   "cell_type": "markdown",
   "id": "113dd8f7",
   "metadata": {},
   "source": [
    "Dictionary is like key value pair"
   ]
  },
  {
   "cell_type": "code",
   "execution_count": 72,
   "id": "3dbad44f",
   "metadata": {},
   "outputs": [],
   "source": [
    "d={}"
   ]
  },
  {
   "cell_type": "code",
   "execution_count": 74,
   "id": "33e4e573",
   "metadata": {},
   "outputs": [],
   "source": [
    "d1={\"name\":\"charan\"}d1"
   ]
  },
  {
   "cell_type": "code",
   "execution_count": 75,
   "id": "122dfaad",
   "metadata": {},
   "outputs": [],
   "source": [
    "d1 = {'name' : \"charan\" ,\"subject\" :[\"data science \" , \"big data \" , \"data analytics\"] , \"number\" :43242424}"
   ]
  },
  {
   "cell_type": "code",
   "execution_count": 76,
   "id": "13245c31",
   "metadata": {},
   "outputs": [
    {
     "data": {
      "text/plain": [
       "{'name': 'charan',\n",
       " 'subject': ['data science ', 'big data ', 'data analytics'],\n",
       " 'number': 43242424}"
      ]
     },
     "execution_count": 76,
     "metadata": {},
     "output_type": "execute_result"
    }
   ],
   "source": [
    "d1"
   ]
  },
  {
   "cell_type": "code",
   "execution_count": 81,
   "id": "8accaa43",
   "metadata": {},
   "outputs": [
    {
     "data": {
      "text/plain": [
       "{'name': 'Mamatha'}"
      ]
     },
     "execution_count": 81,
     "metadata": {},
     "output_type": "execute_result"
    }
   ],
   "source": [
    "d2={\"name\":\"sudh\",\"name\":\"Mamatha\"}\n",
    "d2"
   ]
  },
  {
   "cell_type": "code",
   "execution_count": 84,
   "id": "d56d334d",
   "metadata": {},
   "outputs": [],
   "source": [
    "d3={23424:\"cHARAN\"}"
   ]
  },
  {
   "cell_type": "code",
   "execution_count": 85,
   "id": "09d56217",
   "metadata": {},
   "outputs": [
    {
     "ename": "TypeError",
     "evalue": "unhashable type: 'list'",
     "output_type": "error",
     "traceback": [
      "\u001b[1;31m---------------------------------------------------------------------------\u001b[0m",
      "\u001b[1;31mTypeError\u001b[0m                                 Traceback (most recent call last)",
      "Cell \u001b[1;32mIn[85], line 1\u001b[0m\n\u001b[1;32m----> 1\u001b[0m d4\u001b[38;5;241m=\u001b[39m{[\u001b[38;5;241m1\u001b[39m,\u001b[38;5;241m23\u001b[39m]:\u001b[38;5;124m\"\u001b[39m\u001b[38;5;124mcharan\u001b[39m\u001b[38;5;124m\"\u001b[39m}\n",
      "\u001b[1;31mTypeError\u001b[0m: unhashable type: 'list'"
     ]
    }
   ],
   "source": [
    "d4={[1,23]:\"charan\"}"
   ]
  },
  {
   "cell_type": "code",
   "execution_count": 86,
   "id": "602c2259",
   "metadata": {},
   "outputs": [
    {
     "ename": "TypeError",
     "evalue": "unhashable type: 'set'",
     "output_type": "error",
     "traceback": [
      "\u001b[1;31m---------------------------------------------------------------------------\u001b[0m",
      "\u001b[1;31mTypeError\u001b[0m                                 Traceback (most recent call last)",
      "Cell \u001b[1;32mIn[86], line 1\u001b[0m\n\u001b[1;32m----> 1\u001b[0m d4\u001b[38;5;241m=\u001b[39m{{\u001b[38;5;241m1\u001b[39m,\u001b[38;5;241m23\u001b[39m}:\u001b[38;5;124m\"\u001b[39m\u001b[38;5;124mcharan\u001b[39m\u001b[38;5;124m\"\u001b[39m}\n",
      "\u001b[1;31mTypeError\u001b[0m: unhashable type: 'set'"
     ]
    }
   ],
   "source": [
    "d4={{1,23}:\"charan\"}"
   ]
  },
  {
   "cell_type": "code",
   "execution_count": 87,
   "id": "b7945e26",
   "metadata": {},
   "outputs": [],
   "source": [
    "d5={(1,23):\"charan\"}"
   ]
  },
  {
   "cell_type": "code",
   "execution_count": 89,
   "id": "65b5d26f",
   "metadata": {},
   "outputs": [],
   "source": [
    "d2={\"$5\":\"charan\"}"
   ]
  },
  {
   "cell_type": "code",
   "execution_count": 92,
   "id": "d578b2c5",
   "metadata": {},
   "outputs": [],
   "source": [
    "d4 = {'course ' : ['dsa','java','webdev','blockchain' , 'cloud'] , 'mentor' :('Charan' , 'sravani' , 'viswa' , 'sourganshu' , 'sunny '),\n",
    "     'price' : {3500, 20000,15000, 11000,3500} , 'duration' :1 , 'access year' : 1 ,'syllabus' :{'python':['core python','oops','pandas','numpy' , 'db','mongodb'],'ml':['supervised','unsupervised','semisupervised']}}"
   ]
  },
  {
   "cell_type": "code",
   "execution_count": 93,
   "id": "7dbf91fc",
   "metadata": {},
   "outputs": [
    {
     "data": {
      "text/plain": [
       "('Charan', 'sravani', 'viswa', 'sourganshu', 'sunny ')"
      ]
     },
     "execution_count": 93,
     "metadata": {},
     "output_type": "execute_result"
    }
   ],
   "source": [
    "d4['mentor']"
   ]
  },
  {
   "cell_type": "code",
   "execution_count": 94,
   "id": "8abe9457",
   "metadata": {},
   "outputs": [
    {
     "data": {
      "text/plain": [
       "{'course ': ['dsa', 'java', 'webdev', 'blockchain', 'cloud'],\n",
       " 'mentor': ('Charan', 'sravani', 'viswa', 'sourganshu', 'sunny '),\n",
       " 'price': {3500, 11000, 15000, 20000},\n",
       " 'duration': 1,\n",
       " 'access year': 1,\n",
       " 'syllabus': {'python': ['core python',\n",
       "   'oops',\n",
       "   'pandas',\n",
       "   'numpy',\n",
       "   'db',\n",
       "   'mongodb'],\n",
       "  'ml': ['supervised', 'unsupervised', 'semisupervised']}}"
      ]
     },
     "execution_count": 94,
     "metadata": {},
     "output_type": "execute_result"
    }
   ],
   "source": [
    "d4"
   ]
  },
  {
   "cell_type": "code",
   "execution_count": 95,
   "id": "3550f3cf",
   "metadata": {},
   "outputs": [],
   "source": [
    "#values can be duplicated where as Keys cant be duplicated"
   ]
  },
  {
   "cell_type": "code",
   "execution_count": 100,
   "id": "ca719738",
   "metadata": {},
   "outputs": [
    {
     "data": {
      "text/plain": [
       "('Charan', 'sravani', 'viswa', 'sourganshu', 'sunny ')"
      ]
     },
     "execution_count": 100,
     "metadata": {},
     "output_type": "execute_result"
    }
   ],
   "source": [
    "d4['mentor']"
   ]
  },
  {
   "cell_type": "code",
   "execution_count": 101,
   "id": "b0093113",
   "metadata": {},
   "outputs": [
    {
     "data": {
      "text/plain": [
       "['dsa', 'java', 'webdev', 'blockchain', 'cloud']"
      ]
     },
     "execution_count": 101,
     "metadata": {},
     "output_type": "execute_result"
    }
   ],
   "source": [
    "d4['course ']"
   ]
  },
  {
   "cell_type": "code",
   "execution_count": 102,
   "id": "3236c6f3",
   "metadata": {},
   "outputs": [
    {
     "data": {
      "text/plain": [
       "{'$5': 'charan'}"
      ]
     },
     "execution_count": 102,
     "metadata": {},
     "output_type": "execute_result"
    }
   ],
   "source": [
    "d2"
   ]
  },
  {
   "cell_type": "code",
   "execution_count": 103,
   "id": "0a13fd55",
   "metadata": {},
   "outputs": [
    {
     "data": {
      "text/plain": [
       "{'$5': 'charan', 'phone number': 25421}"
      ]
     },
     "execution_count": 103,
     "metadata": {},
     "output_type": "execute_result"
    }
   ],
   "source": [
    "d2['phone number']=25421\n",
    "d2"
   ]
  },
  {
   "cell_type": "code",
   "execution_count": 104,
   "id": "66d7b855",
   "metadata": {},
   "outputs": [],
   "source": [
    "d2['name']=\"Sravani\""
   ]
  },
  {
   "cell_type": "code",
   "execution_count": 105,
   "id": "cd1dd01a",
   "metadata": {},
   "outputs": [
    {
     "data": {
      "text/plain": [
       "{'$5': 'charan', 'phone number': 25421, 'name': 'Sravani'}"
      ]
     },
     "execution_count": 105,
     "metadata": {},
     "output_type": "execute_result"
    }
   ],
   "source": [
    "d2"
   ]
  },
  {
   "cell_type": "code",
   "execution_count": 106,
   "id": "8709714e",
   "metadata": {},
   "outputs": [
    {
     "data": {
      "text/plain": [
       "{'$5': 'charan', 'phone number': 25421, 'name': 'charann'}"
      ]
     },
     "execution_count": 106,
     "metadata": {},
     "output_type": "execute_result"
    }
   ],
   "source": [
    "d2['name']='charann'\n",
    "d2"
   ]
  },
  {
   "cell_type": "code",
   "execution_count": 108,
   "id": "088a3d5a",
   "metadata": {},
   "outputs": [],
   "source": [
    "#dictionary is mutable entity "
   ]
  },
  {
   "cell_type": "markdown",
   "id": "146cd08c",
   "metadata": {},
   "source": [
    "# String Operations & inbuild Functions"
   ]
  },
  {
   "cell_type": "code",
   "execution_count": 109,
   "id": "9286dddd",
   "metadata": {},
   "outputs": [],
   "source": [
    "s1=\"pwskills\""
   ]
  },
  {
   "cell_type": "code",
   "execution_count": 110,
   "id": "f29a90b4",
   "metadata": {},
   "outputs": [
    {
     "data": {
      "text/plain": [
       "2"
      ]
     },
     "execution_count": 110,
     "metadata": {},
     "output_type": "execute_result"
    }
   ],
   "source": [
    "s1.count('l')"
   ]
  },
  {
   "cell_type": "code",
   "execution_count": 114,
   "id": "3f70897e",
   "metadata": {},
   "outputs": [
    {
     "data": {
      "text/plain": [
       "2"
      ]
     },
     "execution_count": 114,
     "metadata": {},
     "output_type": "execute_result"
    }
   ],
   "source": [
    "s1.find(\"s\")\n",
    "#Returns the Lowesst Index or First occurance of 1st String"
   ]
  },
  {
   "cell_type": "code",
   "execution_count": 115,
   "id": "cbc68db4",
   "metadata": {},
   "outputs": [
    {
     "data": {
      "text/plain": [
       "0"
      ]
     },
     "execution_count": 115,
     "metadata": {},
     "output_type": "execute_result"
    }
   ],
   "source": [
    "s1.index(\"p\")"
   ]
  },
  {
   "cell_type": "code",
   "execution_count": 116,
   "id": "b3c2f559",
   "metadata": {},
   "outputs": [
    {
     "data": {
      "text/plain": [
       "-1"
      ]
     },
     "execution_count": 116,
     "metadata": {},
     "output_type": "execute_result"
    }
   ],
   "source": [
    "s1.find(\"z\")"
   ]
  },
  {
   "cell_type": "code",
   "execution_count": 117,
   "id": "5d6ba045",
   "metadata": {},
   "outputs": [
    {
     "ename": "ValueError",
     "evalue": "substring not found",
     "output_type": "error",
     "traceback": [
      "\u001b[1;31m---------------------------------------------------------------------------\u001b[0m",
      "\u001b[1;31mValueError\u001b[0m                                Traceback (most recent call last)",
      "Cell \u001b[1;32mIn[117], line 1\u001b[0m\n\u001b[1;32m----> 1\u001b[0m \u001b[43ms1\u001b[49m\u001b[38;5;241;43m.\u001b[39;49m\u001b[43mindex\u001b[49m\u001b[43m(\u001b[49m\u001b[38;5;124;43m\"\u001b[39;49m\u001b[38;5;124;43mx\u001b[39;49m\u001b[38;5;124;43m\"\u001b[39;49m\u001b[43m)\u001b[49m\n",
      "\u001b[1;31mValueError\u001b[0m: substring not found"
     ]
    }
   ],
   "source": [
    "s1.index(\"x\")"
   ]
  },
  {
   "cell_type": "code",
   "execution_count": 118,
   "id": "438d2b38",
   "metadata": {},
   "outputs": [
    {
     "data": {
      "text/plain": [
       "'PWSKILLS'"
      ]
     },
     "execution_count": 118,
     "metadata": {},
     "output_type": "execute_result"
    }
   ],
   "source": [
    "s1.upper()"
   ]
  },
  {
   "cell_type": "code",
   "execution_count": 119,
   "id": "a8465b1c",
   "metadata": {},
   "outputs": [
    {
     "data": {
      "text/plain": [
       "'pwskills'"
      ]
     },
     "execution_count": 119,
     "metadata": {},
     "output_type": "execute_result"
    }
   ],
   "source": [
    "s1.lower()"
   ]
  },
  {
   "cell_type": "code",
   "execution_count": 120,
   "id": "1377319f",
   "metadata": {},
   "outputs": [
    {
     "data": {
      "text/plain": [
       "'Pwskills'"
      ]
     },
     "execution_count": 120,
     "metadata": {},
     "output_type": "execute_result"
    }
   ],
   "source": [
    "s1.title()"
   ]
  },
  {
   "cell_type": "code",
   "execution_count": 121,
   "id": "75242b9f",
   "metadata": {},
   "outputs": [],
   "source": [
    "s3=\"Helllo I am charan\""
   ]
  },
  {
   "cell_type": "code",
   "execution_count": 122,
   "id": "21f00124",
   "metadata": {},
   "outputs": [
    {
     "data": {
      "text/plain": [
       "['Helllo', 'I', 'am', 'charan']"
      ]
     },
     "execution_count": 122,
     "metadata": {},
     "output_type": "execute_result"
    }
   ],
   "source": [
    "s3.split()"
   ]
  },
  {
   "cell_type": "code",
   "execution_count": 126,
   "id": "e857d4ef",
   "metadata": {},
   "outputs": [],
   "source": [
    "s4=\"this is my class . i am attending this for 14th time\""
   ]
  },
  {
   "cell_type": "code",
   "execution_count": 128,
   "id": "778650a5",
   "metadata": {},
   "outputs": [
    {
     "data": {
      "text/plain": [
       "'this is my class '"
      ]
     },
     "execution_count": 128,
     "metadata": {},
     "output_type": "execute_result"
    }
   ],
   "source": [
    "s4.split(\".\")[0]"
   ]
  },
  {
   "cell_type": "code",
   "execution_count": 129,
   "id": "967010e7",
   "metadata": {},
   "outputs": [
    {
     "data": {
      "text/plain": [
       "' i am attending this for 14th time'"
      ]
     },
     "execution_count": 129,
     "metadata": {},
     "output_type": "execute_result"
    }
   ],
   "source": [
    "s4.split(\".\")[1]"
   ]
  },
  {
   "cell_type": "code",
   "execution_count": 130,
   "id": "63642824",
   "metadata": {},
   "outputs": [
    {
     "data": {
      "text/plain": [
       "['this is my class ', ' i am attending this for 14th time']"
      ]
     },
     "execution_count": 130,
     "metadata": {},
     "output_type": "execute_result"
    }
   ],
   "source": [
    "s4.split(\".\")"
   ]
  },
  {
   "cell_type": "code",
   "execution_count": 131,
   "id": "cc49ca20",
   "metadata": {},
   "outputs": [
    {
     "ename": "NameError",
     "evalue": "name 's2' is not defined",
     "output_type": "error",
     "traceback": [
      "\u001b[1;31m---------------------------------------------------------------------------\u001b[0m",
      "\u001b[1;31mNameError\u001b[0m                                 Traceback (most recent call last)",
      "Cell \u001b[1;32mIn[131], line 1\u001b[0m\n\u001b[1;32m----> 1\u001b[0m \u001b[43ms2\u001b[49m\n",
      "\u001b[1;31mNameError\u001b[0m: name 's2' is not defined"
     ]
    }
   ],
   "source": [
    "s2"
   ]
  },
  {
   "cell_type": "code",
   "execution_count": 132,
   "id": "b8f97f5a",
   "metadata": {},
   "outputs": [],
   "source": [
    "s2=\"charan\""
   ]
  },
  {
   "cell_type": "code",
   "execution_count": 133,
   "id": "73c304d7",
   "metadata": {},
   "outputs": [
    {
     "data": {
      "text/plain": [
       "'charaa'"
      ]
     },
     "execution_count": 133,
     "metadata": {},
     "output_type": "execute_result"
    }
   ],
   "source": [
    "s2.replace('n','a')"
   ]
  },
  {
   "cell_type": "code",
   "execution_count": 134,
   "id": "076786c5",
   "metadata": {},
   "outputs": [
    {
     "data": {
      "text/plain": [
       "'fffffffffffffffffcharanfffffffffffffffff'"
      ]
     },
     "execution_count": 134,
     "metadata": {},
     "output_type": "execute_result"
    }
   ],
   "source": [
    "s2.center(40,\"f\")"
   ]
  },
  {
   "cell_type": "code",
   "execution_count": 135,
   "id": "d8db4034",
   "metadata": {},
   "outputs": [
    {
     "data": {
      "text/plain": [
       "'pwskills'"
      ]
     },
     "execution_count": 135,
     "metadata": {},
     "output_type": "execute_result"
    }
   ],
   "source": [
    "s1"
   ]
  },
  {
   "cell_type": "code",
   "execution_count": 136,
   "id": "39493124",
   "metadata": {},
   "outputs": [
    {
     "data": {
      "text/plain": [
       "True"
      ]
     },
     "execution_count": 136,
     "metadata": {},
     "output_type": "execute_result"
    }
   ],
   "source": [
    "s1.isalnum()"
   ]
  },
  {
   "cell_type": "code",
   "execution_count": 137,
   "id": "8d9ac57e",
   "metadata": {},
   "outputs": [
    {
     "data": {
      "text/plain": [
       "True"
      ]
     },
     "execution_count": 137,
     "metadata": {},
     "output_type": "execute_result"
    }
   ],
   "source": [
    "s1.isalpha()"
   ]
  },
  {
   "cell_type": "code",
   "execution_count": 138,
   "id": "25d796db",
   "metadata": {},
   "outputs": [
    {
     "data": {
      "text/plain": [
       "False"
      ]
     },
     "execution_count": 138,
     "metadata": {},
     "output_type": "execute_result"
    }
   ],
   "source": [
    "s1.isnumeric()\n"
   ]
  },
  {
   "cell_type": "markdown",
   "id": "51fde8d9",
   "metadata": {},
   "source": [
    "# List Functions"
   ]
  },
  {
   "cell_type": "code",
   "execution_count": 139,
   "id": "4d94cb8f",
   "metadata": {},
   "outputs": [
    {
     "data": {
      "text/plain": [
       "[1, 2, 3, 4, 5, 'charan', (3+8j), 'Vamsi', [3, 6, 7]]"
      ]
     },
     "execution_count": 139,
     "metadata": {},
     "output_type": "execute_result"
    }
   ],
   "source": [
    "l1"
   ]
  },
  {
   "cell_type": "code",
   "execution_count": 140,
   "id": "98b9d21e",
   "metadata": {},
   "outputs": [
    {
     "data": {
      "text/plain": [
       "['Sravani', 4, 5, 'pwskills', 'sai']"
      ]
     },
     "execution_count": 140,
     "metadata": {},
     "output_type": "execute_result"
    }
   ],
   "source": [
    "l2"
   ]
  },
  {
   "cell_type": "code",
   "execution_count": 142,
   "id": "e06a188d",
   "metadata": {},
   "outputs": [],
   "source": [
    "l1.append(\"Powerstar\")"
   ]
  },
  {
   "cell_type": "code",
   "execution_count": 143,
   "id": "a05c2728",
   "metadata": {},
   "outputs": [
    {
     "data": {
      "text/plain": [
       "[1, 2, 3, 4, 5, 'charan', (3+8j), 'Vamsi', [3, 6, 7], 'Powerstar']"
      ]
     },
     "execution_count": 143,
     "metadata": {},
     "output_type": "execute_result"
    }
   ],
   "source": [
    "l1"
   ]
  },
  {
   "cell_type": "code",
   "execution_count": 147,
   "id": "331ea560",
   "metadata": {},
   "outputs": [],
   "source": [
    "#Append is going to add the data at last if i want after 3 we can insert according to my choice"
   ]
  },
  {
   "cell_type": "code",
   "execution_count": 145,
   "id": "12c61abb",
   "metadata": {},
   "outputs": [],
   "source": [
    "l2.insert(1,\"charan\")"
   ]
  },
  {
   "cell_type": "code",
   "execution_count": 146,
   "id": "df52ed82",
   "metadata": {},
   "outputs": [
    {
     "data": {
      "text/plain": [
       "['Sravani', 'charan', 4, 5, 'pwskills', 'sai']"
      ]
     },
     "execution_count": 146,
     "metadata": {},
     "output_type": "execute_result"
    }
   ],
   "source": [
    "l2"
   ]
  },
  {
   "cell_type": "code",
   "execution_count": 148,
   "id": "e6a2ca6c",
   "metadata": {},
   "outputs": [],
   "source": [
    "l2.extend(\"mahesh\")"
   ]
  },
  {
   "cell_type": "code",
   "execution_count": 149,
   "id": "77575b05",
   "metadata": {},
   "outputs": [
    {
     "data": {
      "text/plain": [
       "['Sravani', 'charan', 4, 5, 'pwskills', 'sai', 'm', 'a', 'h', 'e', 's', 'h']"
      ]
     },
     "execution_count": 149,
     "metadata": {},
     "output_type": "execute_result"
    }
   ],
   "source": [
    "l2"
   ]
  },
  {
   "cell_type": "code",
   "execution_count": 150,
   "id": "91123586",
   "metadata": {},
   "outputs": [
    {
     "data": {
      "text/plain": [
       "['Sravani',\n",
       " 'charan',\n",
       " 4,\n",
       " 5,\n",
       " 'pwskills',\n",
       " 'sai',\n",
       " 'm',\n",
       " 'a',\n",
       " 'h',\n",
       " 'e',\n",
       " 's',\n",
       " 'h',\n",
       " 'tharun']"
      ]
     },
     "execution_count": 150,
     "metadata": {},
     "output_type": "execute_result"
    }
   ],
   "source": [
    "l2.append(\"tharun\")\n",
    "l2"
   ]
  },
  {
   "cell_type": "code",
   "execution_count": 152,
   "id": "c662a976",
   "metadata": {},
   "outputs": [
    {
     "data": {
      "text/plain": [
       "['Sravani',\n",
       " 'charan',\n",
       " 4,\n",
       " 5,\n",
       " 'Tharun',\n",
       " 'Tharun',\n",
       " 'pwskills',\n",
       " 'sai',\n",
       " 'm',\n",
       " 'a',\n",
       " 'h',\n",
       " 'e',\n",
       " 's',\n",
       " 'h',\n",
       " 'tharun']"
      ]
     },
     "execution_count": 152,
     "metadata": {},
     "output_type": "execute_result"
    }
   ],
   "source": [
    "l2.insert(4,\"Tharun\")\n",
    "l2\n"
   ]
  },
  {
   "cell_type": "code",
   "execution_count": 153,
   "id": "3daf58aa",
   "metadata": {},
   "outputs": [
    {
     "data": {
      "text/plain": [
       "['Sravani',\n",
       " 'charan',\n",
       " 4,\n",
       " 5,\n",
       " 'Tharun',\n",
       " 'Tharun',\n",
       " 'pwskills',\n",
       " 'sai',\n",
       " 'm',\n",
       " 'a',\n",
       " 'h',\n",
       " 'e',\n",
       " 's',\n",
       " 'h',\n",
       " 'tharun',\n",
       " 'T',\n",
       " 'h',\n",
       " 'a',\n",
       " 'r',\n",
       " 'u',\n",
       " 'n']"
      ]
     },
     "execution_count": 153,
     "metadata": {},
     "output_type": "execute_result"
    }
   ],
   "source": [
    "l2.extend(\"Tharun\")\n",
    "l2"
   ]
  },
  {
   "cell_type": "code",
   "execution_count": 154,
   "id": "313d273a",
   "metadata": {},
   "outputs": [
    {
     "data": {
      "text/plain": [
       "['Sravani',\n",
       " 'charan',\n",
       " 4,\n",
       " 5,\n",
       " 'Tharun',\n",
       " 'Tharun',\n",
       " 'pwskills',\n",
       " 'sai',\n",
       " 'm',\n",
       " 'a',\n",
       " 'h',\n",
       " 'e',\n",
       " 's',\n",
       " 'h',\n",
       " 'tharun',\n",
       " 'T',\n",
       " 'h',\n",
       " 'a',\n",
       " 'r',\n",
       " 'u',\n",
       " 'n']"
      ]
     },
     "execution_count": 154,
     "metadata": {},
     "output_type": "execute_result"
    }
   ],
   "source": [
    "l2"
   ]
  },
  {
   "cell_type": "code",
   "execution_count": 155,
   "id": "b6f2a787",
   "metadata": {},
   "outputs": [
    {
     "data": {
      "text/plain": [
       "[1, 2, 3, 4, 5, [1, 2, 3]]"
      ]
     },
     "execution_count": 155,
     "metadata": {},
     "output_type": "execute_result"
    }
   ],
   "source": [
    "l3=[1,2,3,4,5]\n",
    "l3.append([1,2,3])\n",
    "l3"
   ]
  },
  {
   "cell_type": "code",
   "execution_count": 156,
   "id": "35f9d48d",
   "metadata": {},
   "outputs": [
    {
     "data": {
      "text/plain": [
       "[1, [6, 7, 8], 2, 3, 4, 5, [1, 2, 3]]"
      ]
     },
     "execution_count": 156,
     "metadata": {},
     "output_type": "execute_result"
    }
   ],
   "source": [
    "l3.insert(1,[6,7,8])\n",
    "l3"
   ]
  },
  {
   "cell_type": "code",
   "execution_count": 158,
   "id": "db140994",
   "metadata": {},
   "outputs": [
    {
     "data": {
      "text/plain": [
       "[1, [6, 7, 8], 2, 3, 4, 5, [1, 2, 3], 4, 5, 6, 4, 5, 6]"
      ]
     },
     "execution_count": 158,
     "metadata": {},
     "output_type": "execute_result"
    }
   ],
   "source": [
    "l3.extend([4,5,6])\n",
    "l3"
   ]
  },
  {
   "cell_type": "code",
   "execution_count": 160,
   "id": "9266d332",
   "metadata": {},
   "outputs": [
    {
     "data": {
      "text/plain": [
       "[1, [6, 7, 8], 2, 3, 4, 5, [1, 2, 3], 4, 5, 6, 4]"
      ]
     },
     "execution_count": 160,
     "metadata": {},
     "output_type": "execute_result"
    }
   ],
   "source": [
    "l3.pop()\n",
    "l3"
   ]
  },
  {
   "cell_type": "code",
   "execution_count": 161,
   "id": "45ed62e7",
   "metadata": {},
   "outputs": [],
   "source": [
    "del l3"
   ]
  },
  {
   "cell_type": "code",
   "execution_count": 162,
   "id": "ebc68e07",
   "metadata": {},
   "outputs": [
    {
     "ename": "NameError",
     "evalue": "name 'l3' is not defined",
     "output_type": "error",
     "traceback": [
      "\u001b[1;31m---------------------------------------------------------------------------\u001b[0m",
      "\u001b[1;31mNameError\u001b[0m                                 Traceback (most recent call last)",
      "Cell \u001b[1;32mIn[162], line 1\u001b[0m\n\u001b[1;32m----> 1\u001b[0m \u001b[43ml3\u001b[49m\n",
      "\u001b[1;31mNameError\u001b[0m: name 'l3' is not defined"
     ]
    }
   ],
   "source": [
    "l3"
   ]
  },
  {
   "cell_type": "code",
   "execution_count": 167,
   "id": "063631f6",
   "metadata": {},
   "outputs": [
    {
     "ename": "ValueError",
     "evalue": "list.remove(x): x not in list",
     "output_type": "error",
     "traceback": [
      "\u001b[1;31m---------------------------------------------------------------------------\u001b[0m",
      "\u001b[1;31mValueError\u001b[0m                                Traceback (most recent call last)",
      "Cell \u001b[1;32mIn[167], line 1\u001b[0m\n\u001b[1;32m----> 1\u001b[0m \u001b[43ml2\u001b[49m\u001b[38;5;241;43m.\u001b[39;49m\u001b[43mremove\u001b[49m\u001b[43m(\u001b[49m\u001b[38;5;124;43m\"\u001b[39;49m\u001b[38;5;124;43mTharun\u001b[39;49m\u001b[38;5;124;43m\"\u001b[39;49m\u001b[43m)\u001b[49m\n",
      "\u001b[1;31mValueError\u001b[0m: list.remove(x): x not in list"
     ]
    }
   ],
   "source": [
    "l2.remove(\"Tharun\")#first occurance remove"
   ]
  },
  {
   "cell_type": "code",
   "execution_count": 168,
   "id": "7da8bd08",
   "metadata": {},
   "outputs": [
    {
     "ename": "IndexError",
     "evalue": "pop index out of range",
     "output_type": "error",
     "traceback": [
      "\u001b[1;31m---------------------------------------------------------------------------\u001b[0m",
      "\u001b[1;31mIndexError\u001b[0m                                Traceback (most recent call last)",
      "Cell \u001b[1;32mIn[168], line 1\u001b[0m\n\u001b[1;32m----> 1\u001b[0m \u001b[43ml2\u001b[49m\u001b[38;5;241;43m.\u001b[39;49m\u001b[43mpop\u001b[49m\u001b[43m(\u001b[49m\u001b[38;5;241;43m1999\u001b[39;49m\u001b[43m)\u001b[49m\n",
      "\u001b[1;31mIndexError\u001b[0m: pop index out of range"
     ]
    }
   ],
   "source": [
    "l2.pop(1999)"
   ]
  },
  {
   "cell_type": "code",
   "execution_count": 164,
   "id": "5b5eb727",
   "metadata": {},
   "outputs": [
    {
     "data": {
      "text/plain": [
       "['Sravani',\n",
       " 'charan',\n",
       " 4,\n",
       " 5,\n",
       " 'Tharun',\n",
       " 'pwskills',\n",
       " 'sai',\n",
       " 'm',\n",
       " 'a',\n",
       " 'h',\n",
       " 'e',\n",
       " 's',\n",
       " 'h',\n",
       " 'tharun',\n",
       " 'T',\n",
       " 'h',\n",
       " 'a',\n",
       " 'r',\n",
       " 'u',\n",
       " 'n']"
      ]
     },
     "execution_count": 164,
     "metadata": {},
     "output_type": "execute_result"
    }
   ],
   "source": [
    "l2"
   ]
  },
  {
   "cell_type": "code",
   "execution_count": 169,
   "id": "9145c5a1",
   "metadata": {},
   "outputs": [
    {
     "data": {
      "text/plain": [
       "[]"
      ]
     },
     "execution_count": 169,
     "metadata": {},
     "output_type": "execute_result"
    }
   ],
   "source": [
    "l1.clear()\n",
    "l1"
   ]
  },
  {
   "cell_type": "code",
   "execution_count": 171,
   "id": "e3ee2a94",
   "metadata": {},
   "outputs": [],
   "source": [
    "# del pop clear Remove\n",
    "#append insert Extend"
   ]
  },
  {
   "cell_type": "code",
   "execution_count": 172,
   "id": "42bfdd05",
   "metadata": {},
   "outputs": [
    {
     "data": {
      "text/plain": [
       "1"
      ]
     },
     "execution_count": 172,
     "metadata": {},
     "output_type": "execute_result"
    }
   ],
   "source": [
    "l2.count('s')"
   ]
  },
  {
   "cell_type": "code",
   "execution_count": 173,
   "id": "0e74cafb",
   "metadata": {},
   "outputs": [
    {
     "data": {
      "text/plain": [
       "['Sravani',\n",
       " 'charan',\n",
       " 4,\n",
       " 5,\n",
       " 'pwskills',\n",
       " 'sai',\n",
       " 'm',\n",
       " 'a',\n",
       " 'h',\n",
       " 'e',\n",
       " 's',\n",
       " 'h',\n",
       " 'tharun',\n",
       " 'T',\n",
       " 'h',\n",
       " 'a',\n",
       " 'r',\n",
       " 'u',\n",
       " 'n']"
      ]
     },
     "execution_count": 173,
     "metadata": {},
     "output_type": "execute_result"
    }
   ],
   "source": [
    "l2"
   ]
  },
  {
   "cell_type": "code",
   "execution_count": 174,
   "id": "573dc599",
   "metadata": {},
   "outputs": [
    {
     "data": {
      "text/plain": [
       "10"
      ]
     },
     "execution_count": 174,
     "metadata": {},
     "output_type": "execute_result"
    }
   ],
   "source": [
    "l2.index(\"s\")"
   ]
  },
  {
   "cell_type": "code",
   "execution_count": 177,
   "id": "9810d4d2",
   "metadata": {},
   "outputs": [
    {
     "data": {
      "text/plain": [
       "[3, 4, 5, 6, 12]"
      ]
     },
     "execution_count": 177,
     "metadata": {},
     "output_type": "execute_result"
    }
   ],
   "source": [
    "l4=[12,3,4,5,6]\n",
    "l4.sort()\n",
    "l4"
   ]
  },
  {
   "cell_type": "code",
   "execution_count": 179,
   "id": "428e7599",
   "metadata": {},
   "outputs": [
    {
     "data": {
      "text/plain": [
       "['vamsi', 'sai', 'chikky', 'charan']"
      ]
     },
     "execution_count": 179,
     "metadata": {},
     "output_type": "execute_result"
    }
   ],
   "source": [
    "l5=['sai','charan','chikky','vamsi']\n",
    "l5.sort(reverse=True)\n",
    "l5"
   ]
  },
  {
   "cell_type": "code",
   "execution_count": 180,
   "id": "515638f9",
   "metadata": {},
   "outputs": [
    {
     "ename": "NameError",
     "evalue": "name 'l3' is not defined",
     "output_type": "error",
     "traceback": [
      "\u001b[1;31m---------------------------------------------------------------------------\u001b[0m",
      "\u001b[1;31mNameError\u001b[0m                                 Traceback (most recent call last)",
      "Cell \u001b[1;32mIn[180], line 1\u001b[0m\n\u001b[1;32m----> 1\u001b[0m \u001b[43ml3\u001b[49m\n",
      "\u001b[1;31mNameError\u001b[0m: name 'l3' is not defined"
     ]
    }
   ],
   "source": [
    "l3"
   ]
  },
  {
   "cell_type": "code",
   "execution_count": 181,
   "id": "630d4479",
   "metadata": {},
   "outputs": [
    {
     "data": {
      "text/plain": [
       "[3, 2, 5, 7, 3, 4, 5, 6]"
      ]
     },
     "execution_count": 181,
     "metadata": {},
     "output_type": "execute_result"
    }
   ],
   "source": [
    "l3=[3,2,5,7,3,4,5,6]\n",
    "l3"
   ]
  },
  {
   "cell_type": "code",
   "execution_count": 182,
   "id": "de3031b2",
   "metadata": {},
   "outputs": [],
   "source": [
    "l4=set(l3)"
   ]
  },
  {
   "cell_type": "code",
   "execution_count": 183,
   "id": "e5e2fc8e",
   "metadata": {},
   "outputs": [],
   "source": [
    "l6=list(l4)"
   ]
  },
  {
   "cell_type": "code",
   "execution_count": 184,
   "id": "00ee4d9f",
   "metadata": {},
   "outputs": [],
   "source": [
    "l6.sort()"
   ]
  },
  {
   "cell_type": "code",
   "execution_count": 185,
   "id": "6bc4e208",
   "metadata": {},
   "outputs": [
    {
     "data": {
      "text/plain": [
       "[2, 3, 4, 5, 6, 7]"
      ]
     },
     "execution_count": 185,
     "metadata": {},
     "output_type": "execute_result"
    }
   ],
   "source": [
    "l6"
   ]
  },
  {
   "cell_type": "code",
   "execution_count": 186,
   "id": "561732e5",
   "metadata": {},
   "outputs": [],
   "source": [
    "# Copy"
   ]
  },
  {
   "cell_type": "code",
   "execution_count": 187,
   "id": "51f1fa28",
   "metadata": {},
   "outputs": [],
   "source": [
    "a0=[2,3,4,5]\n"
   ]
  },
  {
   "cell_type": "code",
   "execution_count": 188,
   "id": "e67fce9c",
   "metadata": {},
   "outputs": [],
   "source": [
    "a1=a0"
   ]
  },
  {
   "cell_type": "code",
   "execution_count": 189,
   "id": "3018e64d",
   "metadata": {},
   "outputs": [
    {
     "data": {
      "text/plain": [
       "[2, 3, 4, 5]"
      ]
     },
     "execution_count": 189,
     "metadata": {},
     "output_type": "execute_result"
    }
   ],
   "source": [
    "a1"
   ]
  },
  {
   "cell_type": "code",
   "execution_count": 190,
   "id": "69dc7c85",
   "metadata": {},
   "outputs": [
    {
     "data": {
      "text/plain": [
       "[2, 3, 4, 5]"
      ]
     },
     "execution_count": 190,
     "metadata": {},
     "output_type": "execute_result"
    }
   ],
   "source": [
    "a0"
   ]
  },
  {
   "cell_type": "code",
   "execution_count": 191,
   "id": "d5163539",
   "metadata": {},
   "outputs": [],
   "source": [
    "a0[0]=200"
   ]
  },
  {
   "cell_type": "code",
   "execution_count": 192,
   "id": "b83b8fe1",
   "metadata": {},
   "outputs": [
    {
     "data": {
      "text/plain": [
       "[200, 3, 4, 5]"
      ]
     },
     "execution_count": 192,
     "metadata": {},
     "output_type": "execute_result"
    }
   ],
   "source": [
    "a1"
   ]
  },
  {
   "cell_type": "code",
   "execution_count": 200,
   "id": "8fc6400b",
   "metadata": {},
   "outputs": [],
   "source": [
    "a2=a0.copy()\n",
    "# Deep Copy"
   ]
  },
  {
   "cell_type": "code",
   "execution_count": 194,
   "id": "b0610d11",
   "metadata": {},
   "outputs": [
    {
     "data": {
      "text/plain": [
       "[200, 3, 4, 5]"
      ]
     },
     "execution_count": 194,
     "metadata": {},
     "output_type": "execute_result"
    }
   ],
   "source": [
    "a2"
   ]
  },
  {
   "cell_type": "code",
   "execution_count": 195,
   "id": "8529b2fe",
   "metadata": {},
   "outputs": [
    {
     "data": {
      "text/plain": [
       "[200, 3, 4, 5]"
      ]
     },
     "execution_count": 195,
     "metadata": {},
     "output_type": "execute_result"
    }
   ],
   "source": [
    "a1"
   ]
  },
  {
   "cell_type": "code",
   "execution_count": 196,
   "id": "865042e7",
   "metadata": {},
   "outputs": [
    {
     "data": {
      "text/plain": [
       "[200, 3, 4, 5]"
      ]
     },
     "execution_count": 196,
     "metadata": {},
     "output_type": "execute_result"
    }
   ],
   "source": [
    "a0\n"
   ]
  },
  {
   "cell_type": "code",
   "execution_count": 197,
   "id": "dadefa29",
   "metadata": {},
   "outputs": [],
   "source": [
    "a0[0]=300"
   ]
  },
  {
   "cell_type": "code",
   "execution_count": 198,
   "id": "1079d253",
   "metadata": {},
   "outputs": [
    {
     "data": {
      "text/plain": [
       "[300, 3, 4, 5]"
      ]
     },
     "execution_count": 198,
     "metadata": {},
     "output_type": "execute_result"
    }
   ],
   "source": [
    "a1"
   ]
  },
  {
   "cell_type": "code",
   "execution_count": 199,
   "id": "afbe5ba4",
   "metadata": {},
   "outputs": [
    {
     "data": {
      "text/plain": [
       "[200, 3, 4, 5]"
      ]
     },
     "execution_count": 199,
     "metadata": {},
     "output_type": "execute_result"
    }
   ],
   "source": [
    "a2"
   ]
  },
  {
   "cell_type": "markdown",
   "id": "75b8d970",
   "metadata": {},
   "source": [
    "# tuples"
   ]
  },
  {
   "cell_type": "code",
   "execution_count": 201,
   "id": "7df31965",
   "metadata": {},
   "outputs": [
    {
     "data": {
      "text/plain": [
       "(1, 2, 3, 4, 'charan', 'sravani', (6+8j), True)"
      ]
     },
     "execution_count": 201,
     "metadata": {},
     "output_type": "execute_result"
    }
   ],
   "source": [
    "t"
   ]
  },
  {
   "cell_type": "code",
   "execution_count": 202,
   "id": "ef521e37",
   "metadata": {},
   "outputs": [
    {
     "data": {
      "text/plain": [
       "1"
      ]
     },
     "execution_count": 202,
     "metadata": {},
     "output_type": "execute_result"
    }
   ],
   "source": [
    "t.count(4)"
   ]
  },
  {
   "cell_type": "code",
   "execution_count": 203,
   "id": "255d2753",
   "metadata": {},
   "outputs": [
    {
     "data": {
      "text/plain": [
       "5"
      ]
     },
     "execution_count": 203,
     "metadata": {},
     "output_type": "execute_result"
    }
   ],
   "source": [
    "t.index(\"sravani\")"
   ]
  },
  {
   "cell_type": "code",
   "execution_count": 204,
   "id": "2bc8f934",
   "metadata": {},
   "outputs": [
    {
     "data": {
      "text/plain": [
       "{}"
      ]
     },
     "execution_count": 204,
     "metadata": {},
     "output_type": "execute_result"
    }
   ],
   "source": [
    "s"
   ]
  },
  {
   "cell_type": "code",
   "execution_count": 205,
   "id": "b900b9eb",
   "metadata": {},
   "outputs": [
    {
     "data": {
      "text/plain": [
       "set"
      ]
     },
     "execution_count": 205,
     "metadata": {},
     "output_type": "execute_result"
    }
   ],
   "source": [
    "s={3,4,5,6,6,43,3,3,3,3,3,5,5,5,6}\n",
    "type(s)"
   ]
  },
  {
   "cell_type": "code",
   "execution_count": 206,
   "id": "ae9a42ad",
   "metadata": {},
   "outputs": [],
   "source": [
    "s.add(234)"
   ]
  },
  {
   "cell_type": "code",
   "execution_count": 207,
   "id": "948a6618",
   "metadata": {},
   "outputs": [
    {
     "data": {
      "text/plain": [
       "{3, 4, 5, 6, 43, 234}"
      ]
     },
     "execution_count": 207,
     "metadata": {},
     "output_type": "execute_result"
    }
   ],
   "source": [
    "s"
   ]
  },
  {
   "cell_type": "code",
   "execution_count": 208,
   "id": "bad06bb4",
   "metadata": {},
   "outputs": [],
   "source": [
    "s.add(4)"
   ]
  },
  {
   "cell_type": "code",
   "execution_count": 209,
   "id": "ef425177",
   "metadata": {},
   "outputs": [
    {
     "data": {
      "text/plain": [
       "{3, 4, 5, 6, 43, 234}"
      ]
     },
     "execution_count": 209,
     "metadata": {},
     "output_type": "execute_result"
    }
   ],
   "source": [
    "s"
   ]
  },
  {
   "cell_type": "code",
   "execution_count": 210,
   "id": "59a1c842",
   "metadata": {},
   "outputs": [],
   "source": [
    "s.clear()"
   ]
  },
  {
   "cell_type": "code",
   "execution_count": 211,
   "id": "30da7142",
   "metadata": {},
   "outputs": [
    {
     "data": {
      "text/plain": [
       "set()"
      ]
     },
     "execution_count": 211,
     "metadata": {},
     "output_type": "execute_result"
    }
   ],
   "source": [
    "s"
   ]
  },
  {
   "cell_type": "code",
   "execution_count": 212,
   "id": "a090f3ad",
   "metadata": {},
   "outputs": [
    {
     "ename": "KeyError",
     "evalue": "'pop from an empty set'",
     "output_type": "error",
     "traceback": [
      "\u001b[1;31m---------------------------------------------------------------------------\u001b[0m",
      "\u001b[1;31mKeyError\u001b[0m                                  Traceback (most recent call last)",
      "Cell \u001b[1;32mIn[212], line 1\u001b[0m\n\u001b[1;32m----> 1\u001b[0m \u001b[43ms\u001b[49m\u001b[38;5;241;43m.\u001b[39;49m\u001b[43mpop\u001b[49m\u001b[43m(\u001b[49m\u001b[43m)\u001b[49m\n",
      "\u001b[1;31mKeyError\u001b[0m: 'pop from an empty set'"
     ]
    }
   ],
   "source": [
    "s.pop()"
   ]
  },
  {
   "cell_type": "code",
   "execution_count": 213,
   "id": "fc72ec2a",
   "metadata": {},
   "outputs": [
    {
     "data": {
      "text/plain": [
       "{'name': 'Tharun'}"
      ]
     },
     "execution_count": 213,
     "metadata": {},
     "output_type": "execute_result"
    }
   ],
   "source": [
    "d1"
   ]
  },
  {
   "cell_type": "code",
   "execution_count": 214,
   "id": "0522617e",
   "metadata": {},
   "outputs": [
    {
     "data": {
      "text/plain": [
       "{'$5': 'charan', 'phone number': 25421, 'name': 'charann'}"
      ]
     },
     "execution_count": 214,
     "metadata": {},
     "output_type": "execute_result"
    }
   ],
   "source": [
    "d2"
   ]
  },
  {
   "cell_type": "code",
   "execution_count": 215,
   "id": "3d6fc97b",
   "metadata": {},
   "outputs": [
    {
     "data": {
      "text/plain": [
       "dict_keys(['name'])"
      ]
     },
     "execution_count": 215,
     "metadata": {},
     "output_type": "execute_result"
    }
   ],
   "source": [
    "d1.keys()"
   ]
  },
  {
   "cell_type": "code",
   "execution_count": 218,
   "id": "25026601",
   "metadata": {},
   "outputs": [
    {
     "data": {
      "text/plain": [
       "['$5', 'phone number', 'name']"
      ]
     },
     "execution_count": 218,
     "metadata": {},
     "output_type": "execute_result"
    }
   ],
   "source": [
    "list(d2.keys())"
   ]
  },
  {
   "cell_type": "code",
   "execution_count": 217,
   "id": "ed2ce8f2",
   "metadata": {},
   "outputs": [
    {
     "data": {
      "text/plain": [
       "dict_values(['charan', 25421, 'charann'])"
      ]
     },
     "execution_count": 217,
     "metadata": {},
     "output_type": "execute_result"
    }
   ],
   "source": [
    "d2.values()"
   ]
  },
  {
   "cell_type": "code",
   "execution_count": 219,
   "id": "ad21b1ba",
   "metadata": {},
   "outputs": [
    {
     "data": {
      "text/plain": [
       "[('course ', ['dsa', 'java', 'webdev', 'blockchain', 'cloud']),\n",
       " ('mentor', ('Charan', 'sravani', 'viswa', 'sourganshu', 'sunny ')),\n",
       " ('price', {3500, 11000, 15000, 20000}),\n",
       " ('duration', 1),\n",
       " ('access year', 1),\n",
       " ('syllabus',\n",
       "  {'python': ['core python', 'oops', 'pandas', 'numpy', 'db', 'mongodb'],\n",
       "   'ml': ['supervised', 'unsupervised', 'semisupervised']})]"
      ]
     },
     "execution_count": 219,
     "metadata": {},
     "output_type": "execute_result"
    }
   ],
   "source": [
    "list(d4.items())"
   ]
  },
  {
   "cell_type": "code",
   "execution_count": 220,
   "id": "34808fa4",
   "metadata": {},
   "outputs": [
    {
     "data": {
      "text/plain": [
       "'Tharun'"
      ]
     },
     "execution_count": 220,
     "metadata": {},
     "output_type": "execute_result"
    }
   ],
   "source": [
    "d1.get('name')"
   ]
  },
  {
   "cell_type": "code",
   "execution_count": 221,
   "id": "d3f6a3a8",
   "metadata": {},
   "outputs": [
    {
     "data": {
      "text/plain": [
       "'Tharun'"
      ]
     },
     "execution_count": 221,
     "metadata": {},
     "output_type": "execute_result"
    }
   ],
   "source": [
    "d1['name']"
   ]
  },
  {
   "cell_type": "code",
   "execution_count": 222,
   "id": "35aba4ff",
   "metadata": {},
   "outputs": [
    {
     "data": {
      "text/plain": [
       "{23424: 'cHARAN'}"
      ]
     },
     "execution_count": 222,
     "metadata": {},
     "output_type": "execute_result"
    }
   ],
   "source": [
    "d3"
   ]
  },
  {
   "cell_type": "code",
   "execution_count": 223,
   "id": "697002fd",
   "metadata": {},
   "outputs": [
    {
     "data": {
      "text/plain": [
       "'cHARAN'"
      ]
     },
     "execution_count": 223,
     "metadata": {},
     "output_type": "execute_result"
    }
   ],
   "source": [
    "d3.pop(23424)"
   ]
  },
  {
   "cell_type": "code",
   "execution_count": 224,
   "id": "830888d8",
   "metadata": {},
   "outputs": [
    {
     "data": {
      "text/plain": [
       "{}"
      ]
     },
     "execution_count": 224,
     "metadata": {},
     "output_type": "execute_result"
    }
   ],
   "source": [
    "d3"
   ]
  },
  {
   "cell_type": "code",
   "execution_count": null,
   "id": "738ddc9e",
   "metadata": {},
   "outputs": [],
   "source": []
  }
 ],
 "metadata": {
  "kernelspec": {
   "display_name": "Python 3 (ipykernel)",
   "language": "python",
   "name": "python3"
  },
  "language_info": {
   "codemirror_mode": {
    "name": "ipython",
    "version": 3
   },
   "file_extension": ".py",
   "mimetype": "text/x-python",
   "name": "python",
   "nbconvert_exporter": "python",
   "pygments_lexer": "ipython3",
   "version": "3.12.7"
  }
 },
 "nbformat": 4,
 "nbformat_minor": 5
}
