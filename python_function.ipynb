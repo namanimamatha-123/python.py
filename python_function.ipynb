{
 "cells": [
  {
   "cell_type": "code",
   "execution_count": 16,
   "id": "b238e92a",
   "metadata": {},
   "outputs": [],
   "source": [
    "#Add 2 numbers in python"
   ]
  },
  {
   "cell_type": "code",
   "execution_count": 17,
   "id": "557a33b5",
   "metadata": {},
   "outputs": [
    {
     "name": "stdout",
     "output_type": "stream",
     "text": [
      "5\n"
     ]
    }
   ],
   "source": [
    "a=2\n",
    "b=3\n",
    "c=a+b\n",
    "print(a+b)"
   ]
  },
  {
   "cell_type": "code",
   "execution_count": 18,
   "id": "d52cd1bc",
   "metadata": {},
   "outputs": [
    {
     "name": "stdout",
     "output_type": "stream",
     "text": [
      "25\n"
     ]
    }
   ],
   "source": [
    "a=12\n",
    "b=13\n",
    "c=a+b\n",
    "print(c)"
   ]
  },
  {
   "cell_type": "code",
   "execution_count": 19,
   "id": "52960fe6",
   "metadata": {},
   "outputs": [
    {
     "name": "stdout",
     "output_type": "stream",
     "text": [
      "50\n"
     ]
    }
   ],
   "source": [
    "a=20\n",
    "b=30\n",
    "c=a+b\n",
    "print(c)"
   ]
  },
  {
   "cell_type": "code",
   "execution_count": 20,
   "id": "81bef9b8",
   "metadata": {},
   "outputs": [],
   "source": [
    "# Functions"
   ]
  },
  {
   "cell_type": "code",
   "execution_count": 21,
   "id": "29769c9c",
   "metadata": {},
   "outputs": [],
   "source": [
    "# To perform a specific Task in an Reusable manner"
   ]
  },
  {
   "cell_type": "code",
   "execution_count": 22,
   "id": "01356cb8",
   "metadata": {},
   "outputs": [],
   "source": [
    "#def functionname():\n",
    "    #function body\n",
    "    #return"
   ]
  },
  {
   "cell_type": "code",
   "execution_count": 23,
   "id": "ad4aa3f4",
   "metadata": {},
   "outputs": [],
   "source": [
    "def add(a,b):\n",
    "    return a+b"
   ]
  },
  {
   "cell_type": "code",
   "execution_count": 24,
   "id": "c4ebe337",
   "metadata": {},
   "outputs": [
    {
     "data": {
      "text/plain": [
       "6"
      ]
     },
     "execution_count": 24,
     "metadata": {},
     "output_type": "execute_result"
    }
   ],
   "source": [
    "add(2,4)"
   ]
  },
  {
   "cell_type": "code",
   "execution_count": 25,
   "id": "4a6a8ea2",
   "metadata": {},
   "outputs": [
    {
     "data": {
      "text/plain": [
       "8"
      ]
     },
     "execution_count": 25,
     "metadata": {},
     "output_type": "execute_result"
    }
   ],
   "source": [
    "add(3,5)"
   ]
  },
  {
   "cell_type": "code",
   "execution_count": 26,
   "id": "d986725e",
   "metadata": {},
   "outputs": [
    {
     "data": {
      "text/plain": [
       "79"
      ]
     },
     "execution_count": 26,
     "metadata": {},
     "output_type": "execute_result"
    }
   ],
   "source": [
    "add(34,45)"
   ]
  },
  {
   "cell_type": "code",
   "execution_count": 27,
   "id": "819efe0c",
   "metadata": {},
   "outputs": [
    {
     "ename": "TypeError",
     "evalue": "add() missing 2 required positional arguments: 'a' and 'b'",
     "output_type": "error",
     "traceback": [
      "\u001b[1;31m---------------------------------------------------------------------------\u001b[0m",
      "\u001b[1;31mTypeError\u001b[0m                                 Traceback (most recent call last)",
      "Cell \u001b[1;32mIn[27], line 1\u001b[0m\n\u001b[1;32m----> 1\u001b[0m \u001b[43madd\u001b[49m\u001b[43m(\u001b[49m\u001b[43m)\u001b[49m\n",
      "\u001b[1;31mTypeError\u001b[0m: add() missing 2 required positional arguments: 'a' and 'b'"
     ]
    }
   ],
   "source": [
    "add()"
   ]
  },
  {
   "cell_type": "code",
   "execution_count": 31,
   "id": "a8a6a06e",
   "metadata": {},
   "outputs": [
    {
     "data": {
      "text/plain": [
       "7"
      ]
     },
     "execution_count": 31,
     "metadata": {},
     "output_type": "execute_result"
    }
   ],
   "source": [
    "def add(a,b):\n",
    "    return a+b\n",
    "add(3,4)"
   ]
  },
  {
   "cell_type": "code",
   "execution_count": 32,
   "id": "f5b83cc9",
   "metadata": {},
   "outputs": [
    {
     "data": {
      "text/plain": [
       "2"
      ]
     },
     "execution_count": 32,
     "metadata": {},
     "output_type": "execute_result"
    }
   ],
   "source": [
    "def subtract(a,b):\n",
    "    return a-b\n",
    "subtract(4,2)"
   ]
  },
  {
   "cell_type": "code",
   "execution_count": 37,
   "id": "2403625b",
   "metadata": {},
   "outputs": [
    {
     "data": {
      "text/plain": [
       "4"
      ]
     },
     "execution_count": 37,
     "metadata": {},
     "output_type": "execute_result"
    }
   ],
   "source": [
    "def floordiv(a,b):\n",
    "    return a//b\n",
    "floordiv(9,2)"
   ]
  },
  {
   "cell_type": "code",
   "execution_count": 38,
   "id": "e00a35f4",
   "metadata": {},
   "outputs": [
    {
     "data": {
      "text/plain": [
       "8"
      ]
     },
     "execution_count": 38,
     "metadata": {},
     "output_type": "execute_result"
    }
   ],
   "source": [
    "def mul(a,b):\n",
    "    return a*b\n",
    "mul(4,2)"
   ]
  },
  {
   "cell_type": "code",
   "execution_count": 39,
   "id": "75bdb045",
   "metadata": {},
   "outputs": [],
   "source": [
    "# Function with print"
   ]
  },
  {
   "cell_type": "code",
   "execution_count": 40,
   "id": "7f8dbd4f",
   "metadata": {},
   "outputs": [
    {
     "name": "stdout",
     "output_type": "stream",
     "text": [
      "Hello Good Morning\n"
     ]
    }
   ],
   "source": [
    "def greet():\n",
    "    print(\"Hello Good Morning\")\n",
    "greet()"
   ]
  },
  {
   "cell_type": "code",
   "execution_count": 41,
   "id": "50d6fd6a",
   "metadata": {},
   "outputs": [
    {
     "name": "stdout",
     "output_type": "stream",
     "text": [
      "Hello Good Morning\n"
     ]
    }
   ],
   "source": [
    "greet()"
   ]
  },
  {
   "cell_type": "code",
   "execution_count": 42,
   "id": "8599cf4e",
   "metadata": {},
   "outputs": [
    {
     "name": "stdout",
     "output_type": "stream",
     "text": [
      "Hello Good Morning\n"
     ]
    }
   ],
   "source": [
    "greet()"
   ]
  },
  {
   "cell_type": "code",
   "execution_count": 44,
   "id": "932054d2",
   "metadata": {},
   "outputs": [
    {
     "name": "stdout",
     "output_type": "stream",
     "text": [
      "300\n"
     ]
    }
   ],
   "source": [
    "def add():\n",
    "    a=100\n",
    "    b=200\n",
    "    c=a+b\n",
    "    print(c)\n",
    "add()"
   ]
  },
  {
   "cell_type": "code",
   "execution_count": 45,
   "id": "10af21c9",
   "metadata": {},
   "outputs": [
    {
     "name": "stdout",
     "output_type": "stream",
     "text": [
      "Enter 1st number3\n",
      "Enter 2nd number4\n",
      "7\n"
     ]
    }
   ],
   "source": [
    "def tharun():\n",
    "    a=input(\"Enter 1st number\")\n",
    "    b=input(\"Enter 2nd number\")\n",
    "    c=int(a)+int(b)\n",
    "    print(c)\n",
    "tharun()"
   ]
  },
  {
   "cell_type": "code",
   "execution_count": 46,
   "id": "9b64824a",
   "metadata": {},
   "outputs": [
    {
     "data": {
      "text/plain": [
       "int"
      ]
     },
     "execution_count": 46,
     "metadata": {},
     "output_type": "execute_result"
    }
   ],
   "source": [
    "a=23\n",
    "type(a)"
   ]
  },
  {
   "cell_type": "code",
   "execution_count": 47,
   "id": "d9510942",
   "metadata": {},
   "outputs": [
    {
     "name": "stdout",
     "output_type": "stream",
     "text": [
      "Enter a number23\n"
     ]
    }
   ],
   "source": [
    "a=input(\"Enter a number\")\n"
   ]
  },
  {
   "cell_type": "code",
   "execution_count": 48,
   "id": "9e49a872",
   "metadata": {},
   "outputs": [
    {
     "data": {
      "text/plain": [
       "str"
      ]
     },
     "execution_count": 48,
     "metadata": {},
     "output_type": "execute_result"
    }
   ],
   "source": [
    "type(a)"
   ]
  },
  {
   "cell_type": "code",
   "execution_count": 49,
   "id": "b593f59c",
   "metadata": {},
   "outputs": [],
   "source": [
    "# In class how many people 4 Charan tharun Ankitha mamatha"
   ]
  },
  {
   "cell_type": "code",
   "execution_count": 50,
   "id": "8a4f56b2",
   "metadata": {},
   "outputs": [],
   "source": [
    "def intro(name):\n",
    "    print(\"hi\",name)"
   ]
  },
  {
   "cell_type": "code",
   "execution_count": 52,
   "id": "3ff3f7b6",
   "metadata": {},
   "outputs": [
    {
     "name": "stdout",
     "output_type": "stream",
     "text": [
      "hi charan\n"
     ]
    }
   ],
   "source": [
    "intro('charan')"
   ]
  },
  {
   "cell_type": "code",
   "execution_count": 53,
   "id": "ab7b69c3",
   "metadata": {},
   "outputs": [
    {
     "name": "stdout",
     "output_type": "stream",
     "text": [
      "hi mamatha\n"
     ]
    }
   ],
   "source": [
    "intro('mamatha')"
   ]
  },
  {
   "cell_type": "code",
   "execution_count": 54,
   "id": "20548e2f",
   "metadata": {},
   "outputs": [
    {
     "name": "stdout",
     "output_type": "stream",
     "text": [
      "hi tharun\n"
     ]
    }
   ],
   "source": [
    "intro(\"tharun\")"
   ]
  },
  {
   "cell_type": "code",
   "execution_count": 55,
   "id": "371e12ad",
   "metadata": {},
   "outputs": [
    {
     "name": "stdout",
     "output_type": "stream",
     "text": [
      "hi Ankitha\n"
     ]
    }
   ],
   "source": [
    "intro(\"Ankitha\")"
   ]
  },
  {
   "cell_type": "code",
   "execution_count": 56,
   "id": "90f6fb1c",
   "metadata": {},
   "outputs": [],
   "source": [
    "# Challenge 1 for today is print Good Morning in place of Hi to the same 4 people"
   ]
  },
  {
   "cell_type": "code",
   "execution_count": 58,
   "id": "9fcc5d07",
   "metadata": {},
   "outputs": [
    {
     "name": "stdout",
     "output_type": "stream",
     "text": [
      "hi saiCharan\n"
     ]
    }
   ],
   "source": [
    "# Guess the output for this below code\n",
    "def big(a,b):\n",
    "    print(\"hi\",a+b)\n",
    "big(\"sai\",\"Charan\")"
   ]
  },
  {
   "cell_type": "code",
   "execution_count": 59,
   "id": "1bf80644",
   "metadata": {},
   "outputs": [],
   "source": [
    "# Write a program to print modulous of a given number using Functions"
   ]
  },
  {
   "cell_type": "code",
   "execution_count": 60,
   "id": "22efc6fa",
   "metadata": {},
   "outputs": [
    {
     "name": "stdout",
     "output_type": "stream",
     "text": [
      "23\n"
     ]
    }
   ],
   "source": [
    "def ankitha(n):\n",
    "    if n>0:\n",
    "        print(n)\n",
    "    else:\n",
    "        print(-n)\n",
    "ankitha(-23)"
   ]
  },
  {
   "cell_type": "code",
   "execution_count": 61,
   "id": "93f1fc02",
   "metadata": {},
   "outputs": [],
   "source": [
    "# Print & Return"
   ]
  },
  {
   "cell_type": "code",
   "execution_count": 62,
   "id": "20185d9b",
   "metadata": {},
   "outputs": [],
   "source": [
    "# return\n",
    "def fullname(a,b):\n",
    "    c=a+b\n",
    "    return c\n"
   ]
  },
  {
   "cell_type": "code",
   "execution_count": 64,
   "id": "1bdef678",
   "metadata": {},
   "outputs": [],
   "source": [
    "x=fullname(\"Sai\",\"Charan\")"
   ]
  },
  {
   "cell_type": "code",
   "execution_count": 65,
   "id": "eed404a5",
   "metadata": {},
   "outputs": [
    {
     "data": {
      "text/plain": [
       "'SaiCharan'"
      ]
     },
     "execution_count": 65,
     "metadata": {},
     "output_type": "execute_result"
    }
   ],
   "source": [
    "x"
   ]
  },
  {
   "cell_type": "code",
   "execution_count": 66,
   "id": "2957f385",
   "metadata": {},
   "outputs": [],
   "source": [
    "def completename(a,b):\n",
    "    c=a+b\n",
    "    print(c)"
   ]
  },
  {
   "cell_type": "code",
   "execution_count": 67,
   "id": "69571616",
   "metadata": {},
   "outputs": [
    {
     "name": "stdout",
     "output_type": "stream",
     "text": [
      "LeelaKumari\n"
     ]
    }
   ],
   "source": [
    "z=completename(\"Leela\",\"Kumari\")"
   ]
  },
  {
   "cell_type": "code",
   "execution_count": 69,
   "id": "38236514",
   "metadata": {},
   "outputs": [
    {
     "data": {
      "text/plain": [
       "'SaiCharan'"
      ]
     },
     "execution_count": 69,
     "metadata": {},
     "output_type": "execute_result"
    }
   ],
   "source": [
    "x"
   ]
  },
  {
   "cell_type": "code",
   "execution_count": 71,
   "id": "bd996b0f",
   "metadata": {},
   "outputs": [],
   "source": [
    "#Create a function to build a basic calculator\n",
    "#Area of circle\n",
    "#Area of Rectangle\n",
    "# Area of Triangle"
   ]
  },
  {
   "cell_type": "code",
   "execution_count": 72,
   "id": "bb9ef938",
   "metadata": {},
   "outputs": [],
   "source": [
    "def calculator(a,b):\n",
    "    c=a+b\n",
    "    d=a-b\n",
    "    e=a*b\n",
    "    f=a/b\n",
    "    g=a//b\n",
    "    h=a**b\n",
    "    return c,d,e,f,g,h"
   ]
  },
  {
   "cell_type": "code",
   "execution_count": 73,
   "id": "2dda510e",
   "metadata": {},
   "outputs": [
    {
     "data": {
      "text/plain": [
       "(6, -2, 8, 0.5, 0, 16)"
      ]
     },
     "execution_count": 73,
     "metadata": {},
     "output_type": "execute_result"
    }
   ],
   "source": [
    "calculator(2,4)"
   ]
  },
  {
   "cell_type": "code",
   "execution_count": 74,
   "id": "7e2d08d6",
   "metadata": {},
   "outputs": [],
   "source": [
    "# Area of Circle 3.14*r*r"
   ]
  },
  {
   "cell_type": "code",
   "execution_count": 75,
   "id": "ba9b1074",
   "metadata": {},
   "outputs": [],
   "source": [
    "def area(a):\n",
    "    c=3.14*a*a\n",
    "    return c"
   ]
  },
  {
   "cell_type": "code",
   "execution_count": 76,
   "id": "8c24ef11",
   "metadata": {},
   "outputs": [
    {
     "data": {
      "text/plain": [
       "28.259999999999998"
      ]
     },
     "execution_count": 76,
     "metadata": {},
     "output_type": "execute_result"
    }
   ],
   "source": [
    "area(3)"
   ]
  },
  {
   "cell_type": "code",
   "execution_count": 77,
   "id": "fbd4d25f",
   "metadata": {},
   "outputs": [],
   "source": [
    "#Area of Rectangle"
   ]
  },
  {
   "cell_type": "code",
   "execution_count": 78,
   "id": "86475bff",
   "metadata": {},
   "outputs": [],
   "source": [
    "def areaofrectangle(length,width):\n",
    "    c=length*width\n",
    "    return c"
   ]
  },
  {
   "cell_type": "code",
   "execution_count": 79,
   "id": "0e54ec22",
   "metadata": {},
   "outputs": [
    {
     "data": {
      "text/plain": [
       "12"
      ]
     },
     "execution_count": 79,
     "metadata": {},
     "output_type": "execute_result"
    }
   ],
   "source": [
    "areaofrectangle(3,4)"
   ]
  },
  {
   "cell_type": "code",
   "execution_count": 80,
   "id": "2545c59d",
   "metadata": {},
   "outputs": [
    {
     "data": {
      "text/plain": [
       "6.0"
      ]
     },
     "execution_count": 80,
     "metadata": {},
     "output_type": "execute_result"
    }
   ],
   "source": [
    "# Area of Triangle 0.5*b*h\n",
    "def area(b,h):\n",
    "    c=0.5*b*h\n",
    "    return c\n",
    "area(3,4)"
   ]
  },
  {
   "cell_type": "code",
   "execution_count": 81,
   "id": "ebce6fbc",
   "metadata": {},
   "outputs": [],
   "source": [
    "# Print First 5 positive integers in Python using Functions"
   ]
  },
  {
   "cell_type": "code",
   "execution_count": 82,
   "id": "01498696",
   "metadata": {},
   "outputs": [
    {
     "name": "stdout",
     "output_type": "stream",
     "text": [
      "1\n",
      "2\n",
      "3\n",
      "4\n",
      "5\n"
     ]
    }
   ],
   "source": [
    "def num(n):\n",
    "    for i in range(1,6):\n",
    "        print(i)\n",
    "num(5)"
   ]
  },
  {
   "cell_type": "code",
   "execution_count": 83,
   "id": "70620523",
   "metadata": {},
   "outputs": [],
   "source": [
    "# Accept integer as input & Print its Square as an output"
   ]
  },
  {
   "cell_type": "code",
   "execution_count": 84,
   "id": "c3222f3e",
   "metadata": {},
   "outputs": [],
   "source": [
    "#Accept two integers as input and Print their sum as output"
   ]
  },
  {
   "cell_type": "code",
   "execution_count": 85,
   "id": "93e8019e",
   "metadata": {},
   "outputs": [],
   "source": [
    "#Accept 2 words as input and print 2 words by adding space between them "
   ]
  },
  {
   "cell_type": "code",
   "execution_count": 86,
   "id": "afd68dec",
   "metadata": {},
   "outputs": [
    {
     "name": "stdout",
     "output_type": "stream",
     "text": [
      "Enter name: sai\n",
      "Enter name: charan\n",
      "saicharan\n"
     ]
    }
   ],
   "source": [
    "def name():\n",
    "    a= input(\"Enter name: \")\n",
    "    b = input(\"Enter name: \")\n",
    "    print(a+ b)\n",
    "name()"
   ]
  },
  {
   "cell_type": "code",
   "execution_count": 87,
   "id": "5b011c9d",
   "metadata": {},
   "outputs": [
    {
     "name": "stdout",
     "output_type": "stream",
     "text": [
      "sai   charan\n"
     ]
    }
   ],
   "source": [
    "def name(first,second):\n",
    "    print(first,\" \",second)\n",
    "name(\"sai\",\"charan\")"
   ]
  },
  {
   "cell_type": "code",
   "execution_count": 88,
   "id": "4d904815",
   "metadata": {},
   "outputs": [
    {
     "name": "stdout",
     "output_type": "stream",
     "text": [
      "3\n"
     ]
    }
   ],
   "source": [
    "def interger(num1,num2):\n",
    "    c=num1+num2\n",
    "    print(c)\n",
    "interger(1,2)"
   ]
  },
  {
   "cell_type": "code",
   "execution_count": 93,
   "id": "d44b4c02",
   "metadata": {},
   "outputs": [
    {
     "name": "stdout",
     "output_type": "stream",
     "text": [
      "enter a number4\n",
      "16\n"
     ]
    }
   ],
   "source": [
    "def square():\n",
    "    a=int(input(\"enter a number\"))\n",
    "    print(a**2)\n",
    "square()"
   ]
  },
  {
   "cell_type": "code",
   "execution_count": 94,
   "id": "954032b2",
   "metadata": {},
   "outputs": [],
   "source": [
    "#Pass Statement"
   ]
  },
  {
   "cell_type": "code",
   "execution_count": 97,
   "id": "4ac88e91",
   "metadata": {},
   "outputs": [],
   "source": [
    "n=10\n",
    "if n>10:\n",
    "    pass"
   ]
  },
  {
   "cell_type": "code",
   "execution_count": 96,
   "id": "11499a87",
   "metadata": {},
   "outputs": [
    {
     "name": "stdout",
     "output_type": "stream",
     "text": [
      "c\n",
      "h\n",
      "a\n",
      "r\n",
      "a\n",
      "n\n"
     ]
    }
   ],
   "source": [
    "for i in \"charan\":\n",
    "    if i==\"a\":\n",
    "        pass\n",
    "    print(i)"
   ]
  },
  {
   "cell_type": "code",
   "execution_count": 98,
   "id": "d12f67c3",
   "metadata": {},
   "outputs": [],
   "source": [
    "# Laptops  Password \n",
    "#omsairam\n",
    "#lnecr342wd45\n",
    "#password\n",
    "#Mylife"
   ]
  },
  {
   "cell_type": "markdown",
   "id": "988777cb",
   "metadata": {},
   "source": [
    "#Accept a string as input your task is Determine if input what ever is a password or not for it to be a password \n",
    "a)It should have min 8 characters max 32 characters\n",
    "b)It should start with upper or lower case only.\n",
    "c)It should not have SPaces and * \\/ these symbols.\n",
    "d)Output of the program should be True or False"
   ]
  },
  {
   "cell_type": "code",
   "execution_count": 99,
   "id": "45c2b0ef",
   "metadata": {},
   "outputs": [],
   "source": [
    "#Accept 3 postive Integers as input and Verify pythagorean Theorem from it my output is either True or False"
   ]
  },
  {
   "cell_type": "code",
   "execution_count": 101,
   "id": "c7e5756f",
   "metadata": {},
   "outputs": [
    {
     "name": "stdout",
     "output_type": "stream",
     "text": [
      "python isSuper\n",
      "awesome\n"
     ]
    }
   ],
   "source": [
    "x=\"awesome\"\n",
    "def myfunc():\n",
    "    x=\"Super\"\n",
    "    print(\"python is\"+x)\n",
    "myfunc()\n",
    "print(x)"
   ]
  },
  {
   "cell_type": "code",
   "execution_count": 102,
   "id": "62671c83",
   "metadata": {},
   "outputs": [
    {
     "name": "stdout",
     "output_type": "stream",
     "text": [
      "Hi hello\n"
     ]
    }
   ],
   "source": [
    "def greet():\n",
    "    message=\"hello\"\n",
    "    print(\"Hi\",message)\n",
    "greet()"
   ]
  },
  {
   "cell_type": "code",
   "execution_count": 110,
   "id": "4ba385aa",
   "metadata": {},
   "outputs": [
    {
     "name": "stdout",
     "output_type": "stream",
     "text": [
      "50\n",
      "awesome\n"
     ]
    },
    {
     "ename": "NameError",
     "evalue": "name 'y' is not defined",
     "output_type": "error",
     "traceback": [
      "\u001b[1;31m---------------------------------------------------------------------------\u001b[0m",
      "\u001b[1;31mNameError\u001b[0m                                 Traceback (most recent call last)",
      "Cell \u001b[1;32mIn[110], line 7\u001b[0m\n\u001b[0;32m      5\u001b[0m add()\n\u001b[0;32m      6\u001b[0m \u001b[38;5;28mprint\u001b[39m(x)\n\u001b[1;32m----> 7\u001b[0m \u001b[38;5;28mprint\u001b[39m(\u001b[43my\u001b[49m)\n",
      "\u001b[1;31mNameError\u001b[0m: name 'y' is not defined"
     ]
    }
   ],
   "source": [
    "def add():\n",
    "    x=20\n",
    "    y=30\n",
    "    print(x+y)\n",
    "add()\n",
    "print(x)\n",
    "print(y)"
   ]
  },
  {
   "cell_type": "code",
   "execution_count": 111,
   "id": "acc5ae08",
   "metadata": {},
   "outputs": [
    {
     "name": "stdout",
     "output_type": "stream",
     "text": [
      "sum 0\n"
     ]
    }
   ],
   "source": [
    "def find_num(*numbers):\n",
    "    result=0\n",
    "    for i in numbers:\n",
    "        result+=i\n",
    "    print(\"sum\",result)\n",
    "find_num()"
   ]
  },
  {
   "cell_type": "code",
   "execution_count": 112,
   "id": "b6410cb4",
   "metadata": {},
   "outputs": [
    {
     "name": "stdout",
     "output_type": "stream",
     "text": [
      "sum 6\n"
     ]
    }
   ],
   "source": [
    "find_num(1,2,3)"
   ]
  },
  {
   "cell_type": "code",
   "execution_count": 113,
   "id": "5cc3f5f1",
   "metadata": {},
   "outputs": [
    {
     "name": "stdout",
     "output_type": "stream",
     "text": [
      "sum 21\n"
     ]
    }
   ],
   "source": [
    "find_num(1,2,3,4,5,6)"
   ]
  },
  {
   "cell_type": "code",
   "execution_count": 114,
   "id": "f163b85d",
   "metadata": {},
   "outputs": [],
   "source": [
    "def add(a=4,b=6):\n",
    "    sum=a+b\n",
    "    print(sum)"
   ]
  },
  {
   "cell_type": "code",
   "execution_count": 115,
   "id": "220768c8",
   "metadata": {},
   "outputs": [
    {
     "name": "stdout",
     "output_type": "stream",
     "text": [
      "10\n"
     ]
    }
   ],
   "source": [
    "add()"
   ]
  },
  {
   "cell_type": "code",
   "execution_count": 116,
   "id": "de350b14",
   "metadata": {},
   "outputs": [
    {
     "name": "stdout",
     "output_type": "stream",
     "text": [
      "10\n"
     ]
    }
   ],
   "source": [
    "add(2,8)"
   ]
  },
  {
   "cell_type": "code",
   "execution_count": 117,
   "id": "2b4f1c76",
   "metadata": {},
   "outputs": [
    {
     "name": "stdout",
     "output_type": "stream",
     "text": [
      "26\n"
     ]
    }
   ],
   "source": [
    "add(12,14)"
   ]
  },
  {
   "cell_type": "code",
   "execution_count": 118,
   "id": "e70fb74d",
   "metadata": {},
   "outputs": [
    {
     "name": "stdout",
     "output_type": "stream",
     "text": [
      "10\n"
     ]
    }
   ],
   "source": [
    "add()"
   ]
  },
  {
   "cell_type": "code",
   "execution_count": 119,
   "id": "14342988",
   "metadata": {},
   "outputs": [
    {
     "name": "stdout",
     "output_type": "stream",
     "text": [
      "10\n"
     ]
    }
   ],
   "source": [
    "add()"
   ]
  },
  {
   "cell_type": "code",
   "execution_count": 120,
   "id": "e2b17be7",
   "metadata": {},
   "outputs": [
    {
     "name": "stdout",
     "output_type": "stream",
     "text": [
      "10\n"
     ]
    }
   ],
   "source": [
    "add()"
   ]
  },
  {
   "cell_type": "code",
   "execution_count": 121,
   "id": "f89de148",
   "metadata": {},
   "outputs": [
    {
     "name": "stdout",
     "output_type": "stream",
     "text": [
      "27\n"
     ]
    }
   ],
   "source": [
    "add(13,14)"
   ]
  },
  {
   "cell_type": "code",
   "execution_count": 122,
   "id": "8b0a901b",
   "metadata": {},
   "outputs": [
    {
     "name": "stdout",
     "output_type": "stream",
     "text": [
      "my name is  charan\n"
     ]
    }
   ],
   "source": [
    "def name(name=\"charan\"):\n",
    "    print(\"my name is \",name)\n",
    "name()"
   ]
  },
  {
   "cell_type": "code",
   "execution_count": 123,
   "id": "ca615c88",
   "metadata": {},
   "outputs": [
    {
     "name": "stdout",
     "output_type": "stream",
     "text": [
      "my name is  Tharun\n"
     ]
    }
   ],
   "source": [
    "name(\"Tharun\")"
   ]
  },
  {
   "cell_type": "code",
   "execution_count": null,
   "id": "42c394c7",
   "metadata": {},
   "outputs": [],
   "source": []
  }
 ],
 "metadata": {
  "kernelspec": {
   "display_name": "Python 3 (ipykernel)",
   "language": "python",
   "name": "python3"
  },
  "language_info": {
   "codemirror_mode": {
    "name": "ipython",
    "version": 3
   },
   "file_extension": ".py",
   "mimetype": "text/x-python",
   "name": "python",
   "nbconvert_exporter": "python",
   "pygments_lexer": "ipython3",
   "version": "3.12.7"
  }
 },
 "nbformat": 4,
 "nbformat_minor": 5
}
