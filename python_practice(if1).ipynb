{
 "cells": [
  {
   "cell_type": "code",
   "execution_count": 8,
   "id": "d967fb50-12bf-4ccf-8451-7c5c17ef8f0f",
   "metadata": {},
   "outputs": [
    {
     "name": "stdin",
     "output_type": "stream",
     "text": [
      " 600\n",
      " 1000\n"
     ]
    },
    {
     "name": "stdout",
     "output_type": "stream",
     "text": [
      "I am unable to buy\n"
     ]
    }
   ],
   "source": [
    "mymoney=int(input())\n",
    "price=int(input())\n",
    "if price<mymoney:\n",
    "    print(\"I can able to buy\")\n",
    "if price==mymoney:\n",
    "    print(\"iam confidentally able to buy\")\n",
    "else:\n",
    "    print(\"I am unable to buy\")\n",
    "    "
   ]
  },
  {
   "cell_type": "code",
   "execution_count": 12,
   "id": "7073d6f3-ee6b-4ae6-814c-91c199110fb2",
   "metadata": {},
   "outputs": [
    {
     "name": "stdin",
     "output_type": "stream",
     "text": [
      " 900\n",
      " 1000\n"
     ]
    },
    {
     "name": "stdout",
     "output_type": "stream",
     "text": [
      "iam not able take groceries\n"
     ]
    }
   ],
   "source": [
    "groceryavailablemoney=int(input())\n",
    "\n",
    "groceryexpectedmoney=int(input())\n",
    "if groceryexpectedmoney<groceryavailablemoney:\n",
    "    print(\"i can take grocery\")\n",
    "else:\n",
    "    print(\"iam not able take groceries\")\n"
   ]
  },
  {
   "cell_type": "code",
   "execution_count": 23,
   "id": "910421eb-90de-4e72-aad4-0159cfa7478c",
   "metadata": {},
   "outputs": [
    {
     "name": "stdin",
     "output_type": "stream",
     "text": [
      " 23\n",
      " 34\n",
      " 56\n",
      " 65\n"
     ]
    },
    {
     "name": "stdout",
     "output_type": "stream",
     "text": [
      "d is logest number\n"
     ]
    }
   ],
   "source": [
    "a=int(input())\n",
    "b=int(input())\n",
    "c=int(input())                                                 #lorgest of three numbers\n",
    "d=int(input())\n",
    "if a>=b and a>=c and a>=d:\n",
    "      print(\"a is lorgest number\")\n",
    "elif b>=a and b>=c and b>=d:\n",
    "    print(\"b is lorgest number\")\n",
    "elif c>=a and c>=b and c>=d:\n",
    "    print(\"c is lorgest number\")\n",
    "else:\n",
    "    print(\"d is logest number\")\n",
    "      \n"
   ]
  },
  {
   "cell_type": "code",
   "execution_count": 24,
   "id": "a4dd1e6d-3d22-4331-b0b2-2c7f570d1b9b",
   "metadata": {
    "scrolled": true
   },
   "outputs": [
    {
     "name": "stdin",
     "output_type": "stream",
     "text": [
      " 34\n",
      " 87\n",
      " 09\n"
     ]
    },
    {
     "name": "stdout",
     "output_type": "stream",
     "text": [
      "c is lowest number\n"
     ]
    }
   ],
   "source": [
    "a=int(input())\n",
    "b=int(input())\n",
    "c=int(input())\n",
    "if a<=b and a<=c:                                                            #lowest numbers ogf three numbers\n",
    "    print(\"a is lowest number\")\n",
    "elif b<=a and b<=c:\n",
    "    print(\"b is lowest number\")\n",
    "else:\n",
    "    print(\"c is lowest number\")\n"
   ]
  },
  {
   "cell_type": "code",
   "execution_count": 11,
   "id": "67c6e31b-0c9b-4888-b6ca-66019d341c00",
   "metadata": {},
   "outputs": [
    {
     "name": "stdin",
     "output_type": "stream",
     "text": [
      " 23\n"
     ]
    },
    {
     "name": "stdout",
     "output_type": "stream",
     "text": [
      "given number is odd\n"
     ]
    }
   ],
   "source": [
    "a=int(input())\n",
    "if a%2==0:\n",
    "    print(\"given num is even\")                               # checking wheather the number is even or odd\n",
    "else:\n",
    "    print(\"given number is odd\")\n",
    "    "
   ]
  },
  {
   "cell_type": "code",
   "execution_count": 30,
   "id": "fd1e5120-39ff-4690-8d5d-00a79502aa2f",
   "metadata": {},
   "outputs": [
    {
     "data": {
      "text/plain": [
       "str"
      ]
     },
     "execution_count": 30,
     "metadata": {},
     "output_type": "execute_result"
    }
   ],
   "source": [
    "a=\"mamatha\"\n",
    "type(a)\n"
   ]
  },
  {
   "cell_type": "code",
   "execution_count": 31,
   "id": "2f47bea0-367d-4408-b5c2-77314881e79e",
   "metadata": {},
   "outputs": [
    {
     "data": {
      "text/plain": [
       "7"
      ]
     },
     "execution_count": 31,
     "metadata": {},
     "output_type": "execute_result"
    }
   ],
   "source": [
    "len(a)"
   ]
  },
  {
   "cell_type": "code",
   "execution_count": 33,
   "id": "af287469-a5bd-4381-9458-c8aa69124f5f",
   "metadata": {},
   "outputs": [
    {
     "data": {
      "text/plain": [
       "'mamatha'"
      ]
     },
     "execution_count": 33,
     "metadata": {},
     "output_type": "execute_result"
    }
   ],
   "source": [
    "a\n"
   ]
  },
  {
   "cell_type": "code",
   "execution_count": 37,
   "id": "043f882d-f0ff-4d8e-87fb-a88bb051a5d1",
   "metadata": {},
   "outputs": [
    {
     "data": {
      "text/plain": [
       "'ahtamam'"
      ]
     },
     "execution_count": 37,
     "metadata": {},
     "output_type": "execute_result"
    }
   ],
   "source": [
    "a[::-1]"
   ]
  },
  {
   "cell_type": "code",
   "execution_count": 61,
   "id": "a3f1df48-679f-45cc-a1f5-3854ab334ccc",
   "metadata": {},
   "outputs": [
    {
     "name": "stdin",
     "output_type": "stream",
     "text": [
      " 4.6\n",
      " 4.6\n"
     ]
    },
    {
     "name": "stdout",
     "output_type": "stream",
     "text": [
      "9.2\n"
     ]
    }
   ],
   "source": [
    "a = float(input())                  #adding of two numers\n",
    "b = float(input())\n",
    "sum = a + b\n",
    "print(sum )\n"
   ]
  },
  {
   "cell_type": "code",
   "execution_count": 57,
   "id": "119c9861-fcab-42e5-8524-abc22e227a95",
   "metadata": {},
   "outputs": [
    {
     "name": "stdin",
     "output_type": "stream",
     "text": [
      " 23\n",
      " 34\n"
     ]
    },
    {
     "name": "stdout",
     "output_type": "stream",
     "text": [
      "57\n"
     ]
    }
   ],
   "source": [
    "num1 = int(input())\n",
    "num2 = int(input())\n",
    "sum = num1 + num2\n",
    "print(sum)\n"
   ]
  },
  {
   "cell_type": "code",
   "execution_count": 62,
   "id": "5130e52c-55bd-40de-b976-e0204eb8956b",
   "metadata": {},
   "outputs": [
    {
     "name": "stdin",
     "output_type": "stream",
     "text": [
      " mammatha\n",
      " ankitha\n"
     ]
    },
    {
     "name": "stdout",
     "output_type": "stream",
     "text": [
      "mammathaankitha\n"
     ]
    }
   ],
   "source": [
    "num1 = str(input())\n",
    "num2 = str(input())\n",
    "sum = num1 + num2\n",
    "print(sum)"
   ]
  },
  {
   "cell_type": "code",
   "execution_count": 63,
   "id": "5188a877-b3c4-4225-9642-7026483e939a",
   "metadata": {},
   "outputs": [
    {
     "name": "stdin",
     "output_type": "stream",
     "text": [
      " 3+7j\n",
      " 3+8j\n"
     ]
    },
    {
     "name": "stdout",
     "output_type": "stream",
     "text": [
      "(6+15j)\n"
     ]
    }
   ],
   "source": [
    "num1 = complex(input())\n",
    "num2 = complex(input())\n",
    "sum = num1 + num2\n",
    "print(sum)"
   ]
  },
  {
   "cell_type": "code",
   "execution_count": null,
   "id": "3eb91deb-67c8-45bf-b068-03e409e343d7",
   "metadata": {},
   "outputs": [],
   "source": [
    "a=int(input())\n",
    "if a>=0:                                                    \n",
    "    print(\"number is positive\")                              # checking number is positive ir negative\n",
    "else:\n",
    "    print(\"number is negetive\")"
   ]
  },
  {
   "cell_type": "code",
   "execution_count": 69,
   "id": "2f776951-e94d-444c-b6e6-dbb4bdfb5a55",
   "metadata": {},
   "outputs": [
    {
     "name": "stdin",
     "output_type": "stream",
     "text": [
      " 2003\n"
     ]
    },
    {
     "name": "stdout",
     "output_type": "stream",
     "text": [
      "the year is not a leap year\n"
     ]
    }
   ],
   "source": [
    "a=int(input())\n",
    "if a%4==0:\n",
    "    print (\"the year is leap year\")                      #checking the year is leap year or not\n",
    "else:\n",
    "    print(\"the year is not a leap year\")"
   ]
  },
  {
   "cell_type": "code",
   "execution_count": 77,
   "id": "eaf2bb73-d307-402e-943d-555ef5933fe2",
   "metadata": {},
   "outputs": [
    {
     "name": "stdin",
     "output_type": "stream",
     "text": [
      "Enter your age: 79\n"
     ]
    },
    {
     "name": "stdout",
     "output_type": "stream",
     "text": [
      "You are old enough to drive\n"
     ]
    }
   ],
   "source": [
    "a=int(input(\"Enter your age:\"))\n",
    "if a>=18:\n",
    "    print(\"You are old enough to drive\")\n",
    "else:\n",
    "    print(\"feedback to wait for the missing amount of years\")\n",
    "    "
   ]
  },
  {
   "cell_type": "code",
   "execution_count": 43,
   "id": "d98e300d-6004-4eb9-87e0-df5f1ceabf56",
   "metadata": {},
   "outputs": [
    {
     "name": "stdin",
     "output_type": "stream",
     "text": [
      "Enter my age: 34\n",
      "Enter your age: 45\n"
     ]
    },
    {
     "name": "stdout",
     "output_type": "stream",
     "text": [
      "you are bigger than me\n"
     ]
    }
   ],
   "source": [
    "my_age=int(input(\"Enter my age:\"))\n",
    "your_age=int(input(\"Enter your age:\"))\n",
    "if my_age>your_age:\n",
    "    print(\"me as bigger than you\")\n",
    "elif my_age==your_age:\n",
    "        print(\"both are same age\")\n",
    "else:\n",
    "    print(\"you are bigger than me\")"
   ]
  },
  {
   "cell_type": "code",
   "execution_count": 38,
   "id": "06c8e1a9-b7ef-476a-95d6-e9319498cf6c",
   "metadata": {},
   "outputs": [
    {
     "ename": "NameError",
     "evalue": "name 'january' is not defined",
     "output_type": "error",
     "traceback": [
      "\u001b[1;31m---------------------------------------------------------------------------\u001b[0m",
      "\u001b[1;31mNameError\u001b[0m                                 Traceback (most recent call last)",
      "Cell \u001b[1;32mIn[38], line 1\u001b[0m\n\u001b[1;32m----> 1\u001b[0m month\u001b[38;5;241m=\u001b[39m{january, October, November,june,July,August,December, september,February,March, April,May}\n\u001b[0;32m      2\u001b[0m \u001b[38;5;28;01mif\u001b[39;00m month\u001b[38;5;241m==\u001b[39m(\u001b[38;5;28minput\u001b[39m(\u001b[38;5;124m\"\u001b[39m\u001b[38;5;124mEnter your month\u001b[39m\u001b[38;5;124m\"\u001b[39m)):\n\u001b[0;32m      3\u001b[0m     \u001b[38;5;28mprint\u001b[39m(\u001b[38;5;124m\"\u001b[39m\u001b[38;5;124mautumn\u001b[39m\u001b[38;5;124m\"\u001b[39m)\n",
      "\u001b[1;31mNameError\u001b[0m: name 'january' is not defined"
     ]
    }
   ],
   "source": [
    "month={january, October, November,june,July,August,December, september,February,March, April,May}\n",
    "if month==(input(\"Enter your month\")):\n",
    "    print(\"autumn\")\n",
    "elif month in( june,July,August):\n",
    "    print(\"Summer\")\n",
    "elif month in(December, January ,February):\n",
    "    print(\"Winter\")\n",
    "else:\n",
    "    print(\"Spring\")\n"
   ]
  },
  {
   "cell_type": "code",
   "execution_count": 109,
   "id": "f58c8c42-8c53-4eb4-90ed-cfff2308abca",
   "metadata": {},
   "outputs": [
    {
     "name": "stdin",
     "output_type": "stream",
     "text": [
      "Enter your marks 34\n"
     ]
    },
    {
     "name": "stdout",
     "output_type": "stream",
     "text": [
      "fail\n"
     ]
    }
   ],
   "source": [
    "a=int(input(\"Enter your marks\"))\n",
    "if a==100:\n",
    "    print(\"you got A+\")\n",
    "elif a>=90:\n",
    "    print(\"you got A\")\n",
    "elif a>=85:\n",
    "    print(\" you got B+\")\n",
    "elif a>=75:\n",
    "     print(\" you got B\")\n",
    "elif a>=65: \n",
    "     print(\" you got C\")\n",
    "elif a>=55:\n",
    "      print(\" you got D\")\n",
    "elif a>=35:\n",
    "      print(\" you got E\")\n",
    "else:\n",
    "      print (\"fail\")\n",
    "     \n",
    "    "
   ]
  },
  {
   "cell_type": "code",
   "execution_count": null,
   "id": "af8c7349-1596-4e8a-baa8-ee64043ed908",
   "metadata": {},
   "outputs": [],
   "source": []
  }
 ],
 "metadata": {
  "kernelspec": {
   "display_name": "Python 3 (ipykernel)",
   "language": "python",
   "name": "python3"
  },
  "language_info": {
   "codemirror_mode": {
    "name": "ipython",
    "version": 3
   },
   "file_extension": ".py",
   "mimetype": "text/x-python",
   "name": "python",
   "nbconvert_exporter": "python",
   "pygments_lexer": "ipython3",
   "version": "3.12.7"
  }
 },
 "nbformat": 4,
 "nbformat_minor": 5
}
